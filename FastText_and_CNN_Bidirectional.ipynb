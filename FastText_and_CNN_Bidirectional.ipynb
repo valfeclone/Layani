{
  "nbformat": 4,
  "nbformat_minor": 0,
  "metadata": {
    "colab": {
      "name": "FastText and CNN-Bidirectional.ipynb",
      "provenance": [],
      "collapsed_sections": [
        "3M9kY9nMQMVC",
        "vRub1_ljK2nc",
        "U2z_ZSY4RVvM",
        "WqBOgH6zt6n2"
      ],
      "toc_visible": true
    },
    "kernelspec": {
      "display_name": "Python 3",
      "name": "python3"
    },
    "language_info": {
      "name": "python"
    },
    "widgets": {
      "application/vnd.jupyter.widget-state+json": {
        "a59f5f781e544240989070d1cbbfdec4": {
          "model_module": "@jupyter-widgets/controls",
          "model_name": "HBoxModel",
          "state": {
            "_view_name": "HBoxView",
            "_dom_classes": [],
            "_model_name": "HBoxModel",
            "_view_module": "@jupyter-widgets/controls",
            "_model_module_version": "1.5.0",
            "_view_count": null,
            "_view_module_version": "1.5.0",
            "box_style": "",
            "layout": "IPY_MODEL_cc766e0862234d328376ce5d31a1e3a2",
            "_model_module": "@jupyter-widgets/controls",
            "children": [
              "IPY_MODEL_43819c6a026a477fa20c9e0171c55a75",
              "IPY_MODEL_d573904437f94e35a8d39ca133f1c837"
            ]
          }
        },
        "cc766e0862234d328376ce5d31a1e3a2": {
          "model_module": "@jupyter-widgets/base",
          "model_name": "LayoutModel",
          "state": {
            "_view_name": "LayoutView",
            "grid_template_rows": null,
            "right": null,
            "justify_content": null,
            "_view_module": "@jupyter-widgets/base",
            "overflow": null,
            "_model_module_version": "1.2.0",
            "_view_count": null,
            "flex_flow": null,
            "width": null,
            "min_width": null,
            "border": null,
            "align_items": null,
            "bottom": null,
            "_model_module": "@jupyter-widgets/base",
            "top": null,
            "grid_column": null,
            "overflow_y": null,
            "overflow_x": null,
            "grid_auto_flow": null,
            "grid_area": null,
            "grid_template_columns": null,
            "flex": null,
            "_model_name": "LayoutModel",
            "justify_items": null,
            "grid_row": null,
            "max_height": null,
            "align_content": null,
            "visibility": null,
            "align_self": null,
            "height": null,
            "min_height": null,
            "padding": null,
            "grid_auto_rows": null,
            "grid_gap": null,
            "max_width": null,
            "order": null,
            "_view_module_version": "1.2.0",
            "grid_template_areas": null,
            "object_position": null,
            "object_fit": null,
            "grid_auto_columns": null,
            "margin": null,
            "display": null,
            "left": null
          }
        },
        "43819c6a026a477fa20c9e0171c55a75": {
          "model_module": "@jupyter-widgets/controls",
          "model_name": "FloatProgressModel",
          "state": {
            "_view_name": "ProgressView",
            "style": "IPY_MODEL_76e1d5c7023d4bdd93b922873f05f667",
            "_dom_classes": [],
            "description": "Pandas Apply: 100%",
            "_model_name": "FloatProgressModel",
            "bar_style": "success",
            "max": 1773,
            "_view_module": "@jupyter-widgets/controls",
            "_model_module_version": "1.5.0",
            "value": 1773,
            "_view_count": null,
            "_view_module_version": "1.5.0",
            "orientation": "horizontal",
            "min": 0,
            "description_tooltip": null,
            "_model_module": "@jupyter-widgets/controls",
            "layout": "IPY_MODEL_0ba20142b61449f29c6f5f43ef93b721"
          }
        },
        "d573904437f94e35a8d39ca133f1c837": {
          "model_module": "@jupyter-widgets/controls",
          "model_name": "HTMLModel",
          "state": {
            "_view_name": "HTMLView",
            "style": "IPY_MODEL_40ca99c027664a2c96e1c232d16f0c6b",
            "_dom_classes": [],
            "description": "",
            "_model_name": "HTMLModel",
            "placeholder": "​",
            "_view_module": "@jupyter-widgets/controls",
            "_model_module_version": "1.5.0",
            "value": " 1773/1773 [00:24&lt;00:00, 73.55it/s]",
            "_view_count": null,
            "_view_module_version": "1.5.0",
            "description_tooltip": null,
            "_model_module": "@jupyter-widgets/controls",
            "layout": "IPY_MODEL_9a39f87fa0d4472384e7997ab1562583"
          }
        },
        "76e1d5c7023d4bdd93b922873f05f667": {
          "model_module": "@jupyter-widgets/controls",
          "model_name": "ProgressStyleModel",
          "state": {
            "_view_name": "StyleView",
            "_model_name": "ProgressStyleModel",
            "description_width": "initial",
            "_view_module": "@jupyter-widgets/base",
            "_model_module_version": "1.5.0",
            "_view_count": null,
            "_view_module_version": "1.2.0",
            "bar_color": null,
            "_model_module": "@jupyter-widgets/controls"
          }
        },
        "0ba20142b61449f29c6f5f43ef93b721": {
          "model_module": "@jupyter-widgets/base",
          "model_name": "LayoutModel",
          "state": {
            "_view_name": "LayoutView",
            "grid_template_rows": null,
            "right": null,
            "justify_content": null,
            "_view_module": "@jupyter-widgets/base",
            "overflow": null,
            "_model_module_version": "1.2.0",
            "_view_count": null,
            "flex_flow": null,
            "width": null,
            "min_width": null,
            "border": null,
            "align_items": null,
            "bottom": null,
            "_model_module": "@jupyter-widgets/base",
            "top": null,
            "grid_column": null,
            "overflow_y": null,
            "overflow_x": null,
            "grid_auto_flow": null,
            "grid_area": null,
            "grid_template_columns": null,
            "flex": null,
            "_model_name": "LayoutModel",
            "justify_items": null,
            "grid_row": null,
            "max_height": null,
            "align_content": null,
            "visibility": null,
            "align_self": null,
            "height": null,
            "min_height": null,
            "padding": null,
            "grid_auto_rows": null,
            "grid_gap": null,
            "max_width": null,
            "order": null,
            "_view_module_version": "1.2.0",
            "grid_template_areas": null,
            "object_position": null,
            "object_fit": null,
            "grid_auto_columns": null,
            "margin": null,
            "display": null,
            "left": null
          }
        },
        "40ca99c027664a2c96e1c232d16f0c6b": {
          "model_module": "@jupyter-widgets/controls",
          "model_name": "DescriptionStyleModel",
          "state": {
            "_view_name": "StyleView",
            "_model_name": "DescriptionStyleModel",
            "description_width": "",
            "_view_module": "@jupyter-widgets/base",
            "_model_module_version": "1.5.0",
            "_view_count": null,
            "_view_module_version": "1.2.0",
            "_model_module": "@jupyter-widgets/controls"
          }
        },
        "9a39f87fa0d4472384e7997ab1562583": {
          "model_module": "@jupyter-widgets/base",
          "model_name": "LayoutModel",
          "state": {
            "_view_name": "LayoutView",
            "grid_template_rows": null,
            "right": null,
            "justify_content": null,
            "_view_module": "@jupyter-widgets/base",
            "overflow": null,
            "_model_module_version": "1.2.0",
            "_view_count": null,
            "flex_flow": null,
            "width": null,
            "min_width": null,
            "border": null,
            "align_items": null,
            "bottom": null,
            "_model_module": "@jupyter-widgets/base",
            "top": null,
            "grid_column": null,
            "overflow_y": null,
            "overflow_x": null,
            "grid_auto_flow": null,
            "grid_area": null,
            "grid_template_columns": null,
            "flex": null,
            "_model_name": "LayoutModel",
            "justify_items": null,
            "grid_row": null,
            "max_height": null,
            "align_content": null,
            "visibility": null,
            "align_self": null,
            "height": null,
            "min_height": null,
            "padding": null,
            "grid_auto_rows": null,
            "grid_gap": null,
            "max_width": null,
            "order": null,
            "_view_module_version": "1.2.0",
            "grid_template_areas": null,
            "object_position": null,
            "object_fit": null,
            "grid_auto_columns": null,
            "margin": null,
            "display": null,
            "left": null
          }
        },
        "cd867ef4543e49b39e4275bb3a92ca80": {
          "model_module": "@jupyter-widgets/controls",
          "model_name": "HBoxModel",
          "state": {
            "_view_name": "HBoxView",
            "_dom_classes": [],
            "_model_name": "HBoxModel",
            "_view_module": "@jupyter-widgets/controls",
            "_model_module_version": "1.5.0",
            "_view_count": null,
            "_view_module_version": "1.5.0",
            "box_style": "",
            "layout": "IPY_MODEL_7ff356f8e55f4e01bce28029c49bece7",
            "_model_module": "@jupyter-widgets/controls",
            "children": [
              "IPY_MODEL_59b43e1a61f945fbbf4a18e2f0a83493",
              "IPY_MODEL_fabc21d119614a38b8f9728a91115118"
            ]
          }
        },
        "7ff356f8e55f4e01bce28029c49bece7": {
          "model_module": "@jupyter-widgets/base",
          "model_name": "LayoutModel",
          "state": {
            "_view_name": "LayoutView",
            "grid_template_rows": null,
            "right": null,
            "justify_content": null,
            "_view_module": "@jupyter-widgets/base",
            "overflow": null,
            "_model_module_version": "1.2.0",
            "_view_count": null,
            "flex_flow": null,
            "width": null,
            "min_width": null,
            "border": null,
            "align_items": null,
            "bottom": null,
            "_model_module": "@jupyter-widgets/base",
            "top": null,
            "grid_column": null,
            "overflow_y": null,
            "overflow_x": null,
            "grid_auto_flow": null,
            "grid_area": null,
            "grid_template_columns": null,
            "flex": null,
            "_model_name": "LayoutModel",
            "justify_items": null,
            "grid_row": null,
            "max_height": null,
            "align_content": null,
            "visibility": null,
            "align_self": null,
            "height": null,
            "min_height": null,
            "padding": null,
            "grid_auto_rows": null,
            "grid_gap": null,
            "max_width": null,
            "order": null,
            "_view_module_version": "1.2.0",
            "grid_template_areas": null,
            "object_position": null,
            "object_fit": null,
            "grid_auto_columns": null,
            "margin": null,
            "display": null,
            "left": null
          }
        },
        "59b43e1a61f945fbbf4a18e2f0a83493": {
          "model_module": "@jupyter-widgets/controls",
          "model_name": "FloatProgressModel",
          "state": {
            "_view_name": "ProgressView",
            "style": "IPY_MODEL_e9ceffc9940c4a9d99916774c97e241f",
            "_dom_classes": [],
            "description": "Pandas Apply: 100%",
            "_model_name": "FloatProgressModel",
            "bar_style": "success",
            "max": 1773,
            "_view_module": "@jupyter-widgets/controls",
            "_model_module_version": "1.5.0",
            "value": 1773,
            "_view_count": null,
            "_view_module_version": "1.5.0",
            "orientation": "horizontal",
            "min": 0,
            "description_tooltip": null,
            "_model_module": "@jupyter-widgets/controls",
            "layout": "IPY_MODEL_3c88ebb2ea3547088524db6b35ba0cc5"
          }
        },
        "fabc21d119614a38b8f9728a91115118": {
          "model_module": "@jupyter-widgets/controls",
          "model_name": "HTMLModel",
          "state": {
            "_view_name": "HTMLView",
            "style": "IPY_MODEL_b6536a3f7f2d43e9ac847c034af16b0c",
            "_dom_classes": [],
            "description": "",
            "_model_name": "HTMLModel",
            "placeholder": "​",
            "_view_module": "@jupyter-widgets/controls",
            "_model_module_version": "1.5.0",
            "value": " 1773/1773 [09:18&lt;00:00,  3.18it/s]",
            "_view_count": null,
            "_view_module_version": "1.5.0",
            "description_tooltip": null,
            "_model_module": "@jupyter-widgets/controls",
            "layout": "IPY_MODEL_c2a51640f8ed4fc99b6a5efd37952dcd"
          }
        },
        "e9ceffc9940c4a9d99916774c97e241f": {
          "model_module": "@jupyter-widgets/controls",
          "model_name": "ProgressStyleModel",
          "state": {
            "_view_name": "StyleView",
            "_model_name": "ProgressStyleModel",
            "description_width": "initial",
            "_view_module": "@jupyter-widgets/base",
            "_model_module_version": "1.5.0",
            "_view_count": null,
            "_view_module_version": "1.2.0",
            "bar_color": null,
            "_model_module": "@jupyter-widgets/controls"
          }
        },
        "3c88ebb2ea3547088524db6b35ba0cc5": {
          "model_module": "@jupyter-widgets/base",
          "model_name": "LayoutModel",
          "state": {
            "_view_name": "LayoutView",
            "grid_template_rows": null,
            "right": null,
            "justify_content": null,
            "_view_module": "@jupyter-widgets/base",
            "overflow": null,
            "_model_module_version": "1.2.0",
            "_view_count": null,
            "flex_flow": null,
            "width": null,
            "min_width": null,
            "border": null,
            "align_items": null,
            "bottom": null,
            "_model_module": "@jupyter-widgets/base",
            "top": null,
            "grid_column": null,
            "overflow_y": null,
            "overflow_x": null,
            "grid_auto_flow": null,
            "grid_area": null,
            "grid_template_columns": null,
            "flex": null,
            "_model_name": "LayoutModel",
            "justify_items": null,
            "grid_row": null,
            "max_height": null,
            "align_content": null,
            "visibility": null,
            "align_self": null,
            "height": null,
            "min_height": null,
            "padding": null,
            "grid_auto_rows": null,
            "grid_gap": null,
            "max_width": null,
            "order": null,
            "_view_module_version": "1.2.0",
            "grid_template_areas": null,
            "object_position": null,
            "object_fit": null,
            "grid_auto_columns": null,
            "margin": null,
            "display": null,
            "left": null
          }
        },
        "b6536a3f7f2d43e9ac847c034af16b0c": {
          "model_module": "@jupyter-widgets/controls",
          "model_name": "DescriptionStyleModel",
          "state": {
            "_view_name": "StyleView",
            "_model_name": "DescriptionStyleModel",
            "description_width": "",
            "_view_module": "@jupyter-widgets/base",
            "_model_module_version": "1.5.0",
            "_view_count": null,
            "_view_module_version": "1.2.0",
            "_model_module": "@jupyter-widgets/controls"
          }
        },
        "c2a51640f8ed4fc99b6a5efd37952dcd": {
          "model_module": "@jupyter-widgets/base",
          "model_name": "LayoutModel",
          "state": {
            "_view_name": "LayoutView",
            "grid_template_rows": null,
            "right": null,
            "justify_content": null,
            "_view_module": "@jupyter-widgets/base",
            "overflow": null,
            "_model_module_version": "1.2.0",
            "_view_count": null,
            "flex_flow": null,
            "width": null,
            "min_width": null,
            "border": null,
            "align_items": null,
            "bottom": null,
            "_model_module": "@jupyter-widgets/base",
            "top": null,
            "grid_column": null,
            "overflow_y": null,
            "overflow_x": null,
            "grid_auto_flow": null,
            "grid_area": null,
            "grid_template_columns": null,
            "flex": null,
            "_model_name": "LayoutModel",
            "justify_items": null,
            "grid_row": null,
            "max_height": null,
            "align_content": null,
            "visibility": null,
            "align_self": null,
            "height": null,
            "min_height": null,
            "padding": null,
            "grid_auto_rows": null,
            "grid_gap": null,
            "max_width": null,
            "order": null,
            "_view_module_version": "1.2.0",
            "grid_template_areas": null,
            "object_position": null,
            "object_fit": null,
            "grid_auto_columns": null,
            "margin": null,
            "display": null,
            "left": null
          }
        },
        "5f71ef83cd5f453bbbd4dba00e0fd55d": {
          "model_module": "@jupyter-widgets/controls",
          "model_name": "HBoxModel",
          "state": {
            "_view_name": "HBoxView",
            "_dom_classes": [],
            "_model_name": "HBoxModel",
            "_view_module": "@jupyter-widgets/controls",
            "_model_module_version": "1.5.0",
            "_view_count": null,
            "_view_module_version": "1.5.0",
            "box_style": "",
            "layout": "IPY_MODEL_dfd1f2327e514d9d8439fa000335bc88",
            "_model_module": "@jupyter-widgets/controls",
            "children": [
              "IPY_MODEL_0371a399f8fc47cdbea5e05b4fae5730",
              "IPY_MODEL_3fd4539b5eca490b8fee96373ade0694"
            ]
          }
        },
        "dfd1f2327e514d9d8439fa000335bc88": {
          "model_module": "@jupyter-widgets/base",
          "model_name": "LayoutModel",
          "state": {
            "_view_name": "LayoutView",
            "grid_template_rows": null,
            "right": null,
            "justify_content": null,
            "_view_module": "@jupyter-widgets/base",
            "overflow": null,
            "_model_module_version": "1.2.0",
            "_view_count": null,
            "flex_flow": null,
            "width": null,
            "min_width": null,
            "border": null,
            "align_items": null,
            "bottom": null,
            "_model_module": "@jupyter-widgets/base",
            "top": null,
            "grid_column": null,
            "overflow_y": null,
            "overflow_x": null,
            "grid_auto_flow": null,
            "grid_area": null,
            "grid_template_columns": null,
            "flex": null,
            "_model_name": "LayoutModel",
            "justify_items": null,
            "grid_row": null,
            "max_height": null,
            "align_content": null,
            "visibility": null,
            "align_self": null,
            "height": null,
            "min_height": null,
            "padding": null,
            "grid_auto_rows": null,
            "grid_gap": null,
            "max_width": null,
            "order": null,
            "_view_module_version": "1.2.0",
            "grid_template_areas": null,
            "object_position": null,
            "object_fit": null,
            "grid_auto_columns": null,
            "margin": null,
            "display": null,
            "left": null
          }
        },
        "0371a399f8fc47cdbea5e05b4fae5730": {
          "model_module": "@jupyter-widgets/controls",
          "model_name": "FloatProgressModel",
          "state": {
            "_view_name": "ProgressView",
            "style": "IPY_MODEL_7faeb1cfb7df4760920b3f09214042c8",
            "_dom_classes": [],
            "description": "Pandas Apply: 100%",
            "_model_name": "FloatProgressModel",
            "bar_style": "success",
            "max": 1773,
            "_view_module": "@jupyter-widgets/controls",
            "_model_module_version": "1.5.0",
            "value": 1773,
            "_view_count": null,
            "_view_module_version": "1.5.0",
            "orientation": "horizontal",
            "min": 0,
            "description_tooltip": null,
            "_model_module": "@jupyter-widgets/controls",
            "layout": "IPY_MODEL_11fbe7c0d904419baee713d1a8597b7d"
          }
        },
        "3fd4539b5eca490b8fee96373ade0694": {
          "model_module": "@jupyter-widgets/controls",
          "model_name": "HTMLModel",
          "state": {
            "_view_name": "HTMLView",
            "style": "IPY_MODEL_13ca07dc51cf4e13b1cad8bf18dbc431",
            "_dom_classes": [],
            "description": "",
            "_model_name": "HTMLModel",
            "placeholder": "​",
            "_view_module": "@jupyter-widgets/controls",
            "_model_module_version": "1.5.0",
            "value": " 1773/1773 [01:59&lt;00:00, 14.87it/s]",
            "_view_count": null,
            "_view_module_version": "1.5.0",
            "description_tooltip": null,
            "_model_module": "@jupyter-widgets/controls",
            "layout": "IPY_MODEL_50d8abe718d041c3866c814dc7510752"
          }
        },
        "7faeb1cfb7df4760920b3f09214042c8": {
          "model_module": "@jupyter-widgets/controls",
          "model_name": "ProgressStyleModel",
          "state": {
            "_view_name": "StyleView",
            "_model_name": "ProgressStyleModel",
            "description_width": "initial",
            "_view_module": "@jupyter-widgets/base",
            "_model_module_version": "1.5.0",
            "_view_count": null,
            "_view_module_version": "1.2.0",
            "bar_color": null,
            "_model_module": "@jupyter-widgets/controls"
          }
        },
        "11fbe7c0d904419baee713d1a8597b7d": {
          "model_module": "@jupyter-widgets/base",
          "model_name": "LayoutModel",
          "state": {
            "_view_name": "LayoutView",
            "grid_template_rows": null,
            "right": null,
            "justify_content": null,
            "_view_module": "@jupyter-widgets/base",
            "overflow": null,
            "_model_module_version": "1.2.0",
            "_view_count": null,
            "flex_flow": null,
            "width": null,
            "min_width": null,
            "border": null,
            "align_items": null,
            "bottom": null,
            "_model_module": "@jupyter-widgets/base",
            "top": null,
            "grid_column": null,
            "overflow_y": null,
            "overflow_x": null,
            "grid_auto_flow": null,
            "grid_area": null,
            "grid_template_columns": null,
            "flex": null,
            "_model_name": "LayoutModel",
            "justify_items": null,
            "grid_row": null,
            "max_height": null,
            "align_content": null,
            "visibility": null,
            "align_self": null,
            "height": null,
            "min_height": null,
            "padding": null,
            "grid_auto_rows": null,
            "grid_gap": null,
            "max_width": null,
            "order": null,
            "_view_module_version": "1.2.0",
            "grid_template_areas": null,
            "object_position": null,
            "object_fit": null,
            "grid_auto_columns": null,
            "margin": null,
            "display": null,
            "left": null
          }
        },
        "13ca07dc51cf4e13b1cad8bf18dbc431": {
          "model_module": "@jupyter-widgets/controls",
          "model_name": "DescriptionStyleModel",
          "state": {
            "_view_name": "StyleView",
            "_model_name": "DescriptionStyleModel",
            "description_width": "",
            "_view_module": "@jupyter-widgets/base",
            "_model_module_version": "1.5.0",
            "_view_count": null,
            "_view_module_version": "1.2.0",
            "_model_module": "@jupyter-widgets/controls"
          }
        },
        "50d8abe718d041c3866c814dc7510752": {
          "model_module": "@jupyter-widgets/base",
          "model_name": "LayoutModel",
          "state": {
            "_view_name": "LayoutView",
            "grid_template_rows": null,
            "right": null,
            "justify_content": null,
            "_view_module": "@jupyter-widgets/base",
            "overflow": null,
            "_model_module_version": "1.2.0",
            "_view_count": null,
            "flex_flow": null,
            "width": null,
            "min_width": null,
            "border": null,
            "align_items": null,
            "bottom": null,
            "_model_module": "@jupyter-widgets/base",
            "top": null,
            "grid_column": null,
            "overflow_y": null,
            "overflow_x": null,
            "grid_auto_flow": null,
            "grid_area": null,
            "grid_template_columns": null,
            "flex": null,
            "_model_name": "LayoutModel",
            "justify_items": null,
            "grid_row": null,
            "max_height": null,
            "align_content": null,
            "visibility": null,
            "align_self": null,
            "height": null,
            "min_height": null,
            "padding": null,
            "grid_auto_rows": null,
            "grid_gap": null,
            "max_width": null,
            "order": null,
            "_view_module_version": "1.2.0",
            "grid_template_areas": null,
            "object_position": null,
            "object_fit": null,
            "grid_auto_columns": null,
            "margin": null,
            "display": null,
            "left": null
          }
        },
        "844429b9ce27491dbe391b11a31d79ec": {
          "model_module": "@jupyter-widgets/controls",
          "model_name": "HBoxModel",
          "state": {
            "_view_name": "HBoxView",
            "_dom_classes": [],
            "_model_name": "HBoxModel",
            "_view_module": "@jupyter-widgets/controls",
            "_model_module_version": "1.5.0",
            "_view_count": null,
            "_view_module_version": "1.5.0",
            "box_style": "",
            "layout": "IPY_MODEL_e8a887315ecf4bfca4f236f33a6ffa03",
            "_model_module": "@jupyter-widgets/controls",
            "children": [
              "IPY_MODEL_9b5b4065c215477592d72f8ba6164e5e",
              "IPY_MODEL_4024d8efa8bb4416a6301b56159ae852"
            ]
          }
        },
        "e8a887315ecf4bfca4f236f33a6ffa03": {
          "model_module": "@jupyter-widgets/base",
          "model_name": "LayoutModel",
          "state": {
            "_view_name": "LayoutView",
            "grid_template_rows": null,
            "right": null,
            "justify_content": null,
            "_view_module": "@jupyter-widgets/base",
            "overflow": null,
            "_model_module_version": "1.2.0",
            "_view_count": null,
            "flex_flow": null,
            "width": null,
            "min_width": null,
            "border": null,
            "align_items": null,
            "bottom": null,
            "_model_module": "@jupyter-widgets/base",
            "top": null,
            "grid_column": null,
            "overflow_y": null,
            "overflow_x": null,
            "grid_auto_flow": null,
            "grid_area": null,
            "grid_template_columns": null,
            "flex": null,
            "_model_name": "LayoutModel",
            "justify_items": null,
            "grid_row": null,
            "max_height": null,
            "align_content": null,
            "visibility": null,
            "align_self": null,
            "height": null,
            "min_height": null,
            "padding": null,
            "grid_auto_rows": null,
            "grid_gap": null,
            "max_width": null,
            "order": null,
            "_view_module_version": "1.2.0",
            "grid_template_areas": null,
            "object_position": null,
            "object_fit": null,
            "grid_auto_columns": null,
            "margin": null,
            "display": null,
            "left": null
          }
        },
        "9b5b4065c215477592d72f8ba6164e5e": {
          "model_module": "@jupyter-widgets/controls",
          "model_name": "FloatProgressModel",
          "state": {
            "_view_name": "ProgressView",
            "style": "IPY_MODEL_3641b2e8ee1c452d90fbf5322fa52c55",
            "_dom_classes": [],
            "description": "Pandas Apply: 100%",
            "_model_name": "FloatProgressModel",
            "bar_style": "success",
            "max": 1773,
            "_view_module": "@jupyter-widgets/controls",
            "_model_module_version": "1.5.0",
            "value": 1773,
            "_view_count": null,
            "_view_module_version": "1.5.0",
            "orientation": "horizontal",
            "min": 0,
            "description_tooltip": null,
            "_model_module": "@jupyter-widgets/controls",
            "layout": "IPY_MODEL_f1454b93651c44be999200fdd7c89907"
          }
        },
        "4024d8efa8bb4416a6301b56159ae852": {
          "model_module": "@jupyter-widgets/controls",
          "model_name": "HTMLModel",
          "state": {
            "_view_name": "HTMLView",
            "style": "IPY_MODEL_e252b30dbd2c47378c751644ce3cbf51",
            "_dom_classes": [],
            "description": "",
            "_model_name": "HTMLModel",
            "placeholder": "​",
            "_view_module": "@jupyter-widgets/controls",
            "_model_module_version": "1.5.0",
            "value": " 1773/1773 [00:12&lt;00:00, 137.04it/s]",
            "_view_count": null,
            "_view_module_version": "1.5.0",
            "description_tooltip": null,
            "_model_module": "@jupyter-widgets/controls",
            "layout": "IPY_MODEL_9ff63b7a9e074790bf867eba6042b669"
          }
        },
        "3641b2e8ee1c452d90fbf5322fa52c55": {
          "model_module": "@jupyter-widgets/controls",
          "model_name": "ProgressStyleModel",
          "state": {
            "_view_name": "StyleView",
            "_model_name": "ProgressStyleModel",
            "description_width": "initial",
            "_view_module": "@jupyter-widgets/base",
            "_model_module_version": "1.5.0",
            "_view_count": null,
            "_view_module_version": "1.2.0",
            "bar_color": null,
            "_model_module": "@jupyter-widgets/controls"
          }
        },
        "f1454b93651c44be999200fdd7c89907": {
          "model_module": "@jupyter-widgets/base",
          "model_name": "LayoutModel",
          "state": {
            "_view_name": "LayoutView",
            "grid_template_rows": null,
            "right": null,
            "justify_content": null,
            "_view_module": "@jupyter-widgets/base",
            "overflow": null,
            "_model_module_version": "1.2.0",
            "_view_count": null,
            "flex_flow": null,
            "width": null,
            "min_width": null,
            "border": null,
            "align_items": null,
            "bottom": null,
            "_model_module": "@jupyter-widgets/base",
            "top": null,
            "grid_column": null,
            "overflow_y": null,
            "overflow_x": null,
            "grid_auto_flow": null,
            "grid_area": null,
            "grid_template_columns": null,
            "flex": null,
            "_model_name": "LayoutModel",
            "justify_items": null,
            "grid_row": null,
            "max_height": null,
            "align_content": null,
            "visibility": null,
            "align_self": null,
            "height": null,
            "min_height": null,
            "padding": null,
            "grid_auto_rows": null,
            "grid_gap": null,
            "max_width": null,
            "order": null,
            "_view_module_version": "1.2.0",
            "grid_template_areas": null,
            "object_position": null,
            "object_fit": null,
            "grid_auto_columns": null,
            "margin": null,
            "display": null,
            "left": null
          }
        },
        "e252b30dbd2c47378c751644ce3cbf51": {
          "model_module": "@jupyter-widgets/controls",
          "model_name": "DescriptionStyleModel",
          "state": {
            "_view_name": "StyleView",
            "_model_name": "DescriptionStyleModel",
            "description_width": "",
            "_view_module": "@jupyter-widgets/base",
            "_model_module_version": "1.5.0",
            "_view_count": null,
            "_view_module_version": "1.2.0",
            "_model_module": "@jupyter-widgets/controls"
          }
        },
        "9ff63b7a9e074790bf867eba6042b669": {
          "model_module": "@jupyter-widgets/base",
          "model_name": "LayoutModel",
          "state": {
            "_view_name": "LayoutView",
            "grid_template_rows": null,
            "right": null,
            "justify_content": null,
            "_view_module": "@jupyter-widgets/base",
            "overflow": null,
            "_model_module_version": "1.2.0",
            "_view_count": null,
            "flex_flow": null,
            "width": null,
            "min_width": null,
            "border": null,
            "align_items": null,
            "bottom": null,
            "_model_module": "@jupyter-widgets/base",
            "top": null,
            "grid_column": null,
            "overflow_y": null,
            "overflow_x": null,
            "grid_auto_flow": null,
            "grid_area": null,
            "grid_template_columns": null,
            "flex": null,
            "_model_name": "LayoutModel",
            "justify_items": null,
            "grid_row": null,
            "max_height": null,
            "align_content": null,
            "visibility": null,
            "align_self": null,
            "height": null,
            "min_height": null,
            "padding": null,
            "grid_auto_rows": null,
            "grid_gap": null,
            "max_width": null,
            "order": null,
            "_view_module_version": "1.2.0",
            "grid_template_areas": null,
            "object_position": null,
            "object_fit": null,
            "grid_auto_columns": null,
            "margin": null,
            "display": null,
            "left": null
          }
        },
        "08cb7fb9f2f348f8b77d36a714a175b3": {
          "model_module": "@jupyter-widgets/controls",
          "model_name": "HBoxModel",
          "state": {
            "_view_name": "HBoxView",
            "_dom_classes": [],
            "_model_name": "HBoxModel",
            "_view_module": "@jupyter-widgets/controls",
            "_model_module_version": "1.5.0",
            "_view_count": null,
            "_view_module_version": "1.5.0",
            "box_style": "",
            "layout": "IPY_MODEL_b42e2790121a4d859be5ac3853e09e11",
            "_model_module": "@jupyter-widgets/controls",
            "children": [
              "IPY_MODEL_d42bb2dc84af425ca9882bbef5df1302",
              "IPY_MODEL_10aafd9ef6ec427787ac7d928009648b"
            ]
          }
        },
        "b42e2790121a4d859be5ac3853e09e11": {
          "model_module": "@jupyter-widgets/base",
          "model_name": "LayoutModel",
          "state": {
            "_view_name": "LayoutView",
            "grid_template_rows": null,
            "right": null,
            "justify_content": null,
            "_view_module": "@jupyter-widgets/base",
            "overflow": null,
            "_model_module_version": "1.2.0",
            "_view_count": null,
            "flex_flow": null,
            "width": null,
            "min_width": null,
            "border": null,
            "align_items": null,
            "bottom": null,
            "_model_module": "@jupyter-widgets/base",
            "top": null,
            "grid_column": null,
            "overflow_y": null,
            "overflow_x": null,
            "grid_auto_flow": null,
            "grid_area": null,
            "grid_template_columns": null,
            "flex": null,
            "_model_name": "LayoutModel",
            "justify_items": null,
            "grid_row": null,
            "max_height": null,
            "align_content": null,
            "visibility": null,
            "align_self": null,
            "height": null,
            "min_height": null,
            "padding": null,
            "grid_auto_rows": null,
            "grid_gap": null,
            "max_width": null,
            "order": null,
            "_view_module_version": "1.2.0",
            "grid_template_areas": null,
            "object_position": null,
            "object_fit": null,
            "grid_auto_columns": null,
            "margin": null,
            "display": null,
            "left": null
          }
        },
        "d42bb2dc84af425ca9882bbef5df1302": {
          "model_module": "@jupyter-widgets/controls",
          "model_name": "FloatProgressModel",
          "state": {
            "_view_name": "ProgressView",
            "style": "IPY_MODEL_61d1839fd08d4748b40929610d7c1345",
            "_dom_classes": [],
            "description": "Pandas Apply: 100%",
            "_model_name": "FloatProgressModel",
            "bar_style": "success",
            "max": 1773,
            "_view_module": "@jupyter-widgets/controls",
            "_model_module_version": "1.5.0",
            "value": 1773,
            "_view_count": null,
            "_view_module_version": "1.5.0",
            "orientation": "horizontal",
            "min": 0,
            "description_tooltip": null,
            "_model_module": "@jupyter-widgets/controls",
            "layout": "IPY_MODEL_ea56a2eace5143fd99388a1e96145baf"
          }
        },
        "10aafd9ef6ec427787ac7d928009648b": {
          "model_module": "@jupyter-widgets/controls",
          "model_name": "HTMLModel",
          "state": {
            "_view_name": "HTMLView",
            "style": "IPY_MODEL_6afee8dba1b846c7876637112c9fd5b7",
            "_dom_classes": [],
            "description": "",
            "_model_name": "HTMLModel",
            "placeholder": "​",
            "_view_module": "@jupyter-widgets/controls",
            "_model_module_version": "1.5.0",
            "value": " 1773/1773 [00:02&lt;00:00, 774.50it/s]",
            "_view_count": null,
            "_view_module_version": "1.5.0",
            "description_tooltip": null,
            "_model_module": "@jupyter-widgets/controls",
            "layout": "IPY_MODEL_4fb721febdbc4d4b9b0a35540500af30"
          }
        },
        "61d1839fd08d4748b40929610d7c1345": {
          "model_module": "@jupyter-widgets/controls",
          "model_name": "ProgressStyleModel",
          "state": {
            "_view_name": "StyleView",
            "_model_name": "ProgressStyleModel",
            "description_width": "initial",
            "_view_module": "@jupyter-widgets/base",
            "_model_module_version": "1.5.0",
            "_view_count": null,
            "_view_module_version": "1.2.0",
            "bar_color": null,
            "_model_module": "@jupyter-widgets/controls"
          }
        },
        "ea56a2eace5143fd99388a1e96145baf": {
          "model_module": "@jupyter-widgets/base",
          "model_name": "LayoutModel",
          "state": {
            "_view_name": "LayoutView",
            "grid_template_rows": null,
            "right": null,
            "justify_content": null,
            "_view_module": "@jupyter-widgets/base",
            "overflow": null,
            "_model_module_version": "1.2.0",
            "_view_count": null,
            "flex_flow": null,
            "width": null,
            "min_width": null,
            "border": null,
            "align_items": null,
            "bottom": null,
            "_model_module": "@jupyter-widgets/base",
            "top": null,
            "grid_column": null,
            "overflow_y": null,
            "overflow_x": null,
            "grid_auto_flow": null,
            "grid_area": null,
            "grid_template_columns": null,
            "flex": null,
            "_model_name": "LayoutModel",
            "justify_items": null,
            "grid_row": null,
            "max_height": null,
            "align_content": null,
            "visibility": null,
            "align_self": null,
            "height": null,
            "min_height": null,
            "padding": null,
            "grid_auto_rows": null,
            "grid_gap": null,
            "max_width": null,
            "order": null,
            "_view_module_version": "1.2.0",
            "grid_template_areas": null,
            "object_position": null,
            "object_fit": null,
            "grid_auto_columns": null,
            "margin": null,
            "display": null,
            "left": null
          }
        },
        "6afee8dba1b846c7876637112c9fd5b7": {
          "model_module": "@jupyter-widgets/controls",
          "model_name": "DescriptionStyleModel",
          "state": {
            "_view_name": "StyleView",
            "_model_name": "DescriptionStyleModel",
            "description_width": "",
            "_view_module": "@jupyter-widgets/base",
            "_model_module_version": "1.5.0",
            "_view_count": null,
            "_view_module_version": "1.2.0",
            "_model_module": "@jupyter-widgets/controls"
          }
        },
        "4fb721febdbc4d4b9b0a35540500af30": {
          "model_module": "@jupyter-widgets/base",
          "model_name": "LayoutModel",
          "state": {
            "_view_name": "LayoutView",
            "grid_template_rows": null,
            "right": null,
            "justify_content": null,
            "_view_module": "@jupyter-widgets/base",
            "overflow": null,
            "_model_module_version": "1.2.0",
            "_view_count": null,
            "flex_flow": null,
            "width": null,
            "min_width": null,
            "border": null,
            "align_items": null,
            "bottom": null,
            "_model_module": "@jupyter-widgets/base",
            "top": null,
            "grid_column": null,
            "overflow_y": null,
            "overflow_x": null,
            "grid_auto_flow": null,
            "grid_area": null,
            "grid_template_columns": null,
            "flex": null,
            "_model_name": "LayoutModel",
            "justify_items": null,
            "grid_row": null,
            "max_height": null,
            "align_content": null,
            "visibility": null,
            "align_self": null,
            "height": null,
            "min_height": null,
            "padding": null,
            "grid_auto_rows": null,
            "grid_gap": null,
            "max_width": null,
            "order": null,
            "_view_module_version": "1.2.0",
            "grid_template_areas": null,
            "object_position": null,
            "object_fit": null,
            "grid_auto_columns": null,
            "margin": null,
            "display": null,
            "left": null
          }
        },
        "35633b56396d4b7f9331fa55a4903a20": {
          "model_module": "@jupyter-widgets/controls",
          "model_name": "HBoxModel",
          "state": {
            "_view_name": "HBoxView",
            "_dom_classes": [],
            "_model_name": "HBoxModel",
            "_view_module": "@jupyter-widgets/controls",
            "_model_module_version": "1.5.0",
            "_view_count": null,
            "_view_module_version": "1.5.0",
            "box_style": "",
            "layout": "IPY_MODEL_dce01529224b4b93813ecdaf5288ef68",
            "_model_module": "@jupyter-widgets/controls",
            "children": [
              "IPY_MODEL_a734c6c06c954d22814d47c3afd6ad36",
              "IPY_MODEL_b091ea3331a94f8b9dcaa0998dd1c0da"
            ]
          }
        },
        "dce01529224b4b93813ecdaf5288ef68": {
          "model_module": "@jupyter-widgets/base",
          "model_name": "LayoutModel",
          "state": {
            "_view_name": "LayoutView",
            "grid_template_rows": null,
            "right": null,
            "justify_content": null,
            "_view_module": "@jupyter-widgets/base",
            "overflow": null,
            "_model_module_version": "1.2.0",
            "_view_count": null,
            "flex_flow": null,
            "width": null,
            "min_width": null,
            "border": null,
            "align_items": null,
            "bottom": null,
            "_model_module": "@jupyter-widgets/base",
            "top": null,
            "grid_column": null,
            "overflow_y": null,
            "overflow_x": null,
            "grid_auto_flow": null,
            "grid_area": null,
            "grid_template_columns": null,
            "flex": null,
            "_model_name": "LayoutModel",
            "justify_items": null,
            "grid_row": null,
            "max_height": null,
            "align_content": null,
            "visibility": null,
            "align_self": null,
            "height": null,
            "min_height": null,
            "padding": null,
            "grid_auto_rows": null,
            "grid_gap": null,
            "max_width": null,
            "order": null,
            "_view_module_version": "1.2.0",
            "grid_template_areas": null,
            "object_position": null,
            "object_fit": null,
            "grid_auto_columns": null,
            "margin": null,
            "display": null,
            "left": null
          }
        },
        "a734c6c06c954d22814d47c3afd6ad36": {
          "model_module": "@jupyter-widgets/controls",
          "model_name": "FloatProgressModel",
          "state": {
            "_view_name": "ProgressView",
            "style": "IPY_MODEL_724722682637490eb1554b84b44b124d",
            "_dom_classes": [],
            "description": "Pandas Apply: 100%",
            "_model_name": "FloatProgressModel",
            "bar_style": "success",
            "max": 1773,
            "_view_module": "@jupyter-widgets/controls",
            "_model_module_version": "1.5.0",
            "value": 1773,
            "_view_count": null,
            "_view_module_version": "1.5.0",
            "orientation": "horizontal",
            "min": 0,
            "description_tooltip": null,
            "_model_module": "@jupyter-widgets/controls",
            "layout": "IPY_MODEL_dd685da8131e443a8033c7c0d8e364eb"
          }
        },
        "b091ea3331a94f8b9dcaa0998dd1c0da": {
          "model_module": "@jupyter-widgets/controls",
          "model_name": "HTMLModel",
          "state": {
            "_view_name": "HTMLView",
            "style": "IPY_MODEL_197cd594daae4eb7b4d5cd4a3fa0142b",
            "_dom_classes": [],
            "description": "",
            "_model_name": "HTMLModel",
            "placeholder": "​",
            "_view_module": "@jupyter-widgets/controls",
            "_model_module_version": "1.5.0",
            "value": " 1773/1773 [00:39&lt;00:00, 44.39it/s]",
            "_view_count": null,
            "_view_module_version": "1.5.0",
            "description_tooltip": null,
            "_model_module": "@jupyter-widgets/controls",
            "layout": "IPY_MODEL_6d7d43ed531d49eda79fa00a3407fef7"
          }
        },
        "724722682637490eb1554b84b44b124d": {
          "model_module": "@jupyter-widgets/controls",
          "model_name": "ProgressStyleModel",
          "state": {
            "_view_name": "StyleView",
            "_model_name": "ProgressStyleModel",
            "description_width": "initial",
            "_view_module": "@jupyter-widgets/base",
            "_model_module_version": "1.5.0",
            "_view_count": null,
            "_view_module_version": "1.2.0",
            "bar_color": null,
            "_model_module": "@jupyter-widgets/controls"
          }
        },
        "dd685da8131e443a8033c7c0d8e364eb": {
          "model_module": "@jupyter-widgets/base",
          "model_name": "LayoutModel",
          "state": {
            "_view_name": "LayoutView",
            "grid_template_rows": null,
            "right": null,
            "justify_content": null,
            "_view_module": "@jupyter-widgets/base",
            "overflow": null,
            "_model_module_version": "1.2.0",
            "_view_count": null,
            "flex_flow": null,
            "width": null,
            "min_width": null,
            "border": null,
            "align_items": null,
            "bottom": null,
            "_model_module": "@jupyter-widgets/base",
            "top": null,
            "grid_column": null,
            "overflow_y": null,
            "overflow_x": null,
            "grid_auto_flow": null,
            "grid_area": null,
            "grid_template_columns": null,
            "flex": null,
            "_model_name": "LayoutModel",
            "justify_items": null,
            "grid_row": null,
            "max_height": null,
            "align_content": null,
            "visibility": null,
            "align_self": null,
            "height": null,
            "min_height": null,
            "padding": null,
            "grid_auto_rows": null,
            "grid_gap": null,
            "max_width": null,
            "order": null,
            "_view_module_version": "1.2.0",
            "grid_template_areas": null,
            "object_position": null,
            "object_fit": null,
            "grid_auto_columns": null,
            "margin": null,
            "display": null,
            "left": null
          }
        },
        "197cd594daae4eb7b4d5cd4a3fa0142b": {
          "model_module": "@jupyter-widgets/controls",
          "model_name": "DescriptionStyleModel",
          "state": {
            "_view_name": "StyleView",
            "_model_name": "DescriptionStyleModel",
            "description_width": "",
            "_view_module": "@jupyter-widgets/base",
            "_model_module_version": "1.5.0",
            "_view_count": null,
            "_view_module_version": "1.2.0",
            "_model_module": "@jupyter-widgets/controls"
          }
        },
        "6d7d43ed531d49eda79fa00a3407fef7": {
          "model_module": "@jupyter-widgets/base",
          "model_name": "LayoutModel",
          "state": {
            "_view_name": "LayoutView",
            "grid_template_rows": null,
            "right": null,
            "justify_content": null,
            "_view_module": "@jupyter-widgets/base",
            "overflow": null,
            "_model_module_version": "1.2.0",
            "_view_count": null,
            "flex_flow": null,
            "width": null,
            "min_width": null,
            "border": null,
            "align_items": null,
            "bottom": null,
            "_model_module": "@jupyter-widgets/base",
            "top": null,
            "grid_column": null,
            "overflow_y": null,
            "overflow_x": null,
            "grid_auto_flow": null,
            "grid_area": null,
            "grid_template_columns": null,
            "flex": null,
            "_model_name": "LayoutModel",
            "justify_items": null,
            "grid_row": null,
            "max_height": null,
            "align_content": null,
            "visibility": null,
            "align_self": null,
            "height": null,
            "min_height": null,
            "padding": null,
            "grid_auto_rows": null,
            "grid_gap": null,
            "max_width": null,
            "order": null,
            "_view_module_version": "1.2.0",
            "grid_template_areas": null,
            "object_position": null,
            "object_fit": null,
            "grid_auto_columns": null,
            "margin": null,
            "display": null,
            "left": null
          }
        },
        "1de0fd25de1e4d2591f96f4c0dc6a681": {
          "model_module": "@jupyter-widgets/controls",
          "model_name": "HBoxModel",
          "state": {
            "_view_name": "HBoxView",
            "_dom_classes": [],
            "_model_name": "HBoxModel",
            "_view_module": "@jupyter-widgets/controls",
            "_model_module_version": "1.5.0",
            "_view_count": null,
            "_view_module_version": "1.5.0",
            "box_style": "",
            "layout": "IPY_MODEL_5bba9d89cfab4c40b71200117bdd5717",
            "_model_module": "@jupyter-widgets/controls",
            "children": [
              "IPY_MODEL_dfe33aa679ab4f69b992d6b337f2afd5",
              "IPY_MODEL_e47aacc569124afca41faca5616cdabc"
            ]
          }
        },
        "5bba9d89cfab4c40b71200117bdd5717": {
          "model_module": "@jupyter-widgets/base",
          "model_name": "LayoutModel",
          "state": {
            "_view_name": "LayoutView",
            "grid_template_rows": null,
            "right": null,
            "justify_content": null,
            "_view_module": "@jupyter-widgets/base",
            "overflow": null,
            "_model_module_version": "1.2.0",
            "_view_count": null,
            "flex_flow": null,
            "width": null,
            "min_width": null,
            "border": null,
            "align_items": null,
            "bottom": null,
            "_model_module": "@jupyter-widgets/base",
            "top": null,
            "grid_column": null,
            "overflow_y": null,
            "overflow_x": null,
            "grid_auto_flow": null,
            "grid_area": null,
            "grid_template_columns": null,
            "flex": null,
            "_model_name": "LayoutModel",
            "justify_items": null,
            "grid_row": null,
            "max_height": null,
            "align_content": null,
            "visibility": null,
            "align_self": null,
            "height": null,
            "min_height": null,
            "padding": null,
            "grid_auto_rows": null,
            "grid_gap": null,
            "max_width": null,
            "order": null,
            "_view_module_version": "1.2.0",
            "grid_template_areas": null,
            "object_position": null,
            "object_fit": null,
            "grid_auto_columns": null,
            "margin": null,
            "display": null,
            "left": null
          }
        },
        "dfe33aa679ab4f69b992d6b337f2afd5": {
          "model_module": "@jupyter-widgets/controls",
          "model_name": "FloatProgressModel",
          "state": {
            "_view_name": "ProgressView",
            "style": "IPY_MODEL_ed6627481fbc42628440d3c831488a1b",
            "_dom_classes": [],
            "description": "Pandas Apply: 100%",
            "_model_name": "FloatProgressModel",
            "bar_style": "success",
            "max": 1441,
            "_view_module": "@jupyter-widgets/controls",
            "_model_module_version": "1.5.0",
            "value": 1441,
            "_view_count": null,
            "_view_module_version": "1.5.0",
            "orientation": "horizontal",
            "min": 0,
            "description_tooltip": null,
            "_model_module": "@jupyter-widgets/controls",
            "layout": "IPY_MODEL_758a0e902e714fa889e2a1bb4cf958b7"
          }
        },
        "e47aacc569124afca41faca5616cdabc": {
          "model_module": "@jupyter-widgets/controls",
          "model_name": "HTMLModel",
          "state": {
            "_view_name": "HTMLView",
            "style": "IPY_MODEL_8439e99e4b4c4ba2afd1cb307345edbc",
            "_dom_classes": [],
            "description": "",
            "_model_name": "HTMLModel",
            "placeholder": "​",
            "_view_module": "@jupyter-widgets/controls",
            "_model_module_version": "1.5.0",
            "value": " 1441/1441 [00:00&lt;00:00, 22483.58it/s]",
            "_view_count": null,
            "_view_module_version": "1.5.0",
            "description_tooltip": null,
            "_model_module": "@jupyter-widgets/controls",
            "layout": "IPY_MODEL_26b5ecfcc3004bbd959b3ea10cdf31c7"
          }
        },
        "ed6627481fbc42628440d3c831488a1b": {
          "model_module": "@jupyter-widgets/controls",
          "model_name": "ProgressStyleModel",
          "state": {
            "_view_name": "StyleView",
            "_model_name": "ProgressStyleModel",
            "description_width": "initial",
            "_view_module": "@jupyter-widgets/base",
            "_model_module_version": "1.5.0",
            "_view_count": null,
            "_view_module_version": "1.2.0",
            "bar_color": null,
            "_model_module": "@jupyter-widgets/controls"
          }
        },
        "758a0e902e714fa889e2a1bb4cf958b7": {
          "model_module": "@jupyter-widgets/base",
          "model_name": "LayoutModel",
          "state": {
            "_view_name": "LayoutView",
            "grid_template_rows": null,
            "right": null,
            "justify_content": null,
            "_view_module": "@jupyter-widgets/base",
            "overflow": null,
            "_model_module_version": "1.2.0",
            "_view_count": null,
            "flex_flow": null,
            "width": null,
            "min_width": null,
            "border": null,
            "align_items": null,
            "bottom": null,
            "_model_module": "@jupyter-widgets/base",
            "top": null,
            "grid_column": null,
            "overflow_y": null,
            "overflow_x": null,
            "grid_auto_flow": null,
            "grid_area": null,
            "grid_template_columns": null,
            "flex": null,
            "_model_name": "LayoutModel",
            "justify_items": null,
            "grid_row": null,
            "max_height": null,
            "align_content": null,
            "visibility": null,
            "align_self": null,
            "height": null,
            "min_height": null,
            "padding": null,
            "grid_auto_rows": null,
            "grid_gap": null,
            "max_width": null,
            "order": null,
            "_view_module_version": "1.2.0",
            "grid_template_areas": null,
            "object_position": null,
            "object_fit": null,
            "grid_auto_columns": null,
            "margin": null,
            "display": null,
            "left": null
          }
        },
        "8439e99e4b4c4ba2afd1cb307345edbc": {
          "model_module": "@jupyter-widgets/controls",
          "model_name": "DescriptionStyleModel",
          "state": {
            "_view_name": "StyleView",
            "_model_name": "DescriptionStyleModel",
            "description_width": "",
            "_view_module": "@jupyter-widgets/base",
            "_model_module_version": "1.5.0",
            "_view_count": null,
            "_view_module_version": "1.2.0",
            "_model_module": "@jupyter-widgets/controls"
          }
        },
        "26b5ecfcc3004bbd959b3ea10cdf31c7": {
          "model_module": "@jupyter-widgets/base",
          "model_name": "LayoutModel",
          "state": {
            "_view_name": "LayoutView",
            "grid_template_rows": null,
            "right": null,
            "justify_content": null,
            "_view_module": "@jupyter-widgets/base",
            "overflow": null,
            "_model_module_version": "1.2.0",
            "_view_count": null,
            "flex_flow": null,
            "width": null,
            "min_width": null,
            "border": null,
            "align_items": null,
            "bottom": null,
            "_model_module": "@jupyter-widgets/base",
            "top": null,
            "grid_column": null,
            "overflow_y": null,
            "overflow_x": null,
            "grid_auto_flow": null,
            "grid_area": null,
            "grid_template_columns": null,
            "flex": null,
            "_model_name": "LayoutModel",
            "justify_items": null,
            "grid_row": null,
            "max_height": null,
            "align_content": null,
            "visibility": null,
            "align_self": null,
            "height": null,
            "min_height": null,
            "padding": null,
            "grid_auto_rows": null,
            "grid_gap": null,
            "max_width": null,
            "order": null,
            "_view_module_version": "1.2.0",
            "grid_template_areas": null,
            "object_position": null,
            "object_fit": null,
            "grid_auto_columns": null,
            "margin": null,
            "display": null,
            "left": null
          }
        },
        "98d37149bc834230b48724088dbb2794": {
          "model_module": "@jupyter-widgets/controls",
          "model_name": "HBoxModel",
          "state": {
            "_view_name": "HBoxView",
            "_dom_classes": [],
            "_model_name": "HBoxModel",
            "_view_module": "@jupyter-widgets/controls",
            "_model_module_version": "1.5.0",
            "_view_count": null,
            "_view_module_version": "1.5.0",
            "box_style": "",
            "layout": "IPY_MODEL_6338abe7009e497580671087d08f6fa3",
            "_model_module": "@jupyter-widgets/controls",
            "children": [
              "IPY_MODEL_382036c6593b49788f6b4ce7d45e71d4",
              "IPY_MODEL_4a653f79caf84ffe821473a12325be97"
            ]
          }
        },
        "6338abe7009e497580671087d08f6fa3": {
          "model_module": "@jupyter-widgets/base",
          "model_name": "LayoutModel",
          "state": {
            "_view_name": "LayoutView",
            "grid_template_rows": null,
            "right": null,
            "justify_content": null,
            "_view_module": "@jupyter-widgets/base",
            "overflow": null,
            "_model_module_version": "1.2.0",
            "_view_count": null,
            "flex_flow": null,
            "width": null,
            "min_width": null,
            "border": null,
            "align_items": null,
            "bottom": null,
            "_model_module": "@jupyter-widgets/base",
            "top": null,
            "grid_column": null,
            "overflow_y": null,
            "overflow_x": null,
            "grid_auto_flow": null,
            "grid_area": null,
            "grid_template_columns": null,
            "flex": null,
            "_model_name": "LayoutModel",
            "justify_items": null,
            "grid_row": null,
            "max_height": null,
            "align_content": null,
            "visibility": null,
            "align_self": null,
            "height": null,
            "min_height": null,
            "padding": null,
            "grid_auto_rows": null,
            "grid_gap": null,
            "max_width": null,
            "order": null,
            "_view_module_version": "1.2.0",
            "grid_template_areas": null,
            "object_position": null,
            "object_fit": null,
            "grid_auto_columns": null,
            "margin": null,
            "display": null,
            "left": null
          }
        },
        "382036c6593b49788f6b4ce7d45e71d4": {
          "model_module": "@jupyter-widgets/controls",
          "model_name": "FloatProgressModel",
          "state": {
            "_view_name": "ProgressView",
            "style": "IPY_MODEL_48f202b9060c4245b1a1420d294cf533",
            "_dom_classes": [],
            "description": "Pandas Apply: 100%",
            "_model_name": "FloatProgressModel",
            "bar_style": "success",
            "max": 1441,
            "_view_module": "@jupyter-widgets/controls",
            "_model_module_version": "1.5.0",
            "value": 1441,
            "_view_count": null,
            "_view_module_version": "1.5.0",
            "orientation": "horizontal",
            "min": 0,
            "description_tooltip": null,
            "_model_module": "@jupyter-widgets/controls",
            "layout": "IPY_MODEL_53cbb92366ef4584b9d3ba74f4611ac8"
          }
        },
        "4a653f79caf84ffe821473a12325be97": {
          "model_module": "@jupyter-widgets/controls",
          "model_name": "HTMLModel",
          "state": {
            "_view_name": "HTMLView",
            "style": "IPY_MODEL_75d10feee63e489a8d22eb59b5115a98",
            "_dom_classes": [],
            "description": "",
            "_model_name": "HTMLModel",
            "placeholder": "​",
            "_view_module": "@jupyter-widgets/controls",
            "_model_module_version": "1.5.0",
            "value": " 1441/1441 [00:00&lt;00:00, 27134.25it/s]",
            "_view_count": null,
            "_view_module_version": "1.5.0",
            "description_tooltip": null,
            "_model_module": "@jupyter-widgets/controls",
            "layout": "IPY_MODEL_5d034c0b97a048cc9ab79f38370d3ede"
          }
        },
        "48f202b9060c4245b1a1420d294cf533": {
          "model_module": "@jupyter-widgets/controls",
          "model_name": "ProgressStyleModel",
          "state": {
            "_view_name": "StyleView",
            "_model_name": "ProgressStyleModel",
            "description_width": "initial",
            "_view_module": "@jupyter-widgets/base",
            "_model_module_version": "1.5.0",
            "_view_count": null,
            "_view_module_version": "1.2.0",
            "bar_color": null,
            "_model_module": "@jupyter-widgets/controls"
          }
        },
        "53cbb92366ef4584b9d3ba74f4611ac8": {
          "model_module": "@jupyter-widgets/base",
          "model_name": "LayoutModel",
          "state": {
            "_view_name": "LayoutView",
            "grid_template_rows": null,
            "right": null,
            "justify_content": null,
            "_view_module": "@jupyter-widgets/base",
            "overflow": null,
            "_model_module_version": "1.2.0",
            "_view_count": null,
            "flex_flow": null,
            "width": null,
            "min_width": null,
            "border": null,
            "align_items": null,
            "bottom": null,
            "_model_module": "@jupyter-widgets/base",
            "top": null,
            "grid_column": null,
            "overflow_y": null,
            "overflow_x": null,
            "grid_auto_flow": null,
            "grid_area": null,
            "grid_template_columns": null,
            "flex": null,
            "_model_name": "LayoutModel",
            "justify_items": null,
            "grid_row": null,
            "max_height": null,
            "align_content": null,
            "visibility": null,
            "align_self": null,
            "height": null,
            "min_height": null,
            "padding": null,
            "grid_auto_rows": null,
            "grid_gap": null,
            "max_width": null,
            "order": null,
            "_view_module_version": "1.2.0",
            "grid_template_areas": null,
            "object_position": null,
            "object_fit": null,
            "grid_auto_columns": null,
            "margin": null,
            "display": null,
            "left": null
          }
        },
        "75d10feee63e489a8d22eb59b5115a98": {
          "model_module": "@jupyter-widgets/controls",
          "model_name": "DescriptionStyleModel",
          "state": {
            "_view_name": "StyleView",
            "_model_name": "DescriptionStyleModel",
            "description_width": "",
            "_view_module": "@jupyter-widgets/base",
            "_model_module_version": "1.5.0",
            "_view_count": null,
            "_view_module_version": "1.2.0",
            "_model_module": "@jupyter-widgets/controls"
          }
        },
        "5d034c0b97a048cc9ab79f38370d3ede": {
          "model_module": "@jupyter-widgets/base",
          "model_name": "LayoutModel",
          "state": {
            "_view_name": "LayoutView",
            "grid_template_rows": null,
            "right": null,
            "justify_content": null,
            "_view_module": "@jupyter-widgets/base",
            "overflow": null,
            "_model_module_version": "1.2.0",
            "_view_count": null,
            "flex_flow": null,
            "width": null,
            "min_width": null,
            "border": null,
            "align_items": null,
            "bottom": null,
            "_model_module": "@jupyter-widgets/base",
            "top": null,
            "grid_column": null,
            "overflow_y": null,
            "overflow_x": null,
            "grid_auto_flow": null,
            "grid_area": null,
            "grid_template_columns": null,
            "flex": null,
            "_model_name": "LayoutModel",
            "justify_items": null,
            "grid_row": null,
            "max_height": null,
            "align_content": null,
            "visibility": null,
            "align_self": null,
            "height": null,
            "min_height": null,
            "padding": null,
            "grid_auto_rows": null,
            "grid_gap": null,
            "max_width": null,
            "order": null,
            "_view_module_version": "1.2.0",
            "grid_template_areas": null,
            "object_position": null,
            "object_fit": null,
            "grid_auto_columns": null,
            "margin": null,
            "display": null,
            "left": null
          }
        }
      }
    }
  },
  "cells": [
    {
      "cell_type": "markdown",
      "metadata": {
        "id": "3M9kY9nMQMVC"
      },
      "source": [
        "# **Tweepy API**"
      ]
    },
    {
      "cell_type": "code",
      "metadata": {
        "id": "ABZOisLfQRHl"
      },
      "source": [
        "pip install tweepy"
      ],
      "execution_count": null,
      "outputs": []
    },
    {
      "cell_type": "code",
      "metadata": {
        "id": "v5QvN1RhQTPN"
      },
      "source": [
        "import tweepy\n",
        "import json\n",
        "import csv\n",
        "import pandas as pd\n",
        "from datetime import timedelta\n",
        "\n",
        "# Authenticate to Twitter\n",
        "auth = tweepy.OAuthHandler(\"KD8NW5hyiGCIhwp4JDJ98pgXh\", \"SQeokZiYEb5nqWiRMzwRIWF2QQyeBANeHvyfYg3BjenCp2T5vV\")\n",
        "auth.set_access_token(\"93126766-LZ166ZBBYttZ4JM5WKg9cLLBq0eoJyA0QJwq7l30V\", \"BlyNL7pReqLDQx0uWjNkMeXlg4w2j2U7cFFpPE1ATy29X\")\n",
        "api = tweepy.API(auth)"
      ],
      "execution_count": null,
      "outputs": []
    },
    {
      "cell_type": "markdown",
      "metadata": {
        "id": "Pp8-pVzZQV6D"
      },
      "source": [
        "Collecting tweets"
      ]
    },
    {
      "cell_type": "code",
      "metadata": {
        "id": "pYb4nZ2iQZmk"
      },
      "source": [
        "import datetime\n",
        "\n",
        "def import_tweet():\n",
        "  cursor = tweepy.Cursor(api.search, q=('jalan bolong'), lang=\"id\", tweet_mode=\"extended\").items(450)\n",
        "  csvFile = open('jokowi gimana.csv', 'w')\n",
        "  csvWriter = csv.writer(csvFile)\n",
        "  csvWriter.writerow([\"Timestamp\", \"ID\", \"Username\", \"Text\"])\n",
        "  for tweet in cursor:\n",
        "    now = datetime.datetime.now()\n",
        "    remain = now - tweet.created_at\n",
        "    secs = remain.total_seconds()\n",
        "    if (secs < 7200):\n",
        "      if (not tweet.retweeted) and ('RT @' not in tweet.full_text):\n",
        "        print(tweet)\n",
        "        tweets = [tweet.created_at + timedelta(hours=7),tweet.id,tweet.user.screen_name,tweet.full_text]\n",
        "        csvWriter.writerow(tweets)\n",
        "\n",
        "  csvFile.close()\n",
        "  csvFile = open('jokowi gimana.csv', 'a')\n",
        "  csvWriter = csv.writer(csvFile)\n",
        "  cursor = tweepy.Cursor(api.search, q=('air mati'), lang=\"id\", tweet_mode=\"extended\").items(450)\n",
        "  for tweet in cursor:\n",
        "    now = datetime.datetime.now()\n",
        "    remain = now - tweet.created_at\n",
        "    secs = remain.total_seconds()\n",
        "    if (secs < 7200):\n",
        "      if (not tweet.retweeted) and ('RT @' not in tweet.full_text):\n",
        "        print(tweet)\n",
        "        tweets = [tweet.created_at + timedelta(hours=7),tweet.id,tweet.user.screen_name,tweet.full_text]\n",
        "        csvWriter.writerow(tweets)"
      ],
      "execution_count": null,
      "outputs": []
    },
    {
      "cell_type": "markdown",
      "metadata": {
        "id": "vRub1_ljK2nc"
      },
      "source": [
        "# **Preprocessing**"
      ]
    },
    {
      "cell_type": "code",
      "metadata": {
        "colab": {
          "base_uri": "https://localhost:8080/"
        },
        "id": "XIRniiayzUrw",
        "outputId": "6fb3a034-9e98-4c68-ea86-38c0148ea9e8"
      },
      "source": [
        "pip install Sastrawi"
      ],
      "execution_count": null,
      "outputs": [
        {
          "output_type": "stream",
          "text": [
            "Collecting Sastrawi\n",
            "\u001b[?25l  Downloading https://files.pythonhosted.org/packages/6f/4b/bab676953da3103003730b8fcdfadbdd20f333d4add10af949dd5c51e6ed/Sastrawi-1.0.1-py2.py3-none-any.whl (209kB)\n",
            "\r\u001b[K     |█▋                              | 10kB 19.0MB/s eta 0:00:01\r\u001b[K     |███▏                            | 20kB 15.5MB/s eta 0:00:01\r\u001b[K     |████▊                           | 30kB 13.3MB/s eta 0:00:01\r\u001b[K     |██████▎                         | 40kB 12.4MB/s eta 0:00:01\r\u001b[K     |███████▉                        | 51kB 6.9MB/s eta 0:00:01\r\u001b[K     |█████████▍                      | 61kB 7.3MB/s eta 0:00:01\r\u001b[K     |███████████                     | 71kB 7.8MB/s eta 0:00:01\r\u001b[K     |████████████▌                   | 81kB 8.6MB/s eta 0:00:01\r\u001b[K     |██████████████                  | 92kB 8.0MB/s eta 0:00:01\r\u001b[K     |███████████████▋                | 102kB 6.8MB/s eta 0:00:01\r\u001b[K     |█████████████████▏              | 112kB 6.8MB/s eta 0:00:01\r\u001b[K     |██████████████████▊             | 122kB 6.8MB/s eta 0:00:01\r\u001b[K     |████████████████████▎           | 133kB 6.8MB/s eta 0:00:01\r\u001b[K     |█████████████████████▉          | 143kB 6.8MB/s eta 0:00:01\r\u001b[K     |███████████████████████▍        | 153kB 6.8MB/s eta 0:00:01\r\u001b[K     |█████████████████████████       | 163kB 6.8MB/s eta 0:00:01\r\u001b[K     |██████████████████████████▋     | 174kB 6.8MB/s eta 0:00:01\r\u001b[K     |████████████████████████████▏   | 184kB 6.8MB/s eta 0:00:01\r\u001b[K     |█████████████████████████████▊  | 194kB 6.8MB/s eta 0:00:01\r\u001b[K     |███████████████████████████████▎| 204kB 6.8MB/s eta 0:00:01\r\u001b[K     |████████████████████████████████| 215kB 6.8MB/s \n",
            "\u001b[?25hInstalling collected packages: Sastrawi\n",
            "Successfully installed Sastrawi-1.0.1\n"
          ],
          "name": "stdout"
        }
      ]
    },
    {
      "cell_type": "code",
      "metadata": {
        "colab": {
          "base_uri": "https://localhost:8080/"
        },
        "id": "ezjMKZPXz0pu",
        "outputId": "b245614d-54d4-446a-c120-8c1847c55bb8"
      },
      "source": [
        "pip install swifter"
      ],
      "execution_count": null,
      "outputs": [
        {
          "output_type": "stream",
          "text": [
            "Requirement already satisfied: swifter in /usr/local/lib/python3.7/dist-packages (1.0.7)\n",
            "Requirement already satisfied: dask[dataframe]>=2.10.0 in /usr/local/lib/python3.7/dist-packages (from swifter) (2.12.0)\n",
            "Requirement already satisfied: psutil>=5.6.6 in /usr/local/lib/python3.7/dist-packages (from swifter) (5.8.0)\n",
            "Requirement already satisfied: modin[ray]>=0.8.1.1 in /usr/local/lib/python3.7/dist-packages (from swifter) (0.9.1)\n",
            "Requirement already satisfied: ipywidgets>=7.0.0cloudpickle>=0.2.2 in /usr/local/lib/python3.7/dist-packages (from swifter) (7.6.3)\n",
            "Requirement already satisfied: bleach>=3.1.1 in /usr/local/lib/python3.7/dist-packages (from swifter) (3.3.0)\n",
            "Requirement already satisfied: parso>0.4.0 in /usr/local/lib/python3.7/dist-packages (from swifter) (0.8.2)\n",
            "Requirement already satisfied: pandas>=1.0.0 in /usr/local/lib/python3.7/dist-packages (from swifter) (1.1.5)\n",
            "Requirement already satisfied: tqdm>=4.33.0 in /usr/local/lib/python3.7/dist-packages (from swifter) (4.41.1)\n",
            "Requirement already satisfied: partd>=0.3.10; extra == \"dataframe\" in /usr/local/lib/python3.7/dist-packages (from dask[dataframe]>=2.10.0->swifter) (1.2.0)\n",
            "Requirement already satisfied: numpy>=1.13.0; extra == \"dataframe\" in /usr/local/lib/python3.7/dist-packages (from dask[dataframe]>=2.10.0->swifter) (1.19.5)\n",
            "Requirement already satisfied: fsspec>=0.6.0; extra == \"dataframe\" in /usr/local/lib/python3.7/dist-packages (from dask[dataframe]>=2.10.0->swifter) (2021.5.0)\n",
            "Requirement already satisfied: toolz>=0.7.3; extra == \"dataframe\" in /usr/local/lib/python3.7/dist-packages (from dask[dataframe]>=2.10.0->swifter) (0.11.1)\n",
            "Requirement already satisfied: packaging in /usr/local/lib/python3.7/dist-packages (from modin[ray]>=0.8.1.1->swifter) (20.9)\n",
            "Requirement already satisfied: ray<1.2.0,>=1.0.0; extra == \"ray\" in /usr/local/lib/python3.7/dist-packages (from modin[ray]>=0.8.1.1->swifter) (1.1.0)\n",
            "Requirement already satisfied: pyarrow==1.0; extra == \"ray\" in /usr/local/lib/python3.7/dist-packages (from modin[ray]>=0.8.1.1->swifter) (1.0.0)\n",
            "Requirement already satisfied: jupyterlab-widgets>=1.0.0; python_version >= \"3.6\" in /usr/local/lib/python3.7/dist-packages (from ipywidgets>=7.0.0cloudpickle>=0.2.2->swifter) (1.0.0)\n",
            "Requirement already satisfied: traitlets>=4.3.1 in /usr/local/lib/python3.7/dist-packages (from ipywidgets>=7.0.0cloudpickle>=0.2.2->swifter) (5.0.5)\n",
            "Requirement already satisfied: widgetsnbextension~=3.5.0 in /usr/local/lib/python3.7/dist-packages (from ipywidgets>=7.0.0cloudpickle>=0.2.2->swifter) (3.5.1)\n",
            "Requirement already satisfied: nbformat>=4.2.0 in /usr/local/lib/python3.7/dist-packages (from ipywidgets>=7.0.0cloudpickle>=0.2.2->swifter) (5.1.3)\n",
            "Requirement already satisfied: ipython>=4.0.0; python_version >= \"3.3\" in /usr/local/lib/python3.7/dist-packages (from ipywidgets>=7.0.0cloudpickle>=0.2.2->swifter) (5.5.0)\n",
            "Requirement already satisfied: ipykernel>=4.5.1 in /usr/local/lib/python3.7/dist-packages (from ipywidgets>=7.0.0cloudpickle>=0.2.2->swifter) (4.10.1)\n",
            "Requirement already satisfied: webencodings in /usr/local/lib/python3.7/dist-packages (from bleach>=3.1.1->swifter) (0.5.1)\n",
            "Requirement already satisfied: six>=1.9.0 in /usr/local/lib/python3.7/dist-packages (from bleach>=3.1.1->swifter) (1.15.0)\n",
            "Requirement already satisfied: python-dateutil>=2.7.3 in /usr/local/lib/python3.7/dist-packages (from pandas>=1.0.0->swifter) (2.8.1)\n",
            "Requirement already satisfied: pytz>=2017.2 in /usr/local/lib/python3.7/dist-packages (from pandas>=1.0.0->swifter) (2018.9)\n",
            "Requirement already satisfied: locket in /usr/local/lib/python3.7/dist-packages (from partd>=0.3.10; extra == \"dataframe\"->dask[dataframe]>=2.10.0->swifter) (0.2.1)\n",
            "Requirement already satisfied: pyparsing>=2.0.2 in /usr/local/lib/python3.7/dist-packages (from packaging->modin[ray]>=0.8.1.1->swifter) (2.4.7)\n",
            "Requirement already satisfied: grpcio>=1.28.1 in /usr/local/lib/python3.7/dist-packages (from ray<1.2.0,>=1.0.0; extra == \"ray\"->modin[ray]>=0.8.1.1->swifter) (1.34.1)\n",
            "Requirement already satisfied: py-spy>=0.2.0 in /usr/local/lib/python3.7/dist-packages (from ray<1.2.0,>=1.0.0; extra == \"ray\"->modin[ray]>=0.8.1.1->swifter) (0.3.7)\n",
            "Requirement already satisfied: aioredis in /usr/local/lib/python3.7/dist-packages (from ray<1.2.0,>=1.0.0; extra == \"ray\"->modin[ray]>=0.8.1.1->swifter) (1.3.1)\n",
            "Requirement already satisfied: msgpack<2.0.0,>=1.0.0 in /usr/local/lib/python3.7/dist-packages (from ray<1.2.0,>=1.0.0; extra == \"ray\"->modin[ray]>=0.8.1.1->swifter) (1.0.2)\n",
            "Requirement already satisfied: redis>=3.5.0 in /usr/local/lib/python3.7/dist-packages (from ray<1.2.0,>=1.0.0; extra == \"ray\"->modin[ray]>=0.8.1.1->swifter) (3.5.3)\n",
            "Requirement already satisfied: prometheus-client>=0.7.1 in /usr/local/lib/python3.7/dist-packages (from ray<1.2.0,>=1.0.0; extra == \"ray\"->modin[ray]>=0.8.1.1->swifter) (0.10.1)\n",
            "Requirement already satisfied: opencensus in /usr/local/lib/python3.7/dist-packages (from ray<1.2.0,>=1.0.0; extra == \"ray\"->modin[ray]>=0.8.1.1->swifter) (0.7.13)\n",
            "Requirement already satisfied: protobuf>=3.8.0 in /usr/local/lib/python3.7/dist-packages (from ray<1.2.0,>=1.0.0; extra == \"ray\"->modin[ray]>=0.8.1.1->swifter) (3.12.4)\n",
            "Requirement already satisfied: click>=7.0 in /usr/local/lib/python3.7/dist-packages (from ray<1.2.0,>=1.0.0; extra == \"ray\"->modin[ray]>=0.8.1.1->swifter) (7.1.2)\n",
            "Requirement already satisfied: aiohttp in /usr/local/lib/python3.7/dist-packages (from ray<1.2.0,>=1.0.0; extra == \"ray\"->modin[ray]>=0.8.1.1->swifter) (3.7.4.post0)\n",
            "Requirement already satisfied: jsonschema in /usr/local/lib/python3.7/dist-packages (from ray<1.2.0,>=1.0.0; extra == \"ray\"->modin[ray]>=0.8.1.1->swifter) (2.6.0)\n",
            "Requirement already satisfied: colorful in /usr/local/lib/python3.7/dist-packages (from ray<1.2.0,>=1.0.0; extra == \"ray\"->modin[ray]>=0.8.1.1->swifter) (0.5.4)\n",
            "Requirement already satisfied: gpustat in /usr/local/lib/python3.7/dist-packages (from ray<1.2.0,>=1.0.0; extra == \"ray\"->modin[ray]>=0.8.1.1->swifter) (0.6.0)\n",
            "Requirement already satisfied: pyyaml in /usr/local/lib/python3.7/dist-packages (from ray<1.2.0,>=1.0.0; extra == \"ray\"->modin[ray]>=0.8.1.1->swifter) (3.13)\n",
            "Requirement already satisfied: filelock in /usr/local/lib/python3.7/dist-packages (from ray<1.2.0,>=1.0.0; extra == \"ray\"->modin[ray]>=0.8.1.1->swifter) (3.0.12)\n",
            "Requirement already satisfied: requests in /usr/local/lib/python3.7/dist-packages (from ray<1.2.0,>=1.0.0; extra == \"ray\"->modin[ray]>=0.8.1.1->swifter) (2.23.0)\n",
            "Requirement already satisfied: aiohttp-cors in /usr/local/lib/python3.7/dist-packages (from ray<1.2.0,>=1.0.0; extra == \"ray\"->modin[ray]>=0.8.1.1->swifter) (0.7.0)\n",
            "Requirement already satisfied: colorama in /usr/local/lib/python3.7/dist-packages (from ray<1.2.0,>=1.0.0; extra == \"ray\"->modin[ray]>=0.8.1.1->swifter) (0.4.4)\n",
            "Requirement already satisfied: ipython-genutils in /usr/local/lib/python3.7/dist-packages (from traitlets>=4.3.1->ipywidgets>=7.0.0cloudpickle>=0.2.2->swifter) (0.2.0)\n",
            "Requirement already satisfied: notebook>=4.4.1 in /usr/local/lib/python3.7/dist-packages (from widgetsnbextension~=3.5.0->ipywidgets>=7.0.0cloudpickle>=0.2.2->swifter) (5.3.1)\n",
            "Requirement already satisfied: jupyter-core in /usr/local/lib/python3.7/dist-packages (from nbformat>=4.2.0->ipywidgets>=7.0.0cloudpickle>=0.2.2->swifter) (4.7.1)\n",
            "Requirement already satisfied: pexpect; sys_platform != \"win32\" in /usr/local/lib/python3.7/dist-packages (from ipython>=4.0.0; python_version >= \"3.3\"->ipywidgets>=7.0.0cloudpickle>=0.2.2->swifter) (4.8.0)\n",
            "Requirement already satisfied: prompt-toolkit<2.0.0,>=1.0.4 in /usr/local/lib/python3.7/dist-packages (from ipython>=4.0.0; python_version >= \"3.3\"->ipywidgets>=7.0.0cloudpickle>=0.2.2->swifter) (1.0.18)\n",
            "Requirement already satisfied: decorator in /usr/local/lib/python3.7/dist-packages (from ipython>=4.0.0; python_version >= \"3.3\"->ipywidgets>=7.0.0cloudpickle>=0.2.2->swifter) (4.4.2)\n",
            "Requirement already satisfied: pygments in /usr/local/lib/python3.7/dist-packages (from ipython>=4.0.0; python_version >= \"3.3\"->ipywidgets>=7.0.0cloudpickle>=0.2.2->swifter) (2.6.1)\n",
            "Requirement already satisfied: setuptools>=18.5 in /usr/local/lib/python3.7/dist-packages (from ipython>=4.0.0; python_version >= \"3.3\"->ipywidgets>=7.0.0cloudpickle>=0.2.2->swifter) (57.0.0)\n",
            "Requirement already satisfied: simplegeneric>0.8 in /usr/local/lib/python3.7/dist-packages (from ipython>=4.0.0; python_version >= \"3.3\"->ipywidgets>=7.0.0cloudpickle>=0.2.2->swifter) (0.8.1)\n",
            "Requirement already satisfied: pickleshare in /usr/local/lib/python3.7/dist-packages (from ipython>=4.0.0; python_version >= \"3.3\"->ipywidgets>=7.0.0cloudpickle>=0.2.2->swifter) (0.7.5)\n",
            "Requirement already satisfied: jupyter-client in /usr/local/lib/python3.7/dist-packages (from ipykernel>=4.5.1->ipywidgets>=7.0.0cloudpickle>=0.2.2->swifter) (5.3.5)\n",
            "Requirement already satisfied: tornado>=4.0 in /usr/local/lib/python3.7/dist-packages (from ipykernel>=4.5.1->ipywidgets>=7.0.0cloudpickle>=0.2.2->swifter) (5.1.1)\n",
            "Requirement already satisfied: hiredis in /usr/local/lib/python3.7/dist-packages (from aioredis->ray<1.2.0,>=1.0.0; extra == \"ray\"->modin[ray]>=0.8.1.1->swifter) (2.0.0)\n",
            "Requirement already satisfied: async-timeout in /usr/local/lib/python3.7/dist-packages (from aioredis->ray<1.2.0,>=1.0.0; extra == \"ray\"->modin[ray]>=0.8.1.1->swifter) (3.0.1)\n",
            "Requirement already satisfied: opencensus-context==0.1.2 in /usr/local/lib/python3.7/dist-packages (from opencensus->ray<1.2.0,>=1.0.0; extra == \"ray\"->modin[ray]>=0.8.1.1->swifter) (0.1.2)\n",
            "Requirement already satisfied: google-api-core<2.0.0,>=1.0.0 in /usr/local/lib/python3.7/dist-packages (from opencensus->ray<1.2.0,>=1.0.0; extra == \"ray\"->modin[ray]>=0.8.1.1->swifter) (1.26.3)\n",
            "Requirement already satisfied: multidict<7.0,>=4.5 in /usr/local/lib/python3.7/dist-packages (from aiohttp->ray<1.2.0,>=1.0.0; extra == \"ray\"->modin[ray]>=0.8.1.1->swifter) (5.1.0)\n",
            "Requirement already satisfied: typing-extensions>=3.6.5 in /usr/local/lib/python3.7/dist-packages (from aiohttp->ray<1.2.0,>=1.0.0; extra == \"ray\"->modin[ray]>=0.8.1.1->swifter) (3.7.4.3)\n",
            "Requirement already satisfied: yarl<2.0,>=1.0 in /usr/local/lib/python3.7/dist-packages (from aiohttp->ray<1.2.0,>=1.0.0; extra == \"ray\"->modin[ray]>=0.8.1.1->swifter) (1.6.3)\n",
            "Requirement already satisfied: chardet<5.0,>=2.0 in /usr/local/lib/python3.7/dist-packages (from aiohttp->ray<1.2.0,>=1.0.0; extra == \"ray\"->modin[ray]>=0.8.1.1->swifter) (3.0.4)\n",
            "Requirement already satisfied: attrs>=17.3.0 in /usr/local/lib/python3.7/dist-packages (from aiohttp->ray<1.2.0,>=1.0.0; extra == \"ray\"->modin[ray]>=0.8.1.1->swifter) (21.2.0)\n",
            "Requirement already satisfied: nvidia-ml-py3>=7.352.0 in /usr/local/lib/python3.7/dist-packages (from gpustat->ray<1.2.0,>=1.0.0; extra == \"ray\"->modin[ray]>=0.8.1.1->swifter) (7.352.0)\n",
            "Requirement already satisfied: blessings>=1.6 in /usr/local/lib/python3.7/dist-packages (from gpustat->ray<1.2.0,>=1.0.0; extra == \"ray\"->modin[ray]>=0.8.1.1->swifter) (1.7)\n",
            "Requirement already satisfied: certifi>=2017.4.17 in /usr/local/lib/python3.7/dist-packages (from requests->ray<1.2.0,>=1.0.0; extra == \"ray\"->modin[ray]>=0.8.1.1->swifter) (2020.12.5)\n",
            "Requirement already satisfied: urllib3!=1.25.0,!=1.25.1,<1.26,>=1.21.1 in /usr/local/lib/python3.7/dist-packages (from requests->ray<1.2.0,>=1.0.0; extra == \"ray\"->modin[ray]>=0.8.1.1->swifter) (1.24.3)\n",
            "Requirement already satisfied: idna<3,>=2.5 in /usr/local/lib/python3.7/dist-packages (from requests->ray<1.2.0,>=1.0.0; extra == \"ray\"->modin[ray]>=0.8.1.1->swifter) (2.10)\n",
            "Requirement already satisfied: terminado>=0.8.1 in /usr/local/lib/python3.7/dist-packages (from notebook>=4.4.1->widgetsnbextension~=3.5.0->ipywidgets>=7.0.0cloudpickle>=0.2.2->swifter) (0.10.0)\n",
            "Requirement already satisfied: Send2Trash in /usr/local/lib/python3.7/dist-packages (from notebook>=4.4.1->widgetsnbextension~=3.5.0->ipywidgets>=7.0.0cloudpickle>=0.2.2->swifter) (1.5.0)\n",
            "Requirement already satisfied: jinja2 in /usr/local/lib/python3.7/dist-packages (from notebook>=4.4.1->widgetsnbextension~=3.5.0->ipywidgets>=7.0.0cloudpickle>=0.2.2->swifter) (2.11.3)\n",
            "Requirement already satisfied: nbconvert in /usr/local/lib/python3.7/dist-packages (from notebook>=4.4.1->widgetsnbextension~=3.5.0->ipywidgets>=7.0.0cloudpickle>=0.2.2->swifter) (5.6.1)\n",
            "Requirement already satisfied: ptyprocess>=0.5 in /usr/local/lib/python3.7/dist-packages (from pexpect; sys_platform != \"win32\"->ipython>=4.0.0; python_version >= \"3.3\"->ipywidgets>=7.0.0cloudpickle>=0.2.2->swifter) (0.7.0)\n",
            "Requirement already satisfied: wcwidth in /usr/local/lib/python3.7/dist-packages (from prompt-toolkit<2.0.0,>=1.0.4->ipython>=4.0.0; python_version >= \"3.3\"->ipywidgets>=7.0.0cloudpickle>=0.2.2->swifter) (0.2.5)\n",
            "Requirement already satisfied: pyzmq>=13 in /usr/local/lib/python3.7/dist-packages (from jupyter-client->ipykernel>=4.5.1->ipywidgets>=7.0.0cloudpickle>=0.2.2->swifter) (22.0.3)\n",
            "Requirement already satisfied: google-auth<2.0dev,>=1.21.1 in /usr/local/lib/python3.7/dist-packages (from google-api-core<2.0.0,>=1.0.0->opencensus->ray<1.2.0,>=1.0.0; extra == \"ray\"->modin[ray]>=0.8.1.1->swifter) (1.30.0)\n",
            "Requirement already satisfied: googleapis-common-protos<2.0dev,>=1.6.0 in /usr/local/lib/python3.7/dist-packages (from google-api-core<2.0.0,>=1.0.0->opencensus->ray<1.2.0,>=1.0.0; extra == \"ray\"->modin[ray]>=0.8.1.1->swifter) (1.53.0)\n",
            "Requirement already satisfied: MarkupSafe>=0.23 in /usr/local/lib/python3.7/dist-packages (from jinja2->notebook>=4.4.1->widgetsnbextension~=3.5.0->ipywidgets>=7.0.0cloudpickle>=0.2.2->swifter) (2.0.1)\n",
            "Requirement already satisfied: defusedxml in /usr/local/lib/python3.7/dist-packages (from nbconvert->notebook>=4.4.1->widgetsnbextension~=3.5.0->ipywidgets>=7.0.0cloudpickle>=0.2.2->swifter) (0.7.1)\n",
            "Requirement already satisfied: pandocfilters>=1.4.1 in /usr/local/lib/python3.7/dist-packages (from nbconvert->notebook>=4.4.1->widgetsnbextension~=3.5.0->ipywidgets>=7.0.0cloudpickle>=0.2.2->swifter) (1.4.3)\n",
            "Requirement already satisfied: testpath in /usr/local/lib/python3.7/dist-packages (from nbconvert->notebook>=4.4.1->widgetsnbextension~=3.5.0->ipywidgets>=7.0.0cloudpickle>=0.2.2->swifter) (0.5.0)\n",
            "Requirement already satisfied: entrypoints>=0.2.2 in /usr/local/lib/python3.7/dist-packages (from nbconvert->notebook>=4.4.1->widgetsnbextension~=3.5.0->ipywidgets>=7.0.0cloudpickle>=0.2.2->swifter) (0.3)\n",
            "Requirement already satisfied: mistune<2,>=0.8.1 in /usr/local/lib/python3.7/dist-packages (from nbconvert->notebook>=4.4.1->widgetsnbextension~=3.5.0->ipywidgets>=7.0.0cloudpickle>=0.2.2->swifter) (0.8.4)\n",
            "Requirement already satisfied: rsa<5,>=3.1.4; python_version >= \"3.6\" in /usr/local/lib/python3.7/dist-packages (from google-auth<2.0dev,>=1.21.1->google-api-core<2.0.0,>=1.0.0->opencensus->ray<1.2.0,>=1.0.0; extra == \"ray\"->modin[ray]>=0.8.1.1->swifter) (4.7.2)\n",
            "Requirement already satisfied: cachetools<5.0,>=2.0.0 in /usr/local/lib/python3.7/dist-packages (from google-auth<2.0dev,>=1.21.1->google-api-core<2.0.0,>=1.0.0->opencensus->ray<1.2.0,>=1.0.0; extra == \"ray\"->modin[ray]>=0.8.1.1->swifter) (4.2.2)\n",
            "Requirement already satisfied: pyasn1-modules>=0.2.1 in /usr/local/lib/python3.7/dist-packages (from google-auth<2.0dev,>=1.21.1->google-api-core<2.0.0,>=1.0.0->opencensus->ray<1.2.0,>=1.0.0; extra == \"ray\"->modin[ray]>=0.8.1.1->swifter) (0.2.8)\n",
            "Requirement already satisfied: pyasn1>=0.1.3 in /usr/local/lib/python3.7/dist-packages (from rsa<5,>=3.1.4; python_version >= \"3.6\"->google-auth<2.0dev,>=1.21.1->google-api-core<2.0.0,>=1.0.0->opencensus->ray<1.2.0,>=1.0.0; extra == \"ray\"->modin[ray]>=0.8.1.1->swifter) (0.4.8)\n"
          ],
          "name": "stdout"
        }
      ]
    },
    {
      "cell_type": "code",
      "metadata": {
        "colab": {
          "base_uri": "https://localhost:8080/"
        },
        "id": "SsBYqmFjgSjZ",
        "outputId": "9bc609ee-4e67-4209-fa14-564e1e48fff2"
      },
      "source": [
        "import pandas as pd\n",
        "import numpy as np\n",
        "import re\n",
        "import string\n",
        "import nltk\n",
        "nltk.download('stopwords')\n",
        "from nltk.corpus import stopwords\n",
        "import swifter\n",
        "from Sastrawi.Stemmer.StemmerFactory import StemmerFactory"
      ],
      "execution_count": null,
      "outputs": [
        {
          "output_type": "stream",
          "text": [
            "[nltk_data] Downloading package stopwords to /root/nltk_data...\n",
            "[nltk_data]   Unzipping corpora/stopwords.zip.\n"
          ],
          "name": "stdout"
        }
      ]
    },
    {
      "cell_type": "code",
      "metadata": {
        "id": "MVvV6IIagXY9"
      },
      "source": [
        "dataTweet = pd.read_csv('CleanDataset.csv')"
      ],
      "execution_count": null,
      "outputs": []
    },
    {
      "cell_type": "code",
      "metadata": {
        "colab": {
          "base_uri": "https://localhost:8080/"
        },
        "id": "OBeN9Auq4U0L",
        "outputId": "d508be9a-b64d-40c4-b1c9-a6a754eaeac8"
      },
      "source": [
        "dataTweet['Text']"
      ],
      "execution_count": null,
      "outputs": [
        {
          "output_type": "execute_result",
          "data": {
            "text/plain": [
              "0       Di Pepo mangkrak bangun jalan Non tol ?\\nOtak ...\n",
              "1       Pak ganjar hebat. Tp cuma untuk daerah2 yang p...\n",
              "2       Kalo perbatasan bekasi jakarta mah satunya jal...\n",
              "3       Naik motor kena jalan gejlukan jalan yg rusak ...\n",
              "4       Bangun tidur badan sakit sakit semuaaa grgr ja...\n",
              "                              ...                        \n",
              "1768     mencari sinyal dari bts yang lebih jauh dan t...\n",
              "1769     siang kak johan maaf ya mengenai keluhan siny...\n",
              "1770    nyala juga ni listrik  bangun pagi gara listri...\n",
              "1771    padam listrik berarti allah suruh lanjut rebah...\n",
              "1772    mau isi sopipay aja susah banget sih  yang ero...\n",
              "Name: Text, Length: 1773, dtype: object"
            ]
          },
          "metadata": {
            "tags": []
          },
          "execution_count": 14
        }
      ]
    },
    {
      "cell_type": "markdown",
      "metadata": {
        "id": "ywDmiMcrgrl_"
      },
      "source": [
        "Cleaning Tweet"
      ]
    },
    {
      "cell_type": "code",
      "metadata": {
        "id": "fINwWTFCh-cI"
      },
      "source": [
        "def processTweet(tweet):\n",
        "    #Convert to lower case\n",
        "    tweet = tweet.lower()\n",
        "    #Remove non ASCII (emoticon, chinese word, .etc)\n",
        "    tweet = tweet.encode('ascii', 'replace').decode('ascii')\n",
        "    #Remove www.* or https?://* or http?://\n",
        "    tweet = re.sub('((www\\.[^\\s]+)|(https?://[^\\s]+)|(http?://[^\\s]+))','',tweet)\n",
        "    #Remove @username\n",
        "    tweet = re.sub('@[^\\s]+','',tweet)\n",
        "    #Remove additional white spaces\n",
        "    tweet = \" \".join(re.split(r\"\\s+\", tweet))\n",
        "    tweet = re.sub('[\\s]+', ' ', tweet)\n",
        "    #Remove number\n",
        "    tweet = re.sub(r\"\\d+\", \"\", tweet)\n",
        "    #Remove single char\n",
        "    tweet = re.sub(r'\\b[a-zA-Z]\\b', '', tweet)\n",
        "    #Replace #word with word\n",
        "    tweet = re.sub(r'#([^\\s]+)', r'\\1', tweet)\n",
        "    #Remove punctuation\n",
        "    tweet = tweet.translate(str.maketrans(\"\", \"\", string.punctuation))\n",
        "    #trim\n",
        "    tweet = tweet.strip('\\'\"')\n",
        "    return tweet"
      ],
      "execution_count": null,
      "outputs": []
    },
    {
      "cell_type": "code",
      "metadata": {
        "id": "G-UiJ9rsOz07"
      },
      "source": [
        "dataTweet['TextProcessed'] = dataTweet['Text'].apply(processTweet)"
      ],
      "execution_count": null,
      "outputs": []
    },
    {
      "cell_type": "code",
      "metadata": {
        "colab": {
          "base_uri": "https://localhost:8080/",
          "height": 402
        },
        "id": "KLhsS63clYAF",
        "outputId": "b179066d-223d-48fa-eed1-949ace6fa1e7"
      },
      "source": [
        "dataTweet"
      ],
      "execution_count": null,
      "outputs": [
        {
          "output_type": "execute_result",
          "data": {
            "text/html": [
              "<div>\n",
              "<style scoped>\n",
              "    .dataframe tbody tr th:only-of-type {\n",
              "        vertical-align: middle;\n",
              "    }\n",
              "\n",
              "    .dataframe tbody tr th {\n",
              "        vertical-align: top;\n",
              "    }\n",
              "\n",
              "    .dataframe thead th {\n",
              "        text-align: right;\n",
              "    }\n",
              "</style>\n",
              "<table border=\"1\" class=\"dataframe\">\n",
              "  <thead>\n",
              "    <tr style=\"text-align: right;\">\n",
              "      <th></th>\n",
              "      <th>Label</th>\n",
              "      <th>Text</th>\n",
              "      <th>TextProcessed</th>\n",
              "    </tr>\n",
              "  </thead>\n",
              "  <tbody>\n",
              "    <tr>\n",
              "      <th>0</th>\n",
              "      <td>1</td>\n",
              "      <td>Di Pepo mangkrak bangun jalan Non tol ?\\nOtak ...</td>\n",
              "      <td>di pepo mangkrak bangun jalan non tol  otak mn...</td>\n",
              "    </tr>\n",
              "    <tr>\n",
              "      <th>1</th>\n",
              "      <td>1</td>\n",
              "      <td>Pak ganjar hebat. Tp cuma untuk daerah2 yang p...</td>\n",
              "      <td>pak ganjar hebat tp cuma untuk daerah yang per...</td>\n",
              "    </tr>\n",
              "    <tr>\n",
              "      <th>2</th>\n",
              "      <td>1</td>\n",
              "      <td>Kalo perbatasan bekasi jakarta mah satunya jal...</td>\n",
              "      <td>kalo perbatasan bekasi jakarta mah satunya jal...</td>\n",
              "    </tr>\n",
              "    <tr>\n",
              "      <th>3</th>\n",
              "      <td>1</td>\n",
              "      <td>Naik motor kena jalan gejlukan jalan yg rusak ...</td>\n",
              "      <td>naik motor kena jalan gejlukan jalan yg rusak ...</td>\n",
              "    </tr>\n",
              "    <tr>\n",
              "      <th>4</th>\n",
              "      <td>1</td>\n",
              "      <td>Bangun tidur badan sakit sakit semuaaa grgr ja...</td>\n",
              "      <td>bangun tidur badan sakit sakit semuaaa grgr ja...</td>\n",
              "    </tr>\n",
              "    <tr>\n",
              "      <th>...</th>\n",
              "      <td>...</td>\n",
              "      <td>...</td>\n",
              "      <td>...</td>\n",
              "    </tr>\n",
              "    <tr>\n",
              "      <th>1768</th>\n",
              "      <td>0</td>\n",
              "      <td>mencari sinyal dari bts yang lebih jauh dan t...</td>\n",
              "      <td>mencari sinyal dari bts yang lebih jauh dan t...</td>\n",
              "    </tr>\n",
              "    <tr>\n",
              "      <th>1769</th>\n",
              "      <td>0</td>\n",
              "      <td>siang kak johan maaf ya mengenai keluhan siny...</td>\n",
              "      <td>siang kak johan maaf ya mengenai keluhan siny...</td>\n",
              "    </tr>\n",
              "    <tr>\n",
              "      <th>1770</th>\n",
              "      <td>0</td>\n",
              "      <td>nyala juga ni listrik  bangun pagi gara listri...</td>\n",
              "      <td>nyala juga ni listrik bangun pagi gara listrik...</td>\n",
              "    </tr>\n",
              "    <tr>\n",
              "      <th>1771</th>\n",
              "      <td>0</td>\n",
              "      <td>padam listrik berarti allah suruh lanjut rebah...</td>\n",
              "      <td>padam listrik berarti allah suruh lanjut rebah...</td>\n",
              "    </tr>\n",
              "    <tr>\n",
              "      <th>1772</th>\n",
              "      <td>0</td>\n",
              "      <td>mau isi sopipay aja susah banget sih  yang ero...</td>\n",
              "      <td>mau isi sopipay aja susah banget sih yang eror...</td>\n",
              "    </tr>\n",
              "  </tbody>\n",
              "</table>\n",
              "<p>1773 rows × 3 columns</p>\n",
              "</div>"
            ],
            "text/plain": [
              "      Label  ...                                      TextProcessed\n",
              "0         1  ...  di pepo mangkrak bangun jalan non tol  otak mn...\n",
              "1         1  ...  pak ganjar hebat tp cuma untuk daerah yang per...\n",
              "2         1  ...  kalo perbatasan bekasi jakarta mah satunya jal...\n",
              "3         1  ...  naik motor kena jalan gejlukan jalan yg rusak ...\n",
              "4         1  ...  bangun tidur badan sakit sakit semuaaa grgr ja...\n",
              "...     ...  ...                                                ...\n",
              "1768      0  ...   mencari sinyal dari bts yang lebih jauh dan t...\n",
              "1769      0  ...   siang kak johan maaf ya mengenai keluhan siny...\n",
              "1770      0  ...  nyala juga ni listrik bangun pagi gara listrik...\n",
              "1771      0  ...  padam listrik berarti allah suruh lanjut rebah...\n",
              "1772      0  ...  mau isi sopipay aja susah banget sih yang eror...\n",
              "\n",
              "[1773 rows x 3 columns]"
            ]
          },
          "metadata": {
            "tags": []
          },
          "execution_count": 17
        }
      ]
    },
    {
      "cell_type": "markdown",
      "metadata": {
        "id": "iJUftlgNgtsK"
      },
      "source": [
        "Stopwords"
      ]
    },
    {
      "cell_type": "code",
      "metadata": {
        "id": "YgHE0gVgj6T6"
      },
      "source": [
        "#Get stopword indonesia\n",
        "list_stopwords = stopwords.words('indonesian')\n",
        "\n",
        "#Append additional stopword\n",
        "list_stopwords.extend(['yg', 'dg', 'rt', 'dgn', 'ny', 'd', 'klo', 'tsb', 'sy','sya', 'gw', 'gue', 'gua', 'eug', 'aq', 'akyu', 'km', 'kmu', 'dih',\n",
        "                       'kalo', 'amp', 'biar', 'bikin', 'bilang', 'dongg', 'pol', 'poll', 'pooll', 'iy', 'y', 'yahh', 'kta', 'weh', 'widiw', 'idih',\n",
        "                       'gak', 'ga', 'g', 'krna', 'mw', 'krn', 'krna', 'nya', 'nyaa', 'nih', 'sih', 'noh', 'nah', 'neh', 'fess', 'wadaw', 'wadidaw',\n",
        "                       'si', 'tau', 'tdk', 'tuh', 'utk', 'ya', 'tw', 'tao', 'mao', 'geh', 'gih', 'min', 'mimin', 'guys', 'ges', 'gaes', 'bgmn',\n",
        "                       'jd', 'jgn', 'sdh', 'aja', 'n', 't', 'sj', 'sja', 'dong', 'klok', 'anjir', 'njir', 'jir', 'bjir', 'ap', 'knp', 'knapa', 'gmn', 'uwu',\n",
        "                       'nyg', 'hehe', 'haha', 'pen', 'u', 'nan', 'loh', 'rt', 'wkwk', 'wkwkwk', 'hahaha', 'xixixi', 'jajaja', 'dsni', 'kk', 'kaka', 'huhu',\n",
        "                       '&amp', 'yah', 'klean', 'kpn', 'ih', 'ah', 'eh', 'oh', 'oap', 'iye', 'uy', 'cuy', 'bzz'])\n",
        "\n",
        "# convert list to dictionary\n",
        "list_stopwords = set(list_stopwords)\n",
        "\n",
        "def remove_stopwords(tweet):\n",
        "  tweets = [word for word in tweet.split() if word not in list_stopwords]\n",
        "  return tweets"
      ],
      "execution_count": null,
      "outputs": []
    },
    {
      "cell_type": "code",
      "metadata": {
        "colab": {
          "base_uri": "https://localhost:8080/",
          "height": 66,
          "referenced_widgets": [
            "a59f5f781e544240989070d1cbbfdec4",
            "cc766e0862234d328376ce5d31a1e3a2",
            "43819c6a026a477fa20c9e0171c55a75",
            "d573904437f94e35a8d39ca133f1c837",
            "76e1d5c7023d4bdd93b922873f05f667",
            "0ba20142b61449f29c6f5f43ef93b721",
            "40ca99c027664a2c96e1c232d16f0c6b",
            "9a39f87fa0d4472384e7997ab1562583"
          ]
        },
        "id": "Gqox6p-YO5Yi",
        "outputId": "0aef368a-38bb-4d5b-beee-66184275cbe0"
      },
      "source": [
        "dataTweet['TextProcessed'] = dataTweet['TextProcessed'].swifter.apply(remove_stopwords)"
      ],
      "execution_count": null,
      "outputs": [
        {
          "output_type": "display_data",
          "data": {
            "application/vnd.jupyter.widget-view+json": {
              "model_id": "a59f5f781e544240989070d1cbbfdec4",
              "version_minor": 0,
              "version_major": 2
            },
            "text/plain": [
              "HBox(children=(FloatProgress(value=0.0, description='Pandas Apply', max=1773.0, style=ProgressStyle(descriptio…"
            ]
          },
          "metadata": {
            "tags": []
          }
        },
        {
          "output_type": "stream",
          "text": [
            "\n"
          ],
          "name": "stdout"
        }
      ]
    },
    {
      "cell_type": "code",
      "metadata": {
        "colab": {
          "base_uri": "https://localhost:8080/",
          "height": 402
        },
        "id": "eFdAwKivleK3",
        "outputId": "50f23764-cf65-4867-dce0-92d84af28cda"
      },
      "source": [
        "dataTweet"
      ],
      "execution_count": null,
      "outputs": [
        {
          "output_type": "execute_result",
          "data": {
            "text/html": [
              "<div>\n",
              "<style scoped>\n",
              "    .dataframe tbody tr th:only-of-type {\n",
              "        vertical-align: middle;\n",
              "    }\n",
              "\n",
              "    .dataframe tbody tr th {\n",
              "        vertical-align: top;\n",
              "    }\n",
              "\n",
              "    .dataframe thead th {\n",
              "        text-align: right;\n",
              "    }\n",
              "</style>\n",
              "<table border=\"1\" class=\"dataframe\">\n",
              "  <thead>\n",
              "    <tr style=\"text-align: right;\">\n",
              "      <th></th>\n",
              "      <th>Label</th>\n",
              "      <th>Text</th>\n",
              "      <th>TextProcessed</th>\n",
              "    </tr>\n",
              "  </thead>\n",
              "  <tbody>\n",
              "    <tr>\n",
              "      <th>0</th>\n",
              "      <td>1</td>\n",
              "      <td>Di Pepo mangkrak bangun jalan Non tol ?\\nOtak ...</td>\n",
              "      <td>[pepo, mangkrak, bangun, jalan, non, tol, otak...</td>\n",
              "    </tr>\n",
              "    <tr>\n",
              "      <th>1</th>\n",
              "      <td>1</td>\n",
              "      <td>Pak ganjar hebat. Tp cuma untuk daerah2 yang p...</td>\n",
              "      <td>[ganjar, hebat, tp, daerah, perkotaan, daerah,...</td>\n",
              "    </tr>\n",
              "    <tr>\n",
              "      <th>2</th>\n",
              "      <td>1</td>\n",
              "      <td>Kalo perbatasan bekasi jakarta mah satunya jal...</td>\n",
              "      <td>[perbatasan, bekasi, jakarta, mah, satunya, ja...</td>\n",
              "    </tr>\n",
              "    <tr>\n",
              "      <th>3</th>\n",
              "      <td>1</td>\n",
              "      <td>Naik motor kena jalan gejlukan jalan yg rusak ...</td>\n",
              "      <td>[motor, kena, jalan, gejlukan, jalan, rusak, n...</td>\n",
              "    </tr>\n",
              "    <tr>\n",
              "      <th>4</th>\n",
              "      <td>1</td>\n",
              "      <td>Bangun tidur badan sakit sakit semuaaa grgr ja...</td>\n",
              "      <td>[bangun, tidur, badan, sakit, sakit, semuaaa, ...</td>\n",
              "    </tr>\n",
              "    <tr>\n",
              "      <th>...</th>\n",
              "      <td>...</td>\n",
              "      <td>...</td>\n",
              "      <td>...</td>\n",
              "    </tr>\n",
              "    <tr>\n",
              "      <th>1768</th>\n",
              "      <td>0</td>\n",
              "      <td>mencari sinyal dari bts yang lebih jauh dan t...</td>\n",
              "      <td>[mencari, sinyal, bts, kondisi, sinyal, lemah,...</td>\n",
              "    </tr>\n",
              "    <tr>\n",
              "      <th>1769</th>\n",
              "      <td>0</td>\n",
              "      <td>siang kak johan maaf ya mengenai keluhan siny...</td>\n",
              "      <td>[siang, kak, johan, maaf, keluhan, sinyal, hil...</td>\n",
              "    </tr>\n",
              "    <tr>\n",
              "      <th>1770</th>\n",
              "      <td>0</td>\n",
              "      <td>nyala juga ni listrik  bangun pagi gara listri...</td>\n",
              "      <td>[nyala, ni, listrik, bangun, pagi, gara, listr...</td>\n",
              "    </tr>\n",
              "    <tr>\n",
              "      <th>1771</th>\n",
              "      <td>0</td>\n",
              "      <td>padam listrik berarti allah suruh lanjut rebah...</td>\n",
              "      <td>[padam, listrik, allah, suruh, rebahan]</td>\n",
              "    </tr>\n",
              "    <tr>\n",
              "      <th>1772</th>\n",
              "      <td>0</td>\n",
              "      <td>mau isi sopipay aja susah banget sih  yang ero...</td>\n",
              "      <td>[isi, sopipay, susah, banget, eror, padam, lis...</td>\n",
              "    </tr>\n",
              "  </tbody>\n",
              "</table>\n",
              "<p>1773 rows × 3 columns</p>\n",
              "</div>"
            ],
            "text/plain": [
              "      Label  ...                                      TextProcessed\n",
              "0         1  ...  [pepo, mangkrak, bangun, jalan, non, tol, otak...\n",
              "1         1  ...  [ganjar, hebat, tp, daerah, perkotaan, daerah,...\n",
              "2         1  ...  [perbatasan, bekasi, jakarta, mah, satunya, ja...\n",
              "3         1  ...  [motor, kena, jalan, gejlukan, jalan, rusak, n...\n",
              "4         1  ...  [bangun, tidur, badan, sakit, sakit, semuaaa, ...\n",
              "...     ...  ...                                                ...\n",
              "1768      0  ...  [mencari, sinyal, bts, kondisi, sinyal, lemah,...\n",
              "1769      0  ...  [siang, kak, johan, maaf, keluhan, sinyal, hil...\n",
              "1770      0  ...  [nyala, ni, listrik, bangun, pagi, gara, listr...\n",
              "1771      0  ...            [padam, listrik, allah, suruh, rebahan]\n",
              "1772      0  ...  [isi, sopipay, susah, banget, eror, padam, lis...\n",
              "\n",
              "[1773 rows x 3 columns]"
            ]
          },
          "metadata": {
            "tags": []
          },
          "execution_count": 20
        }
      ]
    },
    {
      "cell_type": "markdown",
      "metadata": {
        "id": "ec2sEgjFp4x7"
      },
      "source": [
        "Normalization"
      ]
    },
    {
      "cell_type": "code",
      "metadata": {
        "id": "8vw2WQKrnXXC"
      },
      "source": [
        "normalized_word = pd.read_excel(\"normalization.xlsx\")\n",
        "\n",
        "normalized_word_dict = {}\n",
        "\n",
        "for index, row in normalized_word.iterrows():\n",
        "    if row[0] not in normalized_word_dict:\n",
        "        normalized_word_dict[row[0]] = row[1] \n",
        "\n",
        "def normalized_term(tweet):\n",
        "    return [normalized_word_dict[term] if term in normalized_word_dict else term for term in tweet]"
      ],
      "execution_count": null,
      "outputs": []
    },
    {
      "cell_type": "code",
      "metadata": {
        "colab": {
          "base_uri": "https://localhost:8080/",
          "height": 66,
          "referenced_widgets": [
            "cd867ef4543e49b39e4275bb3a92ca80",
            "7ff356f8e55f4e01bce28029c49bece7",
            "59b43e1a61f945fbbf4a18e2f0a83493",
            "fabc21d119614a38b8f9728a91115118",
            "e9ceffc9940c4a9d99916774c97e241f",
            "3c88ebb2ea3547088524db6b35ba0cc5",
            "b6536a3f7f2d43e9ac847c034af16b0c",
            "c2a51640f8ed4fc99b6a5efd37952dcd"
          ]
        },
        "id": "goTbOmY1OKFb",
        "outputId": "8ca6d03d-1b59-4b3f-d768-c1e126bc4bc1"
      },
      "source": [
        "dataTweet['TextProcessed'] = dataTweet['TextProcessed'].swifter.apply(normalized_term)"
      ],
      "execution_count": null,
      "outputs": [
        {
          "output_type": "display_data",
          "data": {
            "application/vnd.jupyter.widget-view+json": {
              "model_id": "cd867ef4543e49b39e4275bb3a92ca80",
              "version_minor": 0,
              "version_major": 2
            },
            "text/plain": [
              "HBox(children=(FloatProgress(value=0.0, description='Pandas Apply', max=1773.0, style=ProgressStyle(descriptio…"
            ]
          },
          "metadata": {
            "tags": []
          }
        },
        {
          "output_type": "stream",
          "text": [
            "\n"
          ],
          "name": "stdout"
        }
      ]
    },
    {
      "cell_type": "code",
      "metadata": {
        "colab": {
          "base_uri": "https://localhost:8080/",
          "height": 402
        },
        "id": "XnSsEXnDlp0Y",
        "outputId": "090a1811-d356-4eba-facf-484f7fe82935"
      },
      "source": [
        "dataTweet"
      ],
      "execution_count": null,
      "outputs": [
        {
          "output_type": "execute_result",
          "data": {
            "text/html": [
              "<div>\n",
              "<style scoped>\n",
              "    .dataframe tbody tr th:only-of-type {\n",
              "        vertical-align: middle;\n",
              "    }\n",
              "\n",
              "    .dataframe tbody tr th {\n",
              "        vertical-align: top;\n",
              "    }\n",
              "\n",
              "    .dataframe thead th {\n",
              "        text-align: right;\n",
              "    }\n",
              "</style>\n",
              "<table border=\"1\" class=\"dataframe\">\n",
              "  <thead>\n",
              "    <tr style=\"text-align: right;\">\n",
              "      <th></th>\n",
              "      <th>Label</th>\n",
              "      <th>Text</th>\n",
              "      <th>TextProcessed</th>\n",
              "    </tr>\n",
              "  </thead>\n",
              "  <tbody>\n",
              "    <tr>\n",
              "      <th>0</th>\n",
              "      <td>1</td>\n",
              "      <td>Di Pepo mangkrak bangun jalan Non tol ?\\nOtak ...</td>\n",
              "      <td>[pepo, mangkrak, bangun, jalan, non, tol, otak...</td>\n",
              "    </tr>\n",
              "    <tr>\n",
              "      <th>1</th>\n",
              "      <td>1</td>\n",
              "      <td>Pak ganjar hebat. Tp cuma untuk daerah2 yang p...</td>\n",
              "      <td>[ganjar, hebat, tapi, daerah, perkotaan, daera...</td>\n",
              "    </tr>\n",
              "    <tr>\n",
              "      <th>2</th>\n",
              "      <td>1</td>\n",
              "      <td>Kalo perbatasan bekasi jakarta mah satunya jal...</td>\n",
              "      <td>[perbatasan, bekasi, jakarta, mah, satunya, ja...</td>\n",
              "    </tr>\n",
              "    <tr>\n",
              "      <th>3</th>\n",
              "      <td>1</td>\n",
              "      <td>Naik motor kena jalan gejlukan jalan yg rusak ...</td>\n",
              "      <td>[motor, kena, jalan, gejlukan, jalan, rusak, s...</td>\n",
              "    </tr>\n",
              "    <tr>\n",
              "      <th>4</th>\n",
              "      <td>1</td>\n",
              "      <td>Bangun tidur badan sakit sakit semuaaa grgr ja...</td>\n",
              "      <td>[bangun, tidur, badan, sakit, sakit, semua, ga...</td>\n",
              "    </tr>\n",
              "    <tr>\n",
              "      <th>...</th>\n",
              "      <td>...</td>\n",
              "      <td>...</td>\n",
              "      <td>...</td>\n",
              "    </tr>\n",
              "    <tr>\n",
              "      <th>1768</th>\n",
              "      <td>0</td>\n",
              "      <td>mencari sinyal dari bts yang lebih jauh dan t...</td>\n",
              "      <td>[mencari, sinyal, bts, kondisi, sinyal, lemah,...</td>\n",
              "    </tr>\n",
              "    <tr>\n",
              "      <th>1769</th>\n",
              "      <td>0</td>\n",
              "      <td>siang kak johan maaf ya mengenai keluhan siny...</td>\n",
              "      <td>[siang, kak, johan, maaf, keluhan, sinyal, hil...</td>\n",
              "    </tr>\n",
              "    <tr>\n",
              "      <th>1770</th>\n",
              "      <td>0</td>\n",
              "      <td>nyala juga ni listrik  bangun pagi gara listri...</td>\n",
              "      <td>[nyala, ini, listrik, bangun, pagi, gara, list...</td>\n",
              "    </tr>\n",
              "    <tr>\n",
              "      <th>1771</th>\n",
              "      <td>0</td>\n",
              "      <td>padam listrik berarti allah suruh lanjut rebah...</td>\n",
              "      <td>[padam, listrik, allah, suruh, rebahan]</td>\n",
              "    </tr>\n",
              "    <tr>\n",
              "      <th>1772</th>\n",
              "      <td>0</td>\n",
              "      <td>mau isi sopipay aja susah banget sih  yang ero...</td>\n",
              "      <td>[isi, sopipay, susah, banget, eror, padam, lis...</td>\n",
              "    </tr>\n",
              "  </tbody>\n",
              "</table>\n",
              "<p>1773 rows × 3 columns</p>\n",
              "</div>"
            ],
            "text/plain": [
              "      Label  ...                                      TextProcessed\n",
              "0         1  ...  [pepo, mangkrak, bangun, jalan, non, tol, otak...\n",
              "1         1  ...  [ganjar, hebat, tapi, daerah, perkotaan, daera...\n",
              "2         1  ...  [perbatasan, bekasi, jakarta, mah, satunya, ja...\n",
              "3         1  ...  [motor, kena, jalan, gejlukan, jalan, rusak, s...\n",
              "4         1  ...  [bangun, tidur, badan, sakit, sakit, semua, ga...\n",
              "...     ...  ...                                                ...\n",
              "1768      0  ...  [mencari, sinyal, bts, kondisi, sinyal, lemah,...\n",
              "1769      0  ...  [siang, kak, johan, maaf, keluhan, sinyal, hil...\n",
              "1770      0  ...  [nyala, ini, listrik, bangun, pagi, gara, list...\n",
              "1771      0  ...            [padam, listrik, allah, suruh, rebahan]\n",
              "1772      0  ...  [isi, sopipay, susah, banget, eror, padam, lis...\n",
              "\n",
              "[1773 rows x 3 columns]"
            ]
          },
          "metadata": {
            "tags": []
          },
          "execution_count": 23
        }
      ]
    },
    {
      "cell_type": "markdown",
      "metadata": {
        "id": "HjqRnIPBusG0"
      },
      "source": [
        "Stemming"
      ]
    },
    {
      "cell_type": "code",
      "metadata": {
        "id": "6UuDe8YppVh6"
      },
      "source": [
        "factory = StemmerFactory()\n",
        "stemmer = factory.create_stemmer()\n",
        "\n",
        "def stemmed_wrapper(tweets):\n",
        "    return stemmer.stem(tweets)"
      ],
      "execution_count": null,
      "outputs": []
    },
    {
      "cell_type": "code",
      "metadata": {
        "id": "26Z3ZT9fSN-E"
      },
      "source": [
        "word_dict = {}"
      ],
      "execution_count": null,
      "outputs": []
    },
    {
      "cell_type": "code",
      "metadata": {
        "id": "ir_aC6_iNh5t"
      },
      "source": [
        "for tweet in dataTweet['TextProcessed']:\n",
        "    for word in tweet:\n",
        "        if word not in word_dict:\n",
        "            word_dict[word] = ' '            \n",
        "\n",
        "for word in word_dict:\n",
        "    word_dict[word] = stemmed_wrapper(word)\n",
        "\n",
        "def get_stemmed_term(tweet):\n",
        "  words = [word_dict[word] for word in tweet]\n",
        "  return words"
      ],
      "execution_count": null,
      "outputs": []
    },
    {
      "cell_type": "code",
      "metadata": {
        "colab": {
          "base_uri": "https://localhost:8080/",
          "height": 66,
          "referenced_widgets": [
            "5f71ef83cd5f453bbbd4dba00e0fd55d",
            "dfd1f2327e514d9d8439fa000335bc88",
            "0371a399f8fc47cdbea5e05b4fae5730",
            "3fd4539b5eca490b8fee96373ade0694",
            "7faeb1cfb7df4760920b3f09214042c8",
            "11fbe7c0d904419baee713d1a8597b7d",
            "13ca07dc51cf4e13b1cad8bf18dbc431",
            "50d8abe718d041c3866c814dc7510752"
          ]
        },
        "id": "xuBL3eAjPBe_",
        "outputId": "03abaa47-3f2e-4651-f634-9c4fb2c02b7a"
      },
      "source": [
        "dataTweet['TextProcessed'] = dataTweet['TextProcessed'].swifter.apply(get_stemmed_term)"
      ],
      "execution_count": null,
      "outputs": [
        {
          "output_type": "display_data",
          "data": {
            "application/vnd.jupyter.widget-view+json": {
              "model_id": "5f71ef83cd5f453bbbd4dba00e0fd55d",
              "version_minor": 0,
              "version_major": 2
            },
            "text/plain": [
              "HBox(children=(FloatProgress(value=0.0, description='Pandas Apply', max=1773.0, style=ProgressStyle(descriptio…"
            ]
          },
          "metadata": {
            "tags": []
          }
        },
        {
          "output_type": "stream",
          "text": [
            "\n"
          ],
          "name": "stdout"
        }
      ]
    },
    {
      "cell_type": "code",
      "metadata": {
        "colab": {
          "base_uri": "https://localhost:8080/",
          "height": 402
        },
        "id": "wmNcPD-9lxIp",
        "outputId": "6c7f8a0f-24f4-42d3-b1dd-70f2f29621af"
      },
      "source": [
        "dataTweet"
      ],
      "execution_count": null,
      "outputs": [
        {
          "output_type": "execute_result",
          "data": {
            "text/html": [
              "<div>\n",
              "<style scoped>\n",
              "    .dataframe tbody tr th:only-of-type {\n",
              "        vertical-align: middle;\n",
              "    }\n",
              "\n",
              "    .dataframe tbody tr th {\n",
              "        vertical-align: top;\n",
              "    }\n",
              "\n",
              "    .dataframe thead th {\n",
              "        text-align: right;\n",
              "    }\n",
              "</style>\n",
              "<table border=\"1\" class=\"dataframe\">\n",
              "  <thead>\n",
              "    <tr style=\"text-align: right;\">\n",
              "      <th></th>\n",
              "      <th>Label</th>\n",
              "      <th>Text</th>\n",
              "      <th>TextProcessed</th>\n",
              "    </tr>\n",
              "  </thead>\n",
              "  <tbody>\n",
              "    <tr>\n",
              "      <th>0</th>\n",
              "      <td>1</td>\n",
              "      <td>Di Pepo mangkrak bangun jalan Non tol ?\\nOtak ...</td>\n",
              "      <td>[pepo, mangkrak, bangun, jalan, non, tol, otak...</td>\n",
              "    </tr>\n",
              "    <tr>\n",
              "      <th>1</th>\n",
              "      <td>1</td>\n",
              "      <td>Pak ganjar hebat. Tp cuma untuk daerah2 yang p...</td>\n",
              "      <td>[ganjar, hebat, tapi, daerah, kota, daerah, ba...</td>\n",
              "    </tr>\n",
              "    <tr>\n",
              "      <th>2</th>\n",
              "      <td>1</td>\n",
              "      <td>Kalo perbatasan bekasi jakarta mah satunya jal...</td>\n",
              "      <td>[batas, bekas, jakarta, mah, satu, jalan, rusa...</td>\n",
              "    </tr>\n",
              "    <tr>\n",
              "      <th>3</th>\n",
              "      <td>1</td>\n",
              "      <td>Naik motor kena jalan gejlukan jalan yg rusak ...</td>\n",
              "      <td>[motor, kena, jalan, gejlukan, jalan, rusak, s...</td>\n",
              "    </tr>\n",
              "    <tr>\n",
              "      <th>4</th>\n",
              "      <td>1</td>\n",
              "      <td>Bangun tidur badan sakit sakit semuaaa grgr ja...</td>\n",
              "      <td>[bangun, tidur, badan, sakit, sakit, semua, ga...</td>\n",
              "    </tr>\n",
              "    <tr>\n",
              "      <th>...</th>\n",
              "      <td>...</td>\n",
              "      <td>...</td>\n",
              "      <td>...</td>\n",
              "    </tr>\n",
              "    <tr>\n",
              "      <th>1768</th>\n",
              "      <td>0</td>\n",
              "      <td>mencari sinyal dari bts yang lebih jauh dan t...</td>\n",
              "      <td>[cari, sinyal, bts, kondisi, sinyal, lemah, ba...</td>\n",
              "    </tr>\n",
              "    <tr>\n",
              "      <th>1769</th>\n",
              "      <td>0</td>\n",
              "      <td>siang kak johan maaf ya mengenai keluhan siny...</td>\n",
              "      <td>[siang, kak, johan, maaf, keluh, sinyal, hilan...</td>\n",
              "    </tr>\n",
              "    <tr>\n",
              "      <th>1770</th>\n",
              "      <td>0</td>\n",
              "      <td>nyala juga ni listrik  bangun pagi gara listri...</td>\n",
              "      <td>[nyala, ini, listrik, bangun, pagi, gara, list...</td>\n",
              "    </tr>\n",
              "    <tr>\n",
              "      <th>1771</th>\n",
              "      <td>0</td>\n",
              "      <td>padam listrik berarti allah suruh lanjut rebah...</td>\n",
              "      <td>[padam, listrik, allah, suruh, rebah]</td>\n",
              "    </tr>\n",
              "    <tr>\n",
              "      <th>1772</th>\n",
              "      <td>0</td>\n",
              "      <td>mau isi sopipay aja susah banget sih  yang ero...</td>\n",
              "      <td>[isi, sopipay, susah, banget, eror, padam, lis...</td>\n",
              "    </tr>\n",
              "  </tbody>\n",
              "</table>\n",
              "<p>1773 rows × 3 columns</p>\n",
              "</div>"
            ],
            "text/plain": [
              "      Label  ...                                      TextProcessed\n",
              "0         1  ...  [pepo, mangkrak, bangun, jalan, non, tol, otak...\n",
              "1         1  ...  [ganjar, hebat, tapi, daerah, kota, daerah, ba...\n",
              "2         1  ...  [batas, bekas, jakarta, mah, satu, jalan, rusa...\n",
              "3         1  ...  [motor, kena, jalan, gejlukan, jalan, rusak, s...\n",
              "4         1  ...  [bangun, tidur, badan, sakit, sakit, semua, ga...\n",
              "...     ...  ...                                                ...\n",
              "1768      0  ...  [cari, sinyal, bts, kondisi, sinyal, lemah, ba...\n",
              "1769      0  ...  [siang, kak, johan, maaf, keluh, sinyal, hilan...\n",
              "1770      0  ...  [nyala, ini, listrik, bangun, pagi, gara, list...\n",
              "1771      0  ...              [padam, listrik, allah, suruh, rebah]\n",
              "1772      0  ...  [isi, sopipay, susah, banget, eror, padam, lis...\n",
              "\n",
              "[1773 rows x 3 columns]"
            ]
          },
          "metadata": {
            "tags": []
          },
          "execution_count": 28
        }
      ]
    },
    {
      "cell_type": "code",
      "metadata": {
        "id": "ngzNakE2WYoR"
      },
      "source": [
        "def joinword(tweet):\n",
        "  words = [word for word in tweet]\n",
        "  return \" \".join(words)"
      ],
      "execution_count": null,
      "outputs": []
    },
    {
      "cell_type": "code",
      "metadata": {
        "colab": {
          "base_uri": "https://localhost:8080/",
          "height": 66,
          "referenced_widgets": [
            "844429b9ce27491dbe391b11a31d79ec",
            "e8a887315ecf4bfca4f236f33a6ffa03",
            "9b5b4065c215477592d72f8ba6164e5e",
            "4024d8efa8bb4416a6301b56159ae852",
            "3641b2e8ee1c452d90fbf5322fa52c55",
            "f1454b93651c44be999200fdd7c89907",
            "e252b30dbd2c47378c751644ce3cbf51",
            "9ff63b7a9e074790bf867eba6042b669"
          ]
        },
        "id": "PEzcsvNdKNnJ",
        "outputId": "bcacac4c-6236-42e8-d0d6-2f7365767695"
      },
      "source": [
        "dataTweet['TextProcessed'] = dataTweet['TextProcessed'].swifter.apply(joinword)"
      ],
      "execution_count": null,
      "outputs": [
        {
          "output_type": "display_data",
          "data": {
            "application/vnd.jupyter.widget-view+json": {
              "model_id": "844429b9ce27491dbe391b11a31d79ec",
              "version_minor": 0,
              "version_major": 2
            },
            "text/plain": [
              "HBox(children=(FloatProgress(value=0.0, description='Pandas Apply', max=1773.0, style=ProgressStyle(descriptio…"
            ]
          },
          "metadata": {
            "tags": []
          }
        },
        {
          "output_type": "stream",
          "text": [
            "\n"
          ],
          "name": "stdout"
        }
      ]
    },
    {
      "cell_type": "code",
      "metadata": {
        "colab": {
          "base_uri": "https://localhost:8080/",
          "height": 402
        },
        "id": "tWeNA8OHWukU",
        "outputId": "5f2fb01d-fee0-4285-b3ca-7f323b4a8887"
      },
      "source": [
        "dataTweet"
      ],
      "execution_count": null,
      "outputs": [
        {
          "output_type": "execute_result",
          "data": {
            "text/html": [
              "<div>\n",
              "<style scoped>\n",
              "    .dataframe tbody tr th:only-of-type {\n",
              "        vertical-align: middle;\n",
              "    }\n",
              "\n",
              "    .dataframe tbody tr th {\n",
              "        vertical-align: top;\n",
              "    }\n",
              "\n",
              "    .dataframe thead th {\n",
              "        text-align: right;\n",
              "    }\n",
              "</style>\n",
              "<table border=\"1\" class=\"dataframe\">\n",
              "  <thead>\n",
              "    <tr style=\"text-align: right;\">\n",
              "      <th></th>\n",
              "      <th>Label</th>\n",
              "      <th>Text</th>\n",
              "      <th>TextProcessed</th>\n",
              "    </tr>\n",
              "  </thead>\n",
              "  <tbody>\n",
              "    <tr>\n",
              "      <th>0</th>\n",
              "      <td>1</td>\n",
              "      <td>Di Pepo mangkrak bangun jalan Non tol ?\\nOtak ...</td>\n",
              "      <td>pepo mangkrak bangun jalan non tol otak mana o...</td>\n",
              "    </tr>\n",
              "    <tr>\n",
              "      <th>1</th>\n",
              "      <td>1</td>\n",
              "      <td>Pak ganjar hebat. Tp cuma untuk daerah2 yang p...</td>\n",
              "      <td>ganjar hebat tapi daerah kota daerah batas jat...</td>\n",
              "    </tr>\n",
              "    <tr>\n",
              "      <th>2</th>\n",
              "      <td>1</td>\n",
              "      <td>Kalo perbatasan bekasi jakarta mah satunya jal...</td>\n",
              "      <td>batas bekas jakarta mah satu jalan rusak loban...</td>\n",
              "    </tr>\n",
              "    <tr>\n",
              "      <th>3</th>\n",
              "      <td>1</td>\n",
              "      <td>Naik motor kena jalan gejlukan jalan yg rusak ...</td>\n",
              "      <td>motor kena jalan gejlukan jalan rusak sampai r...</td>\n",
              "    </tr>\n",
              "    <tr>\n",
              "      <th>4</th>\n",
              "      <td>1</td>\n",
              "      <td>Bangun tidur badan sakit sakit semuaaa grgr ja...</td>\n",
              "      <td>bangun tidur badan sakit sakit semua gara-gara...</td>\n",
              "    </tr>\n",
              "    <tr>\n",
              "      <th>...</th>\n",
              "      <td>...</td>\n",
              "      <td>...</td>\n",
              "      <td>...</td>\n",
              "    </tr>\n",
              "    <tr>\n",
              "      <th>1768</th>\n",
              "      <td>0</td>\n",
              "      <td>mencari sinyal dari bts yang lebih jauh dan t...</td>\n",
              "      <td>cari sinyal bts kondisi sinyal lemah banding s...</td>\n",
              "    </tr>\n",
              "    <tr>\n",
              "      <th>1769</th>\n",
              "      <td>0</td>\n",
              "      <td>siang kak johan maaf ya mengenai keluhan siny...</td>\n",
              "      <td>siang kak johan maaf keluh sinyal hilang listr...</td>\n",
              "    </tr>\n",
              "    <tr>\n",
              "      <th>1770</th>\n",
              "      <td>0</td>\n",
              "      <td>nyala juga ni listrik  bangun pagi gara listri...</td>\n",
              "      <td>nyala ini listrik bangun pagi gara listrik pad...</td>\n",
              "    </tr>\n",
              "    <tr>\n",
              "      <th>1771</th>\n",
              "      <td>0</td>\n",
              "      <td>padam listrik berarti allah suruh lanjut rebah...</td>\n",
              "      <td>padam listrik allah suruh rebah</td>\n",
              "    </tr>\n",
              "    <tr>\n",
              "      <th>1772</th>\n",
              "      <td>0</td>\n",
              "      <td>mau isi sopipay aja susah banget sih  yang ero...</td>\n",
              "      <td>isi sopipay susah banget eror padam listrik</td>\n",
              "    </tr>\n",
              "  </tbody>\n",
              "</table>\n",
              "<p>1773 rows × 3 columns</p>\n",
              "</div>"
            ],
            "text/plain": [
              "      Label  ...                                      TextProcessed\n",
              "0         1  ...  pepo mangkrak bangun jalan non tol otak mana o...\n",
              "1         1  ...  ganjar hebat tapi daerah kota daerah batas jat...\n",
              "2         1  ...  batas bekas jakarta mah satu jalan rusak loban...\n",
              "3         1  ...  motor kena jalan gejlukan jalan rusak sampai r...\n",
              "4         1  ...  bangun tidur badan sakit sakit semua gara-gara...\n",
              "...     ...  ...                                                ...\n",
              "1768      0  ...  cari sinyal bts kondisi sinyal lemah banding s...\n",
              "1769      0  ...  siang kak johan maaf keluh sinyal hilang listr...\n",
              "1770      0  ...  nyala ini listrik bangun pagi gara listrik pad...\n",
              "1771      0  ...                    padam listrik allah suruh rebah\n",
              "1772      0  ...        isi sopipay susah banget eror padam listrik\n",
              "\n",
              "[1773 rows x 3 columns]"
            ]
          },
          "metadata": {
            "tags": []
          },
          "execution_count": 31
        }
      ]
    },
    {
      "cell_type": "markdown",
      "metadata": {
        "id": "92DDSHfIQc19"
      },
      "source": [
        "Keywords"
      ]
    },
    {
      "cell_type": "code",
      "metadata": {
        "id": "AcMIRBQOPgf3"
      },
      "source": [
        "from collections import Counter\n",
        "from itertools import chain\n",
        "v = dataTweet['TextProcessed'].str.split().tolist()\n",
        "c = Counter(chain.from_iterable(v))\n",
        "dataTweet['TextProcessed'] = [[j for j in i if c[j] > 1] for i in v]"
      ],
      "execution_count": null,
      "outputs": []
    },
    {
      "cell_type": "code",
      "metadata": {
        "colab": {
          "base_uri": "https://localhost:8080/",
          "height": 402
        },
        "id": "jsdMgPjjRtXY",
        "outputId": "e4dee78c-3ca7-4f43-f21b-0ec074f69b59"
      },
      "source": [
        "dataTweet"
      ],
      "execution_count": null,
      "outputs": [
        {
          "output_type": "execute_result",
          "data": {
            "text/html": [
              "<div>\n",
              "<style scoped>\n",
              "    .dataframe tbody tr th:only-of-type {\n",
              "        vertical-align: middle;\n",
              "    }\n",
              "\n",
              "    .dataframe tbody tr th {\n",
              "        vertical-align: top;\n",
              "    }\n",
              "\n",
              "    .dataframe thead th {\n",
              "        text-align: right;\n",
              "    }\n",
              "</style>\n",
              "<table border=\"1\" class=\"dataframe\">\n",
              "  <thead>\n",
              "    <tr style=\"text-align: right;\">\n",
              "      <th></th>\n",
              "      <th>Label</th>\n",
              "      <th>Text</th>\n",
              "      <th>TextProcessed</th>\n",
              "    </tr>\n",
              "  </thead>\n",
              "  <tbody>\n",
              "    <tr>\n",
              "      <th>0</th>\n",
              "      <td>1</td>\n",
              "      <td>Di Pepo mangkrak bangun jalan Non tol ?\\nOtak ...</td>\n",
              "      <td>[mangkrak, bangun, jalan, tol, otak, mana, ota...</td>\n",
              "    </tr>\n",
              "    <tr>\n",
              "      <th>1</th>\n",
              "      <td>1</td>\n",
              "      <td>Pak ganjar hebat. Tp cuma untuk daerah2 yang p...</td>\n",
              "      <td>[ganjar, hebat, tapi, daerah, kota, daerah, ba...</td>\n",
              "    </tr>\n",
              "    <tr>\n",
              "      <th>2</th>\n",
              "      <td>1</td>\n",
              "      <td>Kalo perbatasan bekasi jakarta mah satunya jal...</td>\n",
              "      <td>[batas, bekas, jakarta, mah, satu, jalan, rusa...</td>\n",
              "    </tr>\n",
              "    <tr>\n",
              "      <th>3</th>\n",
              "      <td>1</td>\n",
              "      <td>Naik motor kena jalan gejlukan jalan yg rusak ...</td>\n",
              "      <td>[motor, kena, jalan, jalan, rusak, sampai, rum...</td>\n",
              "    </tr>\n",
              "    <tr>\n",
              "      <th>4</th>\n",
              "      <td>1</td>\n",
              "      <td>Bangun tidur badan sakit sakit semuaaa grgr ja...</td>\n",
              "      <td>[bangun, tidur, badan, sakit, sakit, semua, ga...</td>\n",
              "    </tr>\n",
              "    <tr>\n",
              "      <th>...</th>\n",
              "      <td>...</td>\n",
              "      <td>...</td>\n",
              "      <td>...</td>\n",
              "    </tr>\n",
              "    <tr>\n",
              "      <th>1768</th>\n",
              "      <td>0</td>\n",
              "      <td>mencari sinyal dari bts yang lebih jauh dan t...</td>\n",
              "      <td>[cari, sinyal, bts, kondisi, sinyal, lemah, si...</td>\n",
              "    </tr>\n",
              "    <tr>\n",
              "      <th>1769</th>\n",
              "      <td>0</td>\n",
              "      <td>siang kak johan maaf ya mengenai keluhan siny...</td>\n",
              "      <td>[siang, kak, maaf, keluh, sinyal, hilang, list...</td>\n",
              "    </tr>\n",
              "    <tr>\n",
              "      <th>1770</th>\n",
              "      <td>0</td>\n",
              "      <td>nyala juga ni listrik  bangun pagi gara listri...</td>\n",
              "      <td>[nyala, ini, listrik, bangun, pagi, gara, list...</td>\n",
              "    </tr>\n",
              "    <tr>\n",
              "      <th>1771</th>\n",
              "      <td>0</td>\n",
              "      <td>padam listrik berarti allah suruh lanjut rebah...</td>\n",
              "      <td>[padam, listrik, allah, suruh, rebah]</td>\n",
              "    </tr>\n",
              "    <tr>\n",
              "      <th>1772</th>\n",
              "      <td>0</td>\n",
              "      <td>mau isi sopipay aja susah banget sih  yang ero...</td>\n",
              "      <td>[isi, susah, banget, padam, listrik]</td>\n",
              "    </tr>\n",
              "  </tbody>\n",
              "</table>\n",
              "<p>1773 rows × 3 columns</p>\n",
              "</div>"
            ],
            "text/plain": [
              "      Label  ...                                      TextProcessed\n",
              "0         1  ...  [mangkrak, bangun, jalan, tol, otak, mana, ota...\n",
              "1         1  ...  [ganjar, hebat, tapi, daerah, kota, daerah, ba...\n",
              "2         1  ...  [batas, bekas, jakarta, mah, satu, jalan, rusa...\n",
              "3         1  ...  [motor, kena, jalan, jalan, rusak, sampai, rum...\n",
              "4         1  ...  [bangun, tidur, badan, sakit, sakit, semua, ga...\n",
              "...     ...  ...                                                ...\n",
              "1768      0  ...  [cari, sinyal, bts, kondisi, sinyal, lemah, si...\n",
              "1769      0  ...  [siang, kak, maaf, keluh, sinyal, hilang, list...\n",
              "1770      0  ...  [nyala, ini, listrik, bangun, pagi, gara, list...\n",
              "1771      0  ...              [padam, listrik, allah, suruh, rebah]\n",
              "1772      0  ...               [isi, susah, banget, padam, listrik]\n",
              "\n",
              "[1773 rows x 3 columns]"
            ]
          },
          "metadata": {
            "tags": []
          },
          "execution_count": 33
        }
      ]
    },
    {
      "cell_type": "code",
      "metadata": {
        "id": "SJsYO-wzQbvz"
      },
      "source": [
        "def words_counter(tweet):\n",
        "    count = Counter()\n",
        "    for text in tweet:\n",
        "      for word in text:\n",
        "        count[word] += 1\n",
        "    return count\n",
        "\n",
        "total_unique = len(words_counter(dataTweet.TextProcessed))"
      ],
      "execution_count": null,
      "outputs": []
    },
    {
      "cell_type": "code",
      "metadata": {
        "colab": {
          "base_uri": "https://localhost:8080/"
        },
        "id": "uVC7_-_ISYY-",
        "outputId": "41f77b08-688e-4acf-f5d0-6e21ababc7df"
      },
      "source": [
        "print(words_counter(dataTweet.TextProcessed)) \n",
        "print(total_unique)"
      ],
      "execution_count": null,
      "outputs": [
        {
          "output_type": "stream",
          "text": [
            "Counter({'mati': 1168, 'listrik': 1085, 'jalan': 495, 'air': 475, 'padam': 331, 'rusak': 295, 'sudah': 274, 'jam': 191, 'banget': 190, 'rumah': 163, 'enggak': 148, 'nyala': 139, 'pln': 133, 'daerah': 131, 'tolong': 131, 'sampai': 115, 'bolong': 113, 'mohon': 105, 'pas': 99, 'pagi': 89, 'kayak': 88, 'lampu': 85, 'pdam': 83, 'hidup': 82, 'pakai': 76, 'baik': 74, 'habis': 67, 'malam': 62, 'kasih': 59, 'kali': 59, 'terus': 59, 'siang': 56, 'kerja': 55, 'bagaimana': 54, 'mandi': 53, 'parah': 50, 'bisa': 46, 'panas': 45, 'info': 45, 'dari': 45, 'gara': 45, 'bantu': 45, 'orang': 44, 'sinyal': 44, 'tapi': 43, 'mata': 43, 'begitu': 42, 'lapor': 42, 'ada': 42, 'belum': 41, 'terima': 40, 'hp': 40, 'benar': 40, 'ganggu': 39, 'macet': 38, 'warga': 37, 'begini': 37, 'halo': 37, 'lagi': 35, 'minum': 35, 'alir': 34, 'hari': 33, 'langsung': 33, 'hujan': 32, 'tidur': 31, 'ku': 31, 'kec': 31, 'kota': 30, 'sore': 30, 'mulu': 29, 'kondisi': 29, 'ini': 29, 'desa': 28, 'selamat': 28, 'bayar': 28, 'madam': 28, 'jakarta': 27, 'kak': 27, 'ya': 26, 'allah': 26, 'maaf': 26, 'indonesia': 26, 'makan': 26, 'cepat': 26, 'teman': 26, 'tugas': 26, 'mobil': 25, 'jl': 25, 'juga': 25, 'lu': 25, 'itu': 24, 'tinggal': 23, 'area': 23, 'susah': 22, 'mas': 22, 'lihat': 22, 'main': 22, 'marah': 22, 'deh': 22, 'gila': 22, 'untung': 22, 'kab': 22, 'bangun': 21, 'anak': 21, 'utara': 21, 'gelap': 21, 'hilang': 21, 'moga': 21, 'keluarga': 21, 'sekarang': 21, 'benerin': 20, 'memang': 20, 'masuk': 20, 'cek': 20, 'camat': 20, 'cari': 20, 'tangan': 20, 'terimakasih': 20, 'wilayah': 20, 'batre': 20, 'motor': 19, 'jembatan': 19, 'kabupaten': 19, 'minggu': 19, 'sebab': 19, 'lokasi': 19, 'jatuh': 19, 'apa': 19, 'laptop': 19, 'menang': 19, 'barat': 18, 'raya': 18, 'coba': 18, 'bawa': 18, 'beli': 18, 'gin': 18, 'isi': 18, 'kamar': 18, 'kena': 17, 'kemarin': 17, 'arah': 17, 'tangerang': 17, 'lintas': 17, 'karena': 17, 'depok': 17, 'kuliah': 17, 'pemberitahuan': 17, 'rw': 17, 'api': 17, 'tagih': 17, 'mah': 16, 'butuh': 16, 'tadi': 16, 'mau': 16, 'menit': 16, 'tbtb': 16, 'hati': 16, 'dm': 16, 'timur': 16, 'takut': 16, 'pam': 16, 'aduh': 16, 'hubung': 15, 'iya': 15, 'tempat': 15, 'lahir': 15, 'ajar': 15, 'alhamdulillah': 15, 'beda': 15, 'aku': 15, 'lancar': 15, 'tindak': 15, 'pikir': 15, 'mbak': 15, 'lurah': 15, 'nyalain': 15, 'langgan': 15, 'jaring': 15, 'sakit': 14, 'cinta': 14, 'masyarakat': 14, 'keluh': 14, 'perintah': 14, 'anjing': 14, 'kampung': 14, 'pulang': 14, 'jadi': 14, 'bagus': 14, 'doang': 14, 'besok': 14, 'informasi': 14, 'wifi': 14, 'tau': 14, 'sama': 14, 'tol': 13, 'bekas': 13, 'lampung': 13, 'normal': 13, 'akses': 13, 'bakar': 13, 'muka': 13, 'alami': 13, 'suka': 13, 'kalau': 13, 'doa': 13, 'enak': 13, 'dikit': 13, 'panik': 13, 'dibenerin': 13, 'bts': 13, 'batas': 12, 'selatan': 12, 'lewat': 12, 'tutup': 12, 'tambah': 12, 'lubang': 12, 'kendara': 12, 'bahaya': 12, 'bayang': 12, 'lo': 12, 'aman': 12, 'bulan': 12, 'sepeda': 12, 'kah': 12, 'ujan': 12, 'tunggu': 12, 'ambil': 12, 'saja': 12, 'tetangga': 12, 'alamat': 12, 'elektronik': 12, 'dingin': 12, 'dishub': 12, 'mana': 11, 'pondok': 11, 'padahal': 11, 'salah': 11, 'kantor': 11, 'situ': 11, 'kadang': 11, 'dalem': 11, 'petir': 11, 'kaki': 11, 'mu': 11, 'asa': 11, 'mengapa': 11, 'diri': 11, 'mending': 11, 'cuci': 11, 'angin': 11, 'layan': 11, 'nama': 11, 'kendala': 11, 'bos': 11, 'wfh': 11, 'masih': 11, 'ac': 11, 'pls': 11, 'internet': 11, 'kau': 11, 'no': 11, 'lilin': 11, 'cok': 11, 'ban': 11, 'palembang': 11, 'paket': 11, 'rambut': 11, 'berat': 10, 'jalur': 10, 'harap': 10, 'an': 10, 'ulang': 10, 'turun': 10, 'meter': 10, 'tanah': 10, 'cc': 10, 'jelek': 10, 'kanan': 10, 'mesin': 10, 'cerita': 10, 'ribu': 10, 'tarik': 10, 'dalam': 10, 'sabar': 10, 'harus': 10, 'masak': 10, 'lingkung': 10, 'duh': 10, 'tua': 10, 'suruh': 10, 'jelas': 10, 'tahan': 10, 'nak': 10, 'tonton': 10, 'lowbat': 10, 'dinas': 9, 'pinggir': 9, 'pindah': 9, 'dekat': 9, 'perhati': 9, 'kudu': 9, 'hancur': 9, 'syukur': 9, 'dengar': 9, 'bentar': 9, 'jual': 9, 'ngeri': 9, 'entar': 9, 'bersih': 9, 'mikir': 9, 'urus': 9, 'uji': 9, 'gegara': 9, 'tuhan': 9, 'admin': 9, 'usaha': 9, 'alat': 9, 'respon': 9, 'nyuci': 9, 'bandung': 9, 'kelapa': 9, 'komplek': 9, 'sisa': 9, 'asu': 9, 'dimatiin': 9, 'berapa': 9, 'nge': 9, 'woi': 9, 'rasa': 9, 'baca': 9, 'renang': 9, 'lompat': 9, 'gede': 9, 'sekarat': 9, 'semangat': 9, 'ditambel': 9, 'charge': 9, 'es': 9, 'aspal': 8, 'provinsi': 8, 'sepi': 8, 'dampak': 8, 'semarang': 8, 'celaka': 8, 'pasar': 8, 'via': 8, 'sulit': 8, 'pantai': 8, 'sesuai': 8, 'buka': 8, 'rugi': 8, 'subuh': 8, 'mantap': 8, 'garagara': 8, 'kagak': 8, 'putih': 8, 'mei': 8, 'kiri': 8, 'tanya': 8, 'malu': 8, 'hadeh': 8, 'daritadi': 8, 'ikan': 8, 'dear': 8, 'bojongsari': 8, 'ledak': 8, 'kosan': 8, 'sebentar': 8, 'kos': 8, 'kelar': 8, 'jarang': 8, 'pup': 8, 'berak': 8, 'pakcik': 8, 'sedih': 8, 'laut': 8, 'auto': 8, 'dulu': 8, 'yaallah': 8, 'capek': 8, 'pengin': 8, 'rawalumbu': 8, 'hmm': 8, 'tahun': 7, 'simpang': 7, 'puluh': 7, 'merah': 7, 'solusi': 7, 'jaya': 7, 'banjir': 7, 'bina': 7, 'lambat': 7, 'lagu': 7, 'sekolah': 7, 'barang': 7, 'utama': 7, 'sempat': 7, 'lumayan': 7, 'foto': 7, 'wkwkwkwk': 7, 'selesai': 7, 'bom': 7, 'pecah': 7, 'tibatiba': 7, 'gardu': 7, 'wib': 7, 'telpon': 7, 'gresik': 7, 'bayi': 7, 'kasihan': 7, 'bogor': 7, 'cileungsi': 7, 'kost': 7, 'sih': 7, 'matiin': 7, 'perum': 7, 'sumur': 7, 'total': 7, 'siram': 7, 'berani': 7, 'sayang': 7, 'asrama': 7, 'kampret': 7, 'baterai': 7, 'hai': 7, 'bambu': 7, 'otak': 6, 'nasional': 6, 'satu': 6, 'mulus': 6, 'sial': 6, 'taman': 6, 'trotoar': 6, 'sudirman': 6, 'akibat': 6, 'lebaran': 6, 'dusun': 6, 'gang': 6, 'tv': 6, 'hitung': 6, 'seram': 6, 'astaghfirullah': 6, 'malang': 6, 'kabar': 6, 'pasir': 6, 'indah': 6, 'dapat': 6, 'niat': 6, 'giat': 6, 'oke': 6, 'negara': 6, 'darah': 6, 'truk': 6, 'kipas': 6, 'lucu': 6, 'kgk': 6, 'badai': 6, 'keren': 6, 'pulau': 6, 'ruas': 6, 'maghrib': 6, 'tanggal': 6, 'adu': 6, 'lanjut': 6, 'mcb': 6, 'nomor': 6, 'nyaman': 6, 'jaman': 6, 'jawa': 6, 'rua': 6, 'tks': 6, 'pc': 6, 'maju': 6, 'kuota': 6, 'duit': 6, 'malas': 6, 'kok': 6, 'ubah': 6, 'rakyat': 6, 'kecuali': 6, 'asih': 6, 'thanks': 6, 'lupa': 6, 'om': 6, 'tenggelam': 6, 'kolam': 6, 'lepas': 6, 'sehat': 6, 'tenang': 6, 'plis': 6, 'dosen': 6, 'amin': 6, 'ikut': 6, 'magrib': 6, 'cipayung': 6, 'ciledug': 6, 'urgent': 6, 'salur': 6, 'heh': 6, 'jadwal': 6, 'rusa': 6, 'pergi': 5, 'nikmat': 5, 'truck': 5, 'cuk': 5, 'ambles': 5, 'kecewa': 5, 'pasang': 5, 'ingat': 5, 'atau': 5, 'tiga': 5, 'puncak': 5, 'ketemu': 5, 'sengaja': 5, 'lho': 5, 'tambang': 5, 'angkut': 5, 'batu': 5, 'heran': 5, 'tengah': 5, 'sd': 5, 'kirim': 5, 'serang': 5, 'duduk': 5, 'datang': 5, 'pokok': 5, 'kaya': 5, 'doi': 5, 'jepang': 5, 'sekali': 5, 'paksa': 5, 'umur': 5, 'tanam': 5, 'asli': 5, 'jaga': 5, 'bete': 5, 'kait': 5, 'tukang': 5, 'untuk': 5, 'full': 5, 'batrenya': 5, 'kelas': 5, 'murah': 5, 'up': 5, 'mood': 5, 'banyak': 5, 'gubernur': 5, 'pilih': 5, 'kualitas': 5, 'duren': 5, 'blok': 5, 'tanggap': 5, 'sumuk': 5, 'metland': 5, 'besi': 5, 'rata': 5, 'manusia': 5, 'anjrit': 5, 'gajadi': 5, 'belah': 5, 'cair': 5, 'dadak': 5, 'bro': 5, 'tenaga': 5, 'ngapa': 5, 'ngeluh': 5, 'piring': 5, 'bingung': 5, 'buset': 5, 'serasa': 5, 'balikpapan': 5, 'benci': 5, 'ganti': 5, 'kkn': 5, 'terjun': 5, 'ujung': 5, 'napas': 5, 'kucing': 5, 'pedas': 5, 'katak': 5, 'emak': 5, 'dua': 5, 'sumpah': 5, 'kat': 5, 'kaget': 5, 'keliling': 5, 'kering': 5, 'kapok': 5, 'gandaria': 5, 'gilir': 5, 'ancol': 5, 'sungai': 5, 'pernah': 5, 'tambal': 5, 'kaos': 5, 'sadar': 5, 'ganteng': 5, 'raksa': 5, 'rajin': 5, 'nder': 5, 'duri': 5, 'low': 5, 'pada': 5, 'kedip': 5, 'anjr': 5, 'kencang': 5, 'kabel': 5, 'muncul': 5, 'gapapa': 5, 'mie': 5, 'wes': 5, 'potong': 5, 'samarinda': 5, 'covid': 5, 'nanti': 5, 'good': 5, 'ganjar': 4, 'jatim': 4, 'perata': 4, 'gara-gara': 4, 'pandeglang': 4, 'biar': 4, 'bilang': 4, 'maps': 4, 'kunjung': 4, 'terang': 4, 'indak': 4, 'titik': 4, 'papan': 4, 'imam': 4, 'betul': 4, 'buat': 4, 'anggar': 4, 'bang': 4, 'balekambang': 4, 'omong': 4, 'jogja': 4, 'ringroad': 4, 'cadang': 4, 'cuma': 4, 'hambat': 4, 'tabrak': 4, 'pipi': 4, 'alhasil': 4, 'bak': 4, 'korupsi': 4, 'part': 4, 'kereta': 4, 'biasa': 4, 'tetap': 4, 'juang': 4, 'angkot': 4, 'deras': 4, 'yaudah': 4, 'nih': 4, 'pisang': 4, 'awet': 4, 'korban': 4, 'jabar': 4, 'kawasan': 4, 'kumpul': 4, 'selasa': 4, 'su': 4, 'palestina': 4, 'keras': 4, 'bentuk': 4, 'anjrot': 4, 'sepatu': 4, 'mahal': 4, 'tulis': 4, 'kopi': 4, 'tengok': 4, 'batanghari': 4, 'bajubang': 4, 'brebes': 4, 'surabaya': 4, 'ditindaklanjuti': 4, 'lelet': 4, 'check': 4, 'daring': 4, 'maguwoharjo': 4, 'kalong': 4, 'semalem': 4, 'follow': 4, 'sekitar': 4, 'asri': 4, 'beres': 4, 'bengkulu': 4, 'konfirmasi': 4, 'token': 4, 'ajg': 4, 'keburu': 4, 'set': 4, 'kesel': 4, 'ajak': 4, 'maksud': 4, 'obat': 4, 'hemat': 4, 'telat': 4, 'program': 4, 'apasih': 4, 'nugas': 4, 'kepala': 4, 'toren': 4, 'jabat': 4, 'apaapa': 4, 'pegang': 4, 'permisi': 4, 'sek': 4, 'dada': 4, 'ombak': 4, 'lah': 4, 'lemes': 4, 'gas': 4, 'minyak': 4, 'me': 4, 'simpan': 4, 'tb': 4, 'sang': 4, 'buah': 4, 'tumbuh': 4, 'plastik': 4, 'dukung': 4, 'tanda': 4, 'bocor': 4, 'sok': 4, 'malah': 4, 'danau': 4, 'hangat': 4, 'off': 4, 'seperti': 4, 'anies': 4, 'hape': 4, 'viral': 4, 'asik': 4, 'ngebut': 4, 'mantan': 4, 'sekian': 4, 'buang': 4, 'berita': 4, 'vs': 4, 'uang': 4, 'yuk': 4, 'acara': 4, 'pedurungan': 4, 'tj': 4, 'larang': 4, 'cimuning': 4, 'manday': 4, 'bakti': 4, 'klender': 4, 'sawit': 4, 'kacau': 4, 'data': 4, 'nangka': 4, 'sleman': 4, 'pelihara': 4, 'hasil': 4, 'bumn': 4, 'setrum': 4, 'kenapa': 4, 'yang': 4, 'umikk': 4, 'kristal': 4, 'batal': 4, 'cai': 4, 'dek': 4, 'nyangu': 4, 'pancar': 4, 'cuti': 4, 'asem': 4, 'juni': 4, 'kebon': 4, 'gek': 4, 'meh': 4, 'posko': 4, 'bau': 4, 'siswa': 4, 'fondesyen': 4, 'brader': 4, 'nazril': 4, 'instan': 4, 'brgizi': 4, 'wujud': 4, 'pancasila': 4, 'grobogan': 4, 'blora': 4, 'industri': 4, 'bontang': 4, 'pohon': 4, 'aplikasi': 4, 'buring': 4, 'regency': 4, 'sungkan': 4, 'puji': 4, 'tiang': 4, 'meja': 4, 'milik': 4, 'stres': 4, 'cie': 4, 'samping': 4, 'bilik': 4, 'serdang': 4, 'kuat': 4, 'ketik': 4, 'pelan': 4, 'akim': 4, 'kayat': 4, 'contoh': 3, 'kuasa': 3, 'sari': 3, 'mlp': 3, 'jateng': 3, 'bangkit': 3, 'lobang': 3, 'perut': 3, 'semua': 3, 'hamil': 3, 'pesisir': 3, 'exit': 3, 'bus': 3, 'henti': 3, 'drainase': 3, 'kacang': 3, 'google': 3, 'hidang': 3, 'tega': 3, 'minim': 3, 'suwun': 3, 'bukit': 3, 'alas': 3, 'misuh': 3, 'tumben': 3, 'nilai': 3, 'swadaya': 3, 'walikota': 3, 'palem': 3, 'semi': 3, 'bonjol': 3, 'tempel': 3, 'jago': 3, 'stasiun': 3, 'isya': 3, 'jalanjalan': 3, 'pantura': 3, 'pematang': 3, 'mulut': 3, 'timpa': 3, 'material': 3, 'perempuan': 3, 'evaluasi': 3, 'tentang': 3, 'pusing': 3, 'beberapa': 3, 'musim': 3, 'dpat': 3, 'idul': 3, 'fitri': 3, 'aneh': 3, 'keluar': 3, 'pusat': 3, 'puskesmas': 3, 'april': 3, 'opm': 3, 'minimal': 3, 'repot': 3, 'lari': 3, 'derita': 3, 'btw': 3, 'atas': 3, 'belakang': 3, 'hadap': 3, 'artikel': 3, 'alias': 3, 'kebun': 3, 'hindar': 3, 'pupr': 3, 'balaraja': 3, 'pintu': 3, 'sambar': 3, 'anggap': 3, 'kran': 3, 'timbang': 3, 'penting': 3, 'yellow': 3, 'squad': 3, 'pjlp': 3, 'lapang': 3, 'beh': 3, 'trauma': 3, 'depan': 3, 'bpk': 3, 'sulawesi': 3, 'mudah': 3, 'paham': 3, 'pesan': 3, 'mimpi': 3, 'saran': 3, 'meng': 3, 'saing': 3, 'be': 3, 'better': 3, 'sumber': 3, 'labuh': 3, 'driyorejo': 3, 'tuban': 3, 'estimasi': 3, 'lebih': 3, 'banar': 3, 'keringet': 3, 'ojo': 3, 'suwe': 3, 'istirahat': 3, 'help': 3, 'baju': 3, 'pkl': 3, 'sektor': 3, 'pamulang': 3, 'gulita': 3, 'kulon': 3, 'bareng': 3, 'upnya': 3, 'unit': 3, 'bunga': 3, 'beji': 3, 'kwh': 3, 'id': 3, 'kontak': 3, 'aing': 3, 'presentasi': 3, 'nek': 3, 'mnit': 3, 'minta': 3, 'anying': 3, 'woy': 3, 'anget': 3, 'telfon': 3, 'sebel': 3, 'rutin': 3, 'komputer': 3, 'entah': 3, 'down': 3, 'stabil': 3, 'masalembu': 3, 'periksa': 3, 'libur': 3, 'drama': 3, 'powerbank': 3, 'rebah': 3, 'copot': 3, 'rasai': 3, 'krisis': 3, 'sana': 3, 'hijau': 3, 'rs': 3, 'galon': 3, 'dasar': 3, 'waru': 3, 'euy': 3, 'nyawa': 3, 'deres': 3, 'arus': 3, 'coklat': 3, 'dorong': 3, 'sedot': 3, 'tali': 3, 'ayah': 3, 'abang': 3, 'ipar': 3, 'obrol': 3, 'liam': 3, 'nyerah': 3, 'pasrah': 3, 'dokter': 3, 'letak': 3, 'sejuk': 3, 'perlahan': 3, 'basah': 3, 'cebur': 3, 'teriak': 3, 'masjid': 3, 'episode': 3, 'kubur': 3, 'bibir': 3, 'nada': 3, 'udara': 3, 'ikat': 3, 'angkat': 3, 'target': 3, 'finish': 3, 'hapus': 3, 'merem': 3, 'sentosa': 3, 'posisi': 3, 'jenderal': 3, 'direndem': 3, 'ringin': 3, 'ati': 3, 'cicak': 3, 'listik': 3, 'pantek': 3, 'benernya': 3, 'woii': 3, 'artis': 3, 'ayo': 3, 'jiwa': 3, 'kesamber': 3, 'putus': 3, 'shock': 3, 'breaker': 3, 'ngindarin': 3, 'modal': 3, 'ngelewatin': 3, 'kaliurang': 3, 'sambung': 3, 'layar': 3, 'pipa': 3, 'labu': 3, 'ledeng': 3, 'item': 3, 'luap': 3, 'bangkai': 3, 'gerah': 3, 'netflix': 3, 'tepat': 3, 'percik': 3, 'tipis': 3, 'karanganyar': 3, 'rendem': 3, 'grand': 3, 'permai': 3, 'ii': 3, 'please': 3, 'rai': 3, 'ira': 3, 'kakak': 3, 'center': 3, 'jumat': 3, 'pb': 3, 'serba': 3, 'egk': 3, 'dah': 3, 'hah': 3, 'lot': 3, 'percaya': 3, 'smartphone': 3, 'respons': 3, 'segar': 3, 'ava': 3, 'screen': 3, 'sambut': 3, 'tang': 3, 'pandang': 3, 'bapak': 3, 'sedap': 3, 'tirto': 3, 'koh': 3, 'pertiwi': 3, 'sila': 3, 'kurang': 3, 'dadap': 3, 'perancis': 3, 'wewenang': 3, 'sumatera': 3, 'buruk': 3, 'kupastuntasco': 3, 'jal': 3, 'infrastruktur': 3, 'hutan': 3, 'batreku': 3, 'ciracas': 3, 'rezeki': 3, 'ijin': 3, 'bolak': 3, 'keramas': 3, 'ngantor': 3, 'loh': 3, 'ambruk': 3, 'why': 3, 'prime': 3, 'tempo': 3, 'dar': 3, 'yallah': 3, 'voting': 3, 'cukup': 3, 'malaikat': 3, 'bandara': 3, 'matahari': 3, 'clorox': 3, 'buru': 3, 'patumbak': 3, 'absensi': 3, 'belanja': 3, 'cipenjo': 3, 'suhu': 3, 'di': 3, 'xbg': 3, 'kelam': 3, 'mangkrak': 2, 'bayah': 2, 'buruh': 2, 'hebat': 2, 'pasca': 2, 'badan': 2, 'tandu': 2, 'tanjung': 2, 'klx': 2, 'pantat': 2, 'nyeri': 2, 'sedep': 2, 'jatiasih': 2, 'dendam': 2, 'puter': 2, 'fungsi': 2, 'bahu': 2, 'pemkab': 2, 'danasari': 2, 'gunung': 2, 'kaca': 2, 'cowok': 2, 'peduli': 2, 'tag': 2, 'sendawar': 2, 'suku': 2, 'sultan': 2, 'hasanudin': 2, 'guyur': 2, 'alam': 2, 'puri': 2, 'tambun': 2, 'ampun': 2, 'siksa': 2, 'karawang': 2, 'cahaya': 2, 'musik': 2, 'kini': 2, 'marga': 2, 'grogol': 2, 'cuman': 2, 'kalah': 2, 'tegal': 2, 'lur': 2, 'opo': 2, 'maneh': 2, 'sedia': 2, 'pen': 2, 'batin': 2, 'otw': 2, 'surat': 2, 'dong': 2, 'ruang': 2, 'sejahtera': 2, 'isu': 2, 'papua': 2, 'sistem': 2, 'cod': 2, 'tolak': 2, 'biaya': 2, 'zionis': 2, 'tubi': 2, 'gaza': 2, 'gera': 2, 'kity': 2, 'saraf': 2, 'masingmasing': 2, 'earphone': 2, 'harga': 2, 'oleng': 2, 'lulus': 2, 'cita': 2, 'biadab': 2, 'era': 2, 'sisi': 2, 'pencet': 2, 'erti': 2, 'rawan': 2, 'balik': 2, 'salam': 2, 'sobatnet': 2, 'video': 2, 'out': 2, 'sangat': 2, 'merek': 2, 'mompa': 2, 'pompa': 2, 'olahraga': 2, 'ngayuh': 2, 'sim': 2, 'inovasi': 2, 'pemprov': 2, 'pesawat': 2, 'rencana': 2, 'neng': 2, 'nelayan': 2, 'ekonomi': 2, 'lokal': 2, 'daya': 2, 'politikus': 2, 'kita': 2, 'tara': 2, 'imbas': 2, 'tandain': 2, 'direspon': 2, 'cah': 2, 'warung': 2, 'kulkas': 2, 'gronjal': 2, 'film': 2, 'jokowi': 2, 'bintan': 2, 'gahar': 2, 'izin': 2, 'pulih': 2, 'the': 2, 'day': 2, 'pet': 2, 'rayon': 2, 'joni': 2, 'darat': 2, 'terok': 2, 'purwosari': 2, 'manjang': 2, 'perkara': 2, 'medan': 2, 'mojosarirejo': 2, 'andowia': 2, 'konawe': 2, 'tenggara': 2, 'lestari': 2, 'babelan': 2, 'serpong': 2, 'balikpadam': 2, 'jati': 2, 'klaten': 2, 'sirampog': 2, 'jagir': 2, 'wonokromo': 2, 'kurun': 2, 'pm': 2, 'kembang': 2, 'maguwo': 2, 'bapakibu': 2, 'cibadak': 2, 'megap': 2, 'mobile': 2, 'sibuk': 2, 'thx': 2, 'batrai': 2, 'tlong': 2, 'canggih': 2, 'dinyalain': 2, 'kendal': 2, 'sawangan': 2, 'bumi': 2, 'ahmad': 2, 'hormat': 2, 'riko': 2, 'kuras': 2, 'betapa': 2, 'padamin': 2, 'nomer': 2, 'suara': 2, 'detik': 2, 'konslet': 2, 'baikkk': 2, 'muas': 2, 'piye': 2, 'ribut': 2, 'lelah': 2, 'bye': 2, 'ngabisin': 2, 'villa': 2, 'ra': 2, 'nassar': 2, 'fakk': 2, 'operator': 2, 'telkomsel': 2, 'pltd': 2, 'love': 2, 'you': 2, 'bikin': 2, 'mhon': 2, 'tandon': 2, 'publik': 2, 'maki': 2, 'numpang': 2, 'gawe': 2, 'anti': 2, 'toilet': 2, 'tmi': 2, 'tunjuk': 2, 'sonde': 2, 'simak': 2, 'lokasilokasi': 2, 'tambak': 2, 'sidoarjo': 2, 'ruko': 2, 'tirta': 2, 'serius': 2, 'kuningan': 2, 'metro': 2, 'hanyut': 2, 'larut': 2, 'ulu': 2, 'kambuh': 2, 'seret': 2, 'leher': 2, 'nafas': 2, 'khawatir': 2, 'tenggelem': 2, 'nelen': 2, 'sembuh': 2, 'last': 2, 'didih': 2, 'ngira': 2, 'adek': 2, 'kompor': 2, 'of': 2, 'time': 2, 'abai': 2, 'rendah': 2, 'melulu': 2, 'lesat': 2, 'nasib': 2, 'coffee': 2, 'pahit': 2, 'lidah': 2, 'sedikit': 2, 'sembari': 2, 'moriarty': 2, 'gelut': 2, 'watson': 2, 'palsu': 2, 'wanita': 2, 'ekor': 2, 'maba': 2, 'start': 2, 'seru': 2, 'sahabat': 2, 'selingkuh': 2, 'diam': 2, 'emosi': 2, 'kembar': 2, 'je': 2, 'senang': 2, 'sia': 2, 'lelep': 2, 'kapal': 2, 'begadang': 2, 'pisah': 2, 'agama': 2, 'islam': 2, 'ah': 2, 'bersihin': 2, 'fak': 2, 'bintaro': 2, 'ngerepoting': 2, 'gading': 2, 'stream': 2, 'dibenerinnya': 2, 'askfess': 2, 'dijadwalin': 2, 'tolol': 2, 'goblog': 2, 'mabar': 2, 'jenset': 2, 'sasageyo': 2, 'komplain': 2, 'and': 2, 'tebak': 2, 'panggung': 2, 'semen': 2, 'nyemen': 2, 'boro': 2, 'istana': 2, 'meruya': 2, 'senayan': 2, 'ngepet': 2, 'mall': 2, 'celana': 2, 'sempak': 2, 'komentar': 2, 'semut': 2, 'gaming': 2, 'code': 2, 'debugging': 2, 'routine': 2, 'puasa': 2, 'ngetes': 2, 'spill': 2, 'lahat': 2, 'sumbat': 2, 'lor': 2, 'mancur': 2, 'manja': 2, 'buaya': 2, 'tipu': 2, 'batere': 2, 'hitam': 2, 'ting': 2, 'ngadat': 2, 'anjer': 2, 'mua': 2, 'restu': 2, 'ngedit': 2, 'panass': 2, 'poris': 2, 'plawad': 2, 'ikatancintaep': 2, 'xx': 2, 'pintar': 2, 'ngebabu': 2, 'heu': 2, 'ebberapa': 2, 'runah': 2, 'disebrang': 2, 'toar': 2, 'iii': 2, 'tugu': 2, 'laranganutara': 2, 'tenda': 2, 'hajat': 2, 'hadeuuuhhh': 2, 'kreo': 2, 'btr': 2, 'incident': 2, 'huehue': 2, 'adminn': 2, 'kopelapip': 2, 'pudu': 2, 'mandau': 2, 'riau': 2, 'berturutturut': 2, 'supply': 2, 'bravo': 2, 'lumbu': 2, 'mager': 2, 'ngapangapain': 2, 'nyaaaaa': 2, 'matitrip': 2, 'trip': 2, 'jembt': 2, 'taauu': 2, 'musabab': 2, 'hareudang': 2, 'hhhhh': 2, 'online': 2, 'minn': 2, 'apasiii': 2, 'jatihandap': 2, 'lptp': 2, 'apayaaa': 2, 'wifikuuu': 2, 'bad': 2, 'ngecharge': 2, 'johar': 2, 'jakpus': 2, 'kebumen': 2, 'jlraya': 2, 'duta': 2, 'sukmajaya': 2, 'doulingo': 2, 'battery': 2, 'jatiraden': 2, 'wkwkwkw': 2, 'pret': 2, 'ok': 2, 'pakk': 2, 'jakal': 2, 'atass': 2, 'sinduharjo': 2, 'ngaglik': 2, 'diysering': 2, 'jltugu': 2, 'karya': 2, 'cipondoh': 2, 'perumahab': 2, 'harmoni': 2, 'mengigat': 2, 'cuacaa': 2, 'sekaliii': 2, 'ciater': 2, 'bgzt': 2, 'pemberitauan': 2, 'lembursitu': 2, 'kembangkuning': 2, 'jatiluhur': 2, 'purwakarta': 2, 'tindaklanjutnya': 2, 'nawi': 2, 'malik': 2, 'bedah': 2, 'assalamualaikum': 2, 'adekk': 2, 'dok': 2, 'siapsiap': 2, 'ambek': 2, 'tim': 2, 'triple': 2, 'claymore': 2, 'lalet': 2, 'manjah': 2, 'matik': 2, 'sjhsjs': 2, 'wah': 2, 'tbtba': 2, 'umma': 2, 'like': 2, 'ngapusin': 2, 'ssan': 2, 'rules': 2, 'gipewey': 2, 'saking': 2, 'berdamagenya': 2, 'plta': 2, 'pltu': 2, 'pltp': 2, 'call': 2, 'dibales': 2, 'ce': 2, 'inisiatip': 2, 'belut': 2, 'pulsa': 2, 'apartku': 2, 'bgn': 2, 'hahahhaah': 2, 'bego': 2, 'wendy': 2, 'goodbye': 2, 'leleh': 2, 'radio': 2, 'badayyy': 2, 'isa': 2, 'mburing': 2, 'kawan': 2, 'wifinya': 2, 'first': 2, 'people': 2, 'ketidaknyamanannya': 2, 'modem': 2, 'power': 2, 'stop': 2, 'myo': 2, 'mootssss': 2, 'iyakann': 2, 'kkalo': 2, 'nati': 2, 'isolasilakban': 2, 'kain': 2, 'baut': 2, 'geser': 2, 'sukses': 2, 'casenya': 2, 'melu': 2, 'lenyap': 2, 'wakaka': 2, 'dom': 2, 'umum': 2, 'halah': 2, 'basi': 2, 'fokua': 2, 'blumm': 2, 'jamah': 2, 'yauda': 2, 'sadang': 2, 'anteng': 2, 'saban': 2, 'uring': 2, 'rame': 2, 'masalhny': 2, 'elah': 2, 'menangisss': 2, 'ngejepleknya': 2, 'akoh': 2, 'dunia': 2, 'hiksss': 2, 'take': 2, 'care': 2, 'repaaa': 2, 'jauh': 2, 'begimane': 2, 'mengintari': 2, 'canggu': 2, 'healing': 2, 'akuujarang': 2, 'upgrade': 2, 'ios': 2, 'jantung': 2, 'hyungwon': 2, 'auction': 2, 'lelang': 2, 'kihyun': 2, 'minhyuk': 2, 'antem': 2, 'ngulur': 2, 'curi': 2, 'con': 2, 'tadik': 2, 'daftar': 2, 'antri': 2, 'interview': 2, 'email': 2, 'batrei': 2, 'vc': 2, 'we': 2, 'beras': 2, 'ari': 2, 'ngagolak': 2, 'karek': 2, 'engah': 2, 'keur': 2, 'nya': 2, 'maha': 2, 'twit': 2, 'valid': 2, 'godzilla': 2, 'nyokap': 2, 'load': 2, 'task': 2, 'scrum': 2, 'event': 2, 'anjinkkkk': 2, 'mlas': 2, 'bangetbikin': 2, 'lambatkek': 2, 'cpu': 2, 'cesss': 2, 'ademotaknya': 2, 'gitutagihan': 2, 'bodo': 2, 'drop': 2, 'twt': 2, 'seungmin': 2, 'dwaekki': 2, 'shirtless': 2, 'tantang': 2, 'bobo': 2, 'tibalistrik': 2, 'momen': 2, 'payah': 2, 'within': 2, 'hours': 2, 'dsb': 2, 'share': 2, 'bq': 2, 'pastiiii': 2, 'awal': 2, 'sukasuka': 2, 'hayati': 2, 'jelata': 2, 'kotabaru': 2, 'kecil': 2, 'donggggg': 2, 'sambel': 2, 'mangkok': 2, 'ruusun': 2, 'kosanku': 2, 'sono': 2, 'herra': 2, 'masyaa': 2, 'sawojajar': 2, 'cangkul': 2, 'patriot': 2, 'prima': 2, 'lingkar': 2, 'atensi': 2, 'medenda': 2, 'ngesrep': 2, 'srondol': 2, 'banyumanik': 2, 'klipang': 2, 'matikalian': 2, 'ngapainmakan': 2, 'gaji': 2, 'butamana': 2, 'bening': 2, 'gasik': 2, 'gumilir': 2, 'kunci': 2, 'bangsat': 2, 'nyekrip': 2, 'njuk': 2, 'saiki': 2, 'gur': 2, 'tengak': 2, 'tenguk': 2, 'sabun': 2, 'siramin': 2, 'albedo': 2, 'eugh': 2, 'cepetcepet': 2, 'freetoair': 2, 'gandeng': 2, 'bawang': 2, 'guru': 2, 'bk': 2, 'gworangnya': 2, 'gaadil': 2, 'favorit': 2, 'diandalin': 2, 'skola': 2, 'gasuka': 2, 'ntu': 2, 'murid': 2, 'sholat': 2, 'tahajjud': 2, 'hukum': 2, 'anjinc': 2, 'fantasi': 2, 'endingnya': 2, 'salju': 2, 'lakilakinya': 2, 'selamet': 2, 'suap': 2, 'dinner': 2, 'aldebarong': 2, 'touch': 2, 'andin': 2, 'kcelup': 2, 'klomoh': 2, 'rambutatun': 2, 'bekate': 2, 'makein': 2, 'lighting': 2, 'wardrobe': 2, 'whokilledsara': 2, 'feeling': 2, 'parasut': 2, 'rilek': 2, 'rilexjangan': 2, 'tuade': 2, 'lagitakde': 2, 'matidia': 2, 'royan': 2, 'jejangan': 2, 'risau': 2, 'rinduawakseparuhnyawa': 2, 'nando': 2, 'yaelah': 2, 'nunut': 2, 'gone': 2, 'wedi': 2, 'ngrepoti': 2, 'software': 2, 'anakkost': 2, 'smpurna': 2, 'telor': 2, 'sawi': 2, 'prbaikan': 2, 'gizi': 2, 'riah': 2, 'walau': 2, 'lapar': 2, 'bntuan': 2, 'universitas': 2, 'sara': 2, 'qis': 2, 'ria': 2, 'lali': 2, 'iku': 2, 'siji': 2, 'inggih': 2, 'meniko': 2, 'ambendino': 2, 'koyo': 2, 'upacara': 2, 'kibar': 2, 'benendera': 2, 'saka': 2, 'nimbo': 2, 'banyu': 2, 'pasti': 2, 'jhan': 2, 'chuueoy': 2, 'garen': 2, 'saksi': 2, 'live': 2, 'omg': 2, 'negeri': 2, 'ibunyatanah': 2, 'amanahnyadan': 2, 'reminder': 2, 'sekalikali': 2, 'oepoi': 2, 'cisadane': 2, 'gabikin': 2, 'bumiayu': 2, 'akeh': 2, 'sing': 2, 'heavy': 2, 'bobot': 2, 'bantaran': 2, 'lowokwaru': 2, 'mojolangu': 2, 'kecamatankelurahan': 2, 'konstruksi': 2, 'dibangunbangun': 2, 'poros': 2, 'kubang': 2, 'kerbau': 2, 'paninggaranbubakkandang': 2, 'werdi': 2, 'kabupat': 2, 'jambi': 2, 'engsel': 2, 'hahahahaha': 2, 'ninja': 2, 'prasangka': 2, 'sensitif': 2, 'notefromnik': 2, 'printer': 2, 'lalu': 2, 'denggen': 2, 'pekon': 2, 'balak': 2, 'suoh': 2, 'lampungbarat': 2, 'belumlamadiperbaiki': 2, 'sikumana': 2, 'kupangntt': 2, 'cilegon': 2, 'mensos': 2, 'ri': 2, 'menginginisiasi': 2, 'ntt': 2, 'optimisbangkitkannegeri': 2, 'rusakberlubang': 2, 'coldmix': 2, 'cilandak': 2, 'senin': 2, 'beritajakarta': 2, 'infojakarta': 2, 'pasukankuning': 2, 'wtp': 2, 'nyumbang': 2, 'pasu': 2, 'lirik': 2, 'order': 2, 'korslett': 2, 'skskj': 2, 'deadline': 2, 'perihal': 2, 'jlpahlawan': 2, 'revolusi': 2, 'kedungkandang': 2, 'darusalam': 2, 'jambu': 2, 'sukaraja': 2, 'kabbogor': 2, 'mustika': 2, 'kompleks': 2, 'sigura': 2, 'purimas': 2, 'wetan': 2, 'cipete': 2, 'pinang': 2, 'daei': 2, 'kanaya': 2, 'replay': 2, 'ketuk': 2, 'zoom': 2, 'meeting': 2, 'hadehhh': 2, 'nyalaudah': 2, 'heeeey': 2, 'dahhhhh': 2, 'cakung': 2, 'menteng': 2, 'dinyalahkan': 2, 'bii': 2, 'bi': 2, 'mamak': 2, 'naik': 2, 'eskalator': 2, 'lift': 2, 'tiati': 2, 'stuck': 2, 'sayng': 2, 'catatin': 2, 'laba': 2, 'kamera': 2, 'vlog': 2, 'roboh': 2, 'kuala': 2, 'tungkal': 2, 'bibik': 2, 'buruburu': 2, 'sangka': 2, 'poor': 2, 'little': 2, 'guy': 2, 'tegang': 2, 'seling': 2, 'sangkut': 2, 'trailer': 2, 'ecowisata': 2, 'tangkah': 2, 'ilegal': 2, 'ready': 2, 'when': 2, 'very': 2, 'nuuuwiat': 2, 'ngepel': 2, 'rasido': 2, 'ados': 2, 'pis': 2, 'memitigasi': 2, 'bbi': 2, 'komitmen': 2, 'sinergi': 2, 'mandiri': 2, 'bangsa': 2, 'mover': 2, 'disdik': 2, 'orangtua': 2, 'tribun': 2, 'kaltim': 2, 'terbit': 2, 'sendiri': 2, 'staycation': 2, 'gumbang': 2, 'chanelnya': 2, 'speakmike': 2, 'vibes': 2, 'sunyi': 2, 'internetnya': 2, 'setahundan': 2, 'totalbuat': 2, 'milenial': 2, 'ajagua': 2, 'malesmo': 2, 'madamin': 2, 'jaktimjakbarjakutjakseldll': 2, 'pusatx': 2, 'semuaxnyawa': 2, 'makhluk': 2, 'izroil': 2, 'mknmn': 2, 'khendaki': 2, 'radin': 2, 'intan': 2, 'nongol': 2, 'next': 2, 'timbul': 2, 'ancuuur': 2, 'cor': 2, 'pwol': 2, 'fortunernya': 2, 'tante': 2, 'bolongbolong': 2, 'jungkook': 2, 'pontianak': 2, 'selca': 2, 'tweet': 2, 'temuin': 2, 'anjay': 2, 'gilajalan': 2, 'kepiting': 2, 'rebusmerah': 2, 'rada': 2, 'curcol': 2, 'yehhhh': 2, 'pula': 2, 'muter': 2, 'sumawe': 2, 'terminal': 2, 'tapen': 2, 'ovj': 2, 'bandar': 2, 'atur': 2, 'putar': 2, 'rindou': 2, 'pelatuk': 2, 'doni': 2, 'gerak': 2, 'selagi': 2, 'pendam': 2, 'pastu': 2, 'deli': 2, 'kp': 2, 'sindangmulya': 2, 'padamnyala': 2, 'wulung': 2, 'kamis': 2, 'tung': 2, 'goa': 2, 'padat': 2, 'persis': 2, 'rombong': 2, 'bagi': 2, 'weekend': 2, 'mama': 2, 'susul': 2, 'cilebut': 2, 'nyiapin': 2, 'lain': 2, 'whosfan': 2, 'abistu': 2, 'maintenance': 2, 'dinihari': 2, 'anjg': 2, 'bebas': 2, 'kingdom': 2, 'nunukan': 2, 'gabut': 2, 'gr': 2, 'ngerjain': 2, 'kan': 2, 'kompensasi': 2, 'skz': 2, 'lemah': 2, 'buku': 2, 'level': 2, 'didik': 2, 'sauna': 2, 'puanas': 2, 'cak': 2, 'mari': 2, 'bupati': 2, 'bangsrijepara': 2, 'bantur': 2, 'buk': 2, 'tlng': 2, 'hantu': 2, 'tumpang': 2, 'tambora': 2, 'as': 2, 'cousin': 2, 'benda': 2, 'bil': 2, 'abiotik': 2, 'manjat': 2, 'simalingkar': 2, 'waktu': 2, 'perabot': 2, 'sumarsono': 2, 'gusta': 2, 'sunggal': 2, 'deret': 2, 'sbgian': 2, 'halaman': 2, 'proteksi': 2})\n",
            "2042\n"
          ],
          "name": "stdout"
        }
      ]
    },
    {
      "cell_type": "code",
      "metadata": {
        "colab": {
          "base_uri": "https://localhost:8080/",
          "height": 402
        },
        "id": "Fc689twOhh_8",
        "outputId": "0dd08a8c-558e-46db-ab07-20da30519f8c"
      },
      "source": [
        "dataTweet"
      ],
      "execution_count": null,
      "outputs": [
        {
          "output_type": "execute_result",
          "data": {
            "text/html": [
              "<div>\n",
              "<style scoped>\n",
              "    .dataframe tbody tr th:only-of-type {\n",
              "        vertical-align: middle;\n",
              "    }\n",
              "\n",
              "    .dataframe tbody tr th {\n",
              "        vertical-align: top;\n",
              "    }\n",
              "\n",
              "    .dataframe thead th {\n",
              "        text-align: right;\n",
              "    }\n",
              "</style>\n",
              "<table border=\"1\" class=\"dataframe\">\n",
              "  <thead>\n",
              "    <tr style=\"text-align: right;\">\n",
              "      <th></th>\n",
              "      <th>Label</th>\n",
              "      <th>Text</th>\n",
              "      <th>TextProcessed</th>\n",
              "    </tr>\n",
              "  </thead>\n",
              "  <tbody>\n",
              "    <tr>\n",
              "      <th>0</th>\n",
              "      <td>1</td>\n",
              "      <td>Di Pepo mangkrak bangun jalan Non tol ?\\nOtak ...</td>\n",
              "      <td>[mangkrak, bangun, jalan, tol, otak, mana, ota...</td>\n",
              "    </tr>\n",
              "    <tr>\n",
              "      <th>1</th>\n",
              "      <td>1</td>\n",
              "      <td>Pak ganjar hebat. Tp cuma untuk daerah2 yang p...</td>\n",
              "      <td>[ganjar, hebat, tapi, daerah, kota, daerah, ba...</td>\n",
              "    </tr>\n",
              "    <tr>\n",
              "      <th>2</th>\n",
              "      <td>1</td>\n",
              "      <td>Kalo perbatasan bekasi jakarta mah satunya jal...</td>\n",
              "      <td>[batas, bekas, jakarta, mah, satu, jalan, rusa...</td>\n",
              "    </tr>\n",
              "    <tr>\n",
              "      <th>3</th>\n",
              "      <td>1</td>\n",
              "      <td>Naik motor kena jalan gejlukan jalan yg rusak ...</td>\n",
              "      <td>[motor, kena, jalan, jalan, rusak, sampai, rum...</td>\n",
              "    </tr>\n",
              "    <tr>\n",
              "      <th>4</th>\n",
              "      <td>1</td>\n",
              "      <td>Bangun tidur badan sakit sakit semuaaa grgr ja...</td>\n",
              "      <td>[bangun, tidur, badan, sakit, sakit, semua, ga...</td>\n",
              "    </tr>\n",
              "    <tr>\n",
              "      <th>...</th>\n",
              "      <td>...</td>\n",
              "      <td>...</td>\n",
              "      <td>...</td>\n",
              "    </tr>\n",
              "    <tr>\n",
              "      <th>1768</th>\n",
              "      <td>0</td>\n",
              "      <td>mencari sinyal dari bts yang lebih jauh dan t...</td>\n",
              "      <td>[cari, sinyal, bts, kondisi, sinyal, lemah, si...</td>\n",
              "    </tr>\n",
              "    <tr>\n",
              "      <th>1769</th>\n",
              "      <td>0</td>\n",
              "      <td>siang kak johan maaf ya mengenai keluhan siny...</td>\n",
              "      <td>[siang, kak, maaf, keluh, sinyal, hilang, list...</td>\n",
              "    </tr>\n",
              "    <tr>\n",
              "      <th>1770</th>\n",
              "      <td>0</td>\n",
              "      <td>nyala juga ni listrik  bangun pagi gara listri...</td>\n",
              "      <td>[nyala, ini, listrik, bangun, pagi, gara, list...</td>\n",
              "    </tr>\n",
              "    <tr>\n",
              "      <th>1771</th>\n",
              "      <td>0</td>\n",
              "      <td>padam listrik berarti allah suruh lanjut rebah...</td>\n",
              "      <td>[padam, listrik, allah, suruh, rebah]</td>\n",
              "    </tr>\n",
              "    <tr>\n",
              "      <th>1772</th>\n",
              "      <td>0</td>\n",
              "      <td>mau isi sopipay aja susah banget sih  yang ero...</td>\n",
              "      <td>[isi, susah, banget, padam, listrik]</td>\n",
              "    </tr>\n",
              "  </tbody>\n",
              "</table>\n",
              "<p>1773 rows × 3 columns</p>\n",
              "</div>"
            ],
            "text/plain": [
              "      Label  ...                                      TextProcessed\n",
              "0         1  ...  [mangkrak, bangun, jalan, tol, otak, mana, ota...\n",
              "1         1  ...  [ganjar, hebat, tapi, daerah, kota, daerah, ba...\n",
              "2         1  ...  [batas, bekas, jakarta, mah, satu, jalan, rusa...\n",
              "3         1  ...  [motor, kena, jalan, jalan, rusak, sampai, rum...\n",
              "4         1  ...  [bangun, tidur, badan, sakit, sakit, semua, ga...\n",
              "...     ...  ...                                                ...\n",
              "1768      0  ...  [cari, sinyal, bts, kondisi, sinyal, lemah, si...\n",
              "1769      0  ...  [siang, kak, maaf, keluh, sinyal, hilang, list...\n",
              "1770      0  ...  [nyala, ini, listrik, bangun, pagi, gara, list...\n",
              "1771      0  ...              [padam, listrik, allah, suruh, rebah]\n",
              "1772      0  ...               [isi, susah, banget, padam, listrik]\n",
              "\n",
              "[1773 rows x 3 columns]"
            ]
          },
          "metadata": {
            "tags": []
          },
          "execution_count": 36
        }
      ]
    },
    {
      "cell_type": "code",
      "metadata": {
        "id": "fp8NPE0aeS5O"
      },
      "source": [
        "def removeempty(tweet):\n",
        "  res = [ele for ele in tweet if ele != []]\n",
        "  return \" \".join(res)"
      ],
      "execution_count": null,
      "outputs": []
    },
    {
      "cell_type": "code",
      "metadata": {
        "colab": {
          "base_uri": "https://localhost:8080/",
          "height": 66,
          "referenced_widgets": [
            "08cb7fb9f2f348f8b77d36a714a175b3",
            "b42e2790121a4d859be5ac3853e09e11",
            "d42bb2dc84af425ca9882bbef5df1302",
            "10aafd9ef6ec427787ac7d928009648b",
            "61d1839fd08d4748b40929610d7c1345",
            "ea56a2eace5143fd99388a1e96145baf",
            "6afee8dba1b846c7876637112c9fd5b7",
            "4fb721febdbc4d4b9b0a35540500af30"
          ]
        },
        "id": "HV7JaDz2ehwL",
        "outputId": "0ddecb66-4b3d-490e-8968-167b12aab2bf"
      },
      "source": [
        "dataTweet['TextREProcessed'] = dataTweet['TextProcessed'].swifter.apply(removeempty)"
      ],
      "execution_count": null,
      "outputs": [
        {
          "output_type": "display_data",
          "data": {
            "application/vnd.jupyter.widget-view+json": {
              "model_id": "08cb7fb9f2f348f8b77d36a714a175b3",
              "version_minor": 0,
              "version_major": 2
            },
            "text/plain": [
              "HBox(children=(FloatProgress(value=0.0, description='Pandas Apply', max=1773.0, style=ProgressStyle(descriptio…"
            ]
          },
          "metadata": {
            "tags": []
          }
        },
        {
          "output_type": "stream",
          "text": [
            "\n"
          ],
          "name": "stdout"
        }
      ]
    },
    {
      "cell_type": "code",
      "metadata": {
        "colab": {
          "base_uri": "https://localhost:8080/",
          "height": 402
        },
        "id": "nDfbA97lexHs",
        "outputId": "dc64e9e5-23b1-4d5d-8220-9428becdc997"
      },
      "source": [
        "dataTweet"
      ],
      "execution_count": null,
      "outputs": [
        {
          "output_type": "execute_result",
          "data": {
            "text/html": [
              "<div>\n",
              "<style scoped>\n",
              "    .dataframe tbody tr th:only-of-type {\n",
              "        vertical-align: middle;\n",
              "    }\n",
              "\n",
              "    .dataframe tbody tr th {\n",
              "        vertical-align: top;\n",
              "    }\n",
              "\n",
              "    .dataframe thead th {\n",
              "        text-align: right;\n",
              "    }\n",
              "</style>\n",
              "<table border=\"1\" class=\"dataframe\">\n",
              "  <thead>\n",
              "    <tr style=\"text-align: right;\">\n",
              "      <th></th>\n",
              "      <th>Label</th>\n",
              "      <th>Text</th>\n",
              "      <th>TextProcessed</th>\n",
              "      <th>TextREProcessed</th>\n",
              "    </tr>\n",
              "  </thead>\n",
              "  <tbody>\n",
              "    <tr>\n",
              "      <th>0</th>\n",
              "      <td>1</td>\n",
              "      <td>Di Pepo mangkrak bangun jalan Non tol ?\\nOtak ...</td>\n",
              "      <td>[mangkrak, bangun, jalan, tol, otak, mana, ota...</td>\n",
              "      <td>mangkrak bangun jalan tol otak mana otak kasih...</td>\n",
              "    </tr>\n",
              "    <tr>\n",
              "      <th>1</th>\n",
              "      <td>1</td>\n",
              "      <td>Pak ganjar hebat. Tp cuma untuk daerah2 yang p...</td>\n",
              "      <td>[ganjar, hebat, tapi, daerah, kota, daerah, ba...</td>\n",
              "      <td>ganjar hebat tapi daerah kota daerah batas jat...</td>\n",
              "    </tr>\n",
              "    <tr>\n",
              "      <th>2</th>\n",
              "      <td>1</td>\n",
              "      <td>Kalo perbatasan bekasi jakarta mah satunya jal...</td>\n",
              "      <td>[batas, bekas, jakarta, mah, satu, jalan, rusa...</td>\n",
              "      <td>batas bekas jakarta mah satu jalan rusak loban...</td>\n",
              "    </tr>\n",
              "    <tr>\n",
              "      <th>3</th>\n",
              "      <td>1</td>\n",
              "      <td>Naik motor kena jalan gejlukan jalan yg rusak ...</td>\n",
              "      <td>[motor, kena, jalan, jalan, rusak, sampai, rum...</td>\n",
              "      <td>motor kena jalan jalan rusak sampai rumah peru...</td>\n",
              "    </tr>\n",
              "    <tr>\n",
              "      <th>4</th>\n",
              "      <td>1</td>\n",
              "      <td>Bangun tidur badan sakit sakit semuaaa grgr ja...</td>\n",
              "      <td>[bangun, tidur, badan, sakit, sakit, semua, ga...</td>\n",
              "      <td>bangun tidur badan sakit sakit semua gara-gara...</td>\n",
              "    </tr>\n",
              "    <tr>\n",
              "      <th>...</th>\n",
              "      <td>...</td>\n",
              "      <td>...</td>\n",
              "      <td>...</td>\n",
              "      <td>...</td>\n",
              "    </tr>\n",
              "    <tr>\n",
              "      <th>1768</th>\n",
              "      <td>0</td>\n",
              "      <td>mencari sinyal dari bts yang lebih jauh dan t...</td>\n",
              "      <td>[cari, sinyal, bts, kondisi, sinyal, lemah, si...</td>\n",
              "      <td>cari sinyal bts kondisi sinyal lemah sila coba...</td>\n",
              "    </tr>\n",
              "    <tr>\n",
              "      <th>1769</th>\n",
              "      <td>0</td>\n",
              "      <td>siang kak johan maaf ya mengenai keluhan siny...</td>\n",
              "      <td>[siang, kak, maaf, keluh, sinyal, hilang, list...</td>\n",
              "      <td>siang kak maaf keluh sinyal hilang listrik pad...</td>\n",
              "    </tr>\n",
              "    <tr>\n",
              "      <th>1770</th>\n",
              "      <td>0</td>\n",
              "      <td>nyala juga ni listrik  bangun pagi gara listri...</td>\n",
              "      <td>[nyala, ini, listrik, bangun, pagi, gara, list...</td>\n",
              "      <td>nyala ini listrik bangun pagi gara listrik pad...</td>\n",
              "    </tr>\n",
              "    <tr>\n",
              "      <th>1771</th>\n",
              "      <td>0</td>\n",
              "      <td>padam listrik berarti allah suruh lanjut rebah...</td>\n",
              "      <td>[padam, listrik, allah, suruh, rebah]</td>\n",
              "      <td>padam listrik allah suruh rebah</td>\n",
              "    </tr>\n",
              "    <tr>\n",
              "      <th>1772</th>\n",
              "      <td>0</td>\n",
              "      <td>mau isi sopipay aja susah banget sih  yang ero...</td>\n",
              "      <td>[isi, susah, banget, padam, listrik]</td>\n",
              "      <td>isi susah banget padam listrik</td>\n",
              "    </tr>\n",
              "  </tbody>\n",
              "</table>\n",
              "<p>1773 rows × 4 columns</p>\n",
              "</div>"
            ],
            "text/plain": [
              "      Label  ...                                    TextREProcessed\n",
              "0         1  ...  mangkrak bangun jalan tol otak mana otak kasih...\n",
              "1         1  ...  ganjar hebat tapi daerah kota daerah batas jat...\n",
              "2         1  ...  batas bekas jakarta mah satu jalan rusak loban...\n",
              "3         1  ...  motor kena jalan jalan rusak sampai rumah peru...\n",
              "4         1  ...  bangun tidur badan sakit sakit semua gara-gara...\n",
              "...     ...  ...                                                ...\n",
              "1768      0  ...  cari sinyal bts kondisi sinyal lemah sila coba...\n",
              "1769      0  ...  siang kak maaf keluh sinyal hilang listrik pad...\n",
              "1770      0  ...  nyala ini listrik bangun pagi gara listrik pad...\n",
              "1771      0  ...                    padam listrik allah suruh rebah\n",
              "1772      0  ...                     isi susah banget padam listrik\n",
              "\n",
              "[1773 rows x 4 columns]"
            ]
          },
          "metadata": {
            "tags": []
          },
          "execution_count": 39
        }
      ]
    },
    {
      "cell_type": "code",
      "metadata": {
        "colab": {
          "base_uri": "https://localhost:8080/",
          "height": 66,
          "referenced_widgets": [
            "35633b56396d4b7f9331fa55a4903a20",
            "dce01529224b4b93813ecdaf5288ef68",
            "a734c6c06c954d22814d47c3afd6ad36",
            "b091ea3331a94f8b9dcaa0998dd1c0da",
            "724722682637490eb1554b84b44b124d",
            "dd685da8131e443a8033c7c0d8e364eb",
            "197cd594daae4eb7b4d5cd4a3fa0142b",
            "6d7d43ed531d49eda79fa00a3407fef7"
          ]
        },
        "id": "0nC8Av8nyETg",
        "outputId": "58962c92-1ced-43c3-a5de-32b82db04c2c"
      },
      "source": [
        "dataTweet['TextREProcessed'] = dataTweet['TextREProcessed'].swifter.apply(processTweet)"
      ],
      "execution_count": null,
      "outputs": [
        {
          "output_type": "display_data",
          "data": {
            "application/vnd.jupyter.widget-view+json": {
              "model_id": "35633b56396d4b7f9331fa55a4903a20",
              "version_minor": 0,
              "version_major": 2
            },
            "text/plain": [
              "HBox(children=(FloatProgress(value=0.0, description='Pandas Apply', max=1773.0, style=ProgressStyle(descriptio…"
            ]
          },
          "metadata": {
            "tags": []
          }
        },
        {
          "output_type": "stream",
          "text": [
            "\n"
          ],
          "name": "stdout"
        }
      ]
    },
    {
      "cell_type": "code",
      "metadata": {
        "colab": {
          "base_uri": "https://localhost:8080/",
          "height": 402
        },
        "id": "Ob8mkZI5yU5I",
        "outputId": "08b7e404-432e-4201-c6cf-8fa39ae8f702"
      },
      "source": [
        "dataTweet"
      ],
      "execution_count": null,
      "outputs": [
        {
          "output_type": "execute_result",
          "data": {
            "text/html": [
              "<div>\n",
              "<style scoped>\n",
              "    .dataframe tbody tr th:only-of-type {\n",
              "        vertical-align: middle;\n",
              "    }\n",
              "\n",
              "    .dataframe tbody tr th {\n",
              "        vertical-align: top;\n",
              "    }\n",
              "\n",
              "    .dataframe thead th {\n",
              "        text-align: right;\n",
              "    }\n",
              "</style>\n",
              "<table border=\"1\" class=\"dataframe\">\n",
              "  <thead>\n",
              "    <tr style=\"text-align: right;\">\n",
              "      <th></th>\n",
              "      <th>Label</th>\n",
              "      <th>Text</th>\n",
              "      <th>TextProcessed</th>\n",
              "      <th>TextREProcessed</th>\n",
              "    </tr>\n",
              "  </thead>\n",
              "  <tbody>\n",
              "    <tr>\n",
              "      <th>0</th>\n",
              "      <td>1</td>\n",
              "      <td>Di Pepo mangkrak bangun jalan Non tol ?\\nOtak ...</td>\n",
              "      <td>[mangkrak, bangun, jalan, tol, otak, mana, ota...</td>\n",
              "      <td>mangkrak bangun jalan tol otak mana otak kasih...</td>\n",
              "    </tr>\n",
              "    <tr>\n",
              "      <th>1</th>\n",
              "      <td>1</td>\n",
              "      <td>Pak ganjar hebat. Tp cuma untuk daerah2 yang p...</td>\n",
              "      <td>[ganjar, hebat, tapi, daerah, kota, daerah, ba...</td>\n",
              "      <td>ganjar hebat tapi daerah kota daerah batas jat...</td>\n",
              "    </tr>\n",
              "    <tr>\n",
              "      <th>2</th>\n",
              "      <td>1</td>\n",
              "      <td>Kalo perbatasan bekasi jakarta mah satunya jal...</td>\n",
              "      <td>[batas, bekas, jakarta, mah, satu, jalan, rusa...</td>\n",
              "      <td>batas bekas jakarta mah satu jalan rusak loban...</td>\n",
              "    </tr>\n",
              "    <tr>\n",
              "      <th>3</th>\n",
              "      <td>1</td>\n",
              "      <td>Naik motor kena jalan gejlukan jalan yg rusak ...</td>\n",
              "      <td>[motor, kena, jalan, jalan, rusak, sampai, rum...</td>\n",
              "      <td>motor kena jalan jalan rusak sampai rumah peru...</td>\n",
              "    </tr>\n",
              "    <tr>\n",
              "      <th>4</th>\n",
              "      <td>1</td>\n",
              "      <td>Bangun tidur badan sakit sakit semuaaa grgr ja...</td>\n",
              "      <td>[bangun, tidur, badan, sakit, sakit, semua, ga...</td>\n",
              "      <td>bangun tidur badan sakit sakit semua garagara ...</td>\n",
              "    </tr>\n",
              "    <tr>\n",
              "      <th>...</th>\n",
              "      <td>...</td>\n",
              "      <td>...</td>\n",
              "      <td>...</td>\n",
              "      <td>...</td>\n",
              "    </tr>\n",
              "    <tr>\n",
              "      <th>1768</th>\n",
              "      <td>0</td>\n",
              "      <td>mencari sinyal dari bts yang lebih jauh dan t...</td>\n",
              "      <td>[cari, sinyal, bts, kondisi, sinyal, lemah, si...</td>\n",
              "      <td>cari sinyal bts kondisi sinyal lemah sila coba...</td>\n",
              "    </tr>\n",
              "    <tr>\n",
              "      <th>1769</th>\n",
              "      <td>0</td>\n",
              "      <td>siang kak johan maaf ya mengenai keluhan siny...</td>\n",
              "      <td>[siang, kak, maaf, keluh, sinyal, hilang, list...</td>\n",
              "      <td>siang kak maaf keluh sinyal hilang listrik pad...</td>\n",
              "    </tr>\n",
              "    <tr>\n",
              "      <th>1770</th>\n",
              "      <td>0</td>\n",
              "      <td>nyala juga ni listrik  bangun pagi gara listri...</td>\n",
              "      <td>[nyala, ini, listrik, bangun, pagi, gara, list...</td>\n",
              "      <td>nyala ini listrik bangun pagi gara listrik pad...</td>\n",
              "    </tr>\n",
              "    <tr>\n",
              "      <th>1771</th>\n",
              "      <td>0</td>\n",
              "      <td>padam listrik berarti allah suruh lanjut rebah...</td>\n",
              "      <td>[padam, listrik, allah, suruh, rebah]</td>\n",
              "      <td>padam listrik allah suruh rebah</td>\n",
              "    </tr>\n",
              "    <tr>\n",
              "      <th>1772</th>\n",
              "      <td>0</td>\n",
              "      <td>mau isi sopipay aja susah banget sih  yang ero...</td>\n",
              "      <td>[isi, susah, banget, padam, listrik]</td>\n",
              "      <td>isi susah banget padam listrik</td>\n",
              "    </tr>\n",
              "  </tbody>\n",
              "</table>\n",
              "<p>1773 rows × 4 columns</p>\n",
              "</div>"
            ],
            "text/plain": [
              "      Label  ...                                    TextREProcessed\n",
              "0         1  ...  mangkrak bangun jalan tol otak mana otak kasih...\n",
              "1         1  ...  ganjar hebat tapi daerah kota daerah batas jat...\n",
              "2         1  ...  batas bekas jakarta mah satu jalan rusak loban...\n",
              "3         1  ...  motor kena jalan jalan rusak sampai rumah peru...\n",
              "4         1  ...  bangun tidur badan sakit sakit semua garagara ...\n",
              "...     ...  ...                                                ...\n",
              "1768      0  ...  cari sinyal bts kondisi sinyal lemah sila coba...\n",
              "1769      0  ...  siang kak maaf keluh sinyal hilang listrik pad...\n",
              "1770      0  ...  nyala ini listrik bangun pagi gara listrik pad...\n",
              "1771      0  ...                    padam listrik allah suruh rebah\n",
              "1772      0  ...                     isi susah banget padam listrik\n",
              "\n",
              "[1773 rows x 4 columns]"
            ]
          },
          "metadata": {
            "tags": []
          },
          "execution_count": 41
        }
      ]
    },
    {
      "cell_type": "markdown",
      "metadata": {
        "id": "U2z_ZSY4RVvM"
      },
      "source": [
        "# **FastText**"
      ]
    },
    {
      "cell_type": "code",
      "metadata": {
        "colab": {
          "base_uri": "https://localhost:8080/"
        },
        "id": "O-uyT-3aRact",
        "outputId": "3be7274e-690b-4bad-d9fb-a860a4780793"
      },
      "source": [
        "from google.colab import drive\n",
        "drive.mount('/content/drive')"
      ],
      "execution_count": null,
      "outputs": [
        {
          "output_type": "stream",
          "text": [
            "Drive already mounted at /content/drive; to attempt to forcibly remount, call drive.mount(\"/content/drive\", force_remount=True).\n"
          ],
          "name": "stdout"
        }
      ]
    },
    {
      "cell_type": "code",
      "metadata": {
        "id": "JyJsbGiKR1Pc"
      },
      "source": [
        "from gensim.models import FastText\n",
        "from gensim.test.utils import datapath\n",
        "\n",
        "path = datapath('/content/drive/My Drive/cc.id.300.bin')\n",
        "embedding = FastText.load_fasttext_format(path)"
      ],
      "execution_count": null,
      "outputs": []
    },
    {
      "cell_type": "code",
      "metadata": {
        "colab": {
          "base_uri": "https://localhost:8080/"
        },
        "id": "kHN5JQ6BhZMz",
        "outputId": "0d5751c2-97e5-4e6e-8eca-f429e7522d02"
      },
      "source": [
        "embedding.most_similar('mati')"
      ],
      "execution_count": null,
      "outputs": [
        {
          "output_type": "stream",
          "text": [
            "/usr/local/lib/python3.7/dist-packages/ipykernel_launcher.py:1: DeprecationWarning: Call to deprecated `most_similar` (Method will be removed in 4.0.0, use self.wv.most_similar() instead).\n",
            "  \"\"\"Entry point for launching an IPython kernel.\n"
          ],
          "name": "stderr"
        },
        {
          "output_type": "execute_result",
          "data": {
            "text/plain": [
              "[('mati.Bo', 0.7306226491928101),\n",
              " ('mati.Ia', 0.7183191180229187),\n",
              " ('mati.2', 0.7148823738098145),\n",
              " ('mati-', 0.7112743854522705),\n",
              " ('mati5', 0.7014772295951843),\n",
              " ('matinya', 0.6999092102050781),\n",
              " ('matii', 0.6971365213394165),\n",
              " ('mati.-', 0.6965159177780151),\n",
              " ('mati.', 0.6949059367179871),\n",
              " ('matian', 0.667380154132843)]"
            ]
          },
          "metadata": {
            "tags": []
          },
          "execution_count": 44
        }
      ]
    },
    {
      "cell_type": "code",
      "metadata": {
        "colab": {
          "base_uri": "https://localhost:8080/"
        },
        "id": "aKGJYVq6vTIH",
        "outputId": "b1fa9611-bebb-48c9-bd73-a7196d29a2da"
      },
      "source": [
        "embedding['makan'].shape"
      ],
      "execution_count": null,
      "outputs": [
        {
          "output_type": "stream",
          "text": [
            "/usr/local/lib/python3.7/dist-packages/ipykernel_launcher.py:1: DeprecationWarning: Call to deprecated `__getitem__` (Method will be removed in 4.0.0, use self.wv.__getitem__() instead).\n",
            "  \"\"\"Entry point for launching an IPython kernel.\n"
          ],
          "name": "stderr"
        },
        {
          "output_type": "execute_result",
          "data": {
            "text/plain": [
              "(300,)"
            ]
          },
          "metadata": {
            "tags": []
          },
          "execution_count": 45
        }
      ]
    },
    {
      "cell_type": "code",
      "metadata": {
        "id": "KoJMg3zc0Bme"
      },
      "source": [
        "def get_vector(x):\n",
        "  word_embedding = embedding[x]\n",
        "  return word_embedding"
      ],
      "execution_count": null,
      "outputs": []
    },
    {
      "cell_type": "code",
      "metadata": {
        "colab": {
          "base_uri": "https://localhost:8080/",
          "height": 469
        },
        "id": "TJdywwFhgJXk",
        "outputId": "851f7323-35f7-4e77-f910-67f3252eaf76"
      },
      "source": [
        "dataTweet"
      ],
      "execution_count": null,
      "outputs": [
        {
          "output_type": "execute_result",
          "data": {
            "text/html": [
              "<div>\n",
              "<style scoped>\n",
              "    .dataframe tbody tr th:only-of-type {\n",
              "        vertical-align: middle;\n",
              "    }\n",
              "\n",
              "    .dataframe tbody tr th {\n",
              "        vertical-align: top;\n",
              "    }\n",
              "\n",
              "    .dataframe thead th {\n",
              "        text-align: right;\n",
              "    }\n",
              "</style>\n",
              "<table border=\"1\" class=\"dataframe\">\n",
              "  <thead>\n",
              "    <tr style=\"text-align: right;\">\n",
              "      <th></th>\n",
              "      <th>Label</th>\n",
              "      <th>Text</th>\n",
              "      <th>TextProcessed</th>\n",
              "      <th>TextREProcessed</th>\n",
              "    </tr>\n",
              "  </thead>\n",
              "  <tbody>\n",
              "    <tr>\n",
              "      <th>0</th>\n",
              "      <td>1</td>\n",
              "      <td>Di Pepo mangkrak bangun jalan Non tol ?\\nOtak ...</td>\n",
              "      <td>[mangkrak, bangun, jalan, tol, otak, mana, ota...</td>\n",
              "      <td>mangkrak bangun jalan tol otak mana otak kasih...</td>\n",
              "    </tr>\n",
              "    <tr>\n",
              "      <th>1</th>\n",
              "      <td>1</td>\n",
              "      <td>Pak ganjar hebat. Tp cuma untuk daerah2 yang p...</td>\n",
              "      <td>[ganjar, hebat, tapi, daerah, kota, daerah, ba...</td>\n",
              "      <td>ganjar hebat tapi daerah kota daerah batas jat...</td>\n",
              "    </tr>\n",
              "    <tr>\n",
              "      <th>2</th>\n",
              "      <td>1</td>\n",
              "      <td>Kalo perbatasan bekasi jakarta mah satunya jal...</td>\n",
              "      <td>[batas, bekas, jakarta, mah, satu, jalan, rusa...</td>\n",
              "      <td>batas bekas jakarta mah satu jalan rusak satu ...</td>\n",
              "    </tr>\n",
              "    <tr>\n",
              "      <th>3</th>\n",
              "      <td>1</td>\n",
              "      <td>Naik motor kena jalan gejlukan jalan yg rusak ...</td>\n",
              "      <td>[motor, kena, jalan, jalan, rusak, sampai, rum...</td>\n",
              "      <td>motor kena jalan jalan rusak sampai rumah peru...</td>\n",
              "    </tr>\n",
              "    <tr>\n",
              "      <th>4</th>\n",
              "      <td>1</td>\n",
              "      <td>Bangun tidur badan sakit sakit semuaaa grgr ja...</td>\n",
              "      <td>[bangun, tidur, badan, sakit, sakit, semua, ga...</td>\n",
              "      <td>bangun tidur badan sakit sakit semua gara-gara...</td>\n",
              "    </tr>\n",
              "    <tr>\n",
              "      <th>...</th>\n",
              "      <td>...</td>\n",
              "      <td>...</td>\n",
              "      <td>...</td>\n",
              "      <td>...</td>\n",
              "    </tr>\n",
              "    <tr>\n",
              "      <th>1257</th>\n",
              "      <td>0</td>\n",
              "      <td>di jalan jam 1 siang bolong matahari pontianak...</td>\n",
              "      <td>[jalan, jam, siang, bolong, main, sampai, temp...</td>\n",
              "      <td>jalan jam siang bolong main sampai tempat kerj...</td>\n",
              "    </tr>\n",
              "    <tr>\n",
              "      <th>1258</th>\n",
              "      <td>0</td>\n",
              "      <td>@caratstalk @pledis_17 Memuji kegantengan send...</td>\n",
              "      <td>[puji, ganteng, foto, kucing, beda, beda, jala...</td>\n",
              "      <td>puji ganteng foto kucing beda beda jalan siang...</td>\n",
              "    </tr>\n",
              "    <tr>\n",
              "      <th>1259</th>\n",
              "      <td>0</td>\n",
              "      <td>Gila...jalan kaki di siang bolong, muka dah ke...</td>\n",
              "      <td>[kaki, siang, bolong, muka, sudah, kayak, samp...</td>\n",
              "      <td>kaki siang bolong muka sudah kayak sampai kaki...</td>\n",
              "    </tr>\n",
              "    <tr>\n",
              "      <th>1260</th>\n",
              "      <td>1</td>\n",
              "      <td>macet mulu air dasar ðŸ’© @ pdam</td>\n",
              "      <td>[macet, mulu, air, dasar, pdam]</td>\n",
              "      <td>macet mulu air dasar pdam</td>\n",
              "    </tr>\n",
              "    <tr>\n",
              "      <th>1261</th>\n",
              "      <td>0</td>\n",
              "      <td>@sipenakecil Cieeee Cieeee, yang program air n...</td>\n",
              "      <td>[cie, cie, program, air, macet]</td>\n",
              "      <td>cie cie program air macet</td>\n",
              "    </tr>\n",
              "  </tbody>\n",
              "</table>\n",
              "<p>1262 rows × 4 columns</p>\n",
              "</div>"
            ],
            "text/plain": [
              "      Label  ...                                    TextREProcessed\n",
              "0         1  ...  mangkrak bangun jalan tol otak mana otak kasih...\n",
              "1         1  ...  ganjar hebat tapi daerah kota daerah batas jat...\n",
              "2         1  ...  batas bekas jakarta mah satu jalan rusak satu ...\n",
              "3         1  ...  motor kena jalan jalan rusak sampai rumah peru...\n",
              "4         1  ...  bangun tidur badan sakit sakit semua gara-gara...\n",
              "...     ...  ...                                                ...\n",
              "1257      0  ...  jalan jam siang bolong main sampai tempat kerj...\n",
              "1258      0  ...  puji ganteng foto kucing beda beda jalan siang...\n",
              "1259      0  ...  kaki siang bolong muka sudah kayak sampai kaki...\n",
              "1260      1  ...                          macet mulu air dasar pdam\n",
              "1261      0  ...                          cie cie program air macet\n",
              "\n",
              "[1262 rows x 4 columns]"
            ]
          },
          "metadata": {
            "tags": []
          },
          "execution_count": 50
        }
      ]
    },
    {
      "cell_type": "markdown",
      "metadata": {
        "id": "WqBOgH6zt6n2"
      },
      "source": [
        "# **CNN-Bidirectional**"
      ]
    },
    {
      "cell_type": "code",
      "metadata": {
        "id": "_kki-yp2rK7I"
      },
      "source": [
        "import numpy as np\n",
        "import keras.backend as K\n",
        "\n",
        "train_size = int(0.8*(len(dataTweet['TextREProcessed'])))\n",
        "test_size = int(0.2*(len(dataTweet['TextREProcessed'])))\n",
        "\n",
        "max_no_tokens = 40\n",
        "\n",
        "indexes = set(np.random.choice(len(dataTweet['TextREProcessed']), train_size + test_size, replace=False))\n",
        "\n",
        "x_train = np.zeros((train_size, max_no_tokens, 300), dtype=K.floatx())\n",
        "y_train = np.zeros((train_size, 2), dtype=np.int32)\n",
        "\n",
        "x_test = np.zeros((test_size, max_no_tokens, 300), dtype=K.floatx())\n",
        "y_test = np.zeros((test_size, 2), dtype=np.int32)"
      ],
      "execution_count": null,
      "outputs": []
    },
    {
      "cell_type": "code",
      "metadata": {
        "id": "RNiA0MSxs526"
      },
      "source": [
        "for i, index in enumerate(indexes):\n",
        "    for t, token in enumerate(dataTweet['TextREProcessed'][index]):\n",
        "        if t >= max_no_tokens:\n",
        "            break\n",
        "      \n",
        "        if token not in embedding.wv:\n",
        "            continue\n",
        "    \n",
        "        if i < train_size:\n",
        "            x_train[i, t, :] = embedding.wv[token]\n",
        "        else:\n",
        "            x_test[i - train_size, t, :] = embedding.wv[token]\n",
        "\n",
        "  \n",
        "    if i < train_size:\n",
        "        y_train[i, :] = [1.0, 0.0] if dataTweet['Label'][index] == 0 else [0.0, 1.0]\n",
        "    else:\n",
        "        y_test[i - train_size, :] = [1.0, 0.0] if dataTweet['Label'][index] == 0 else [0.0, 1.0]"
      ],
      "execution_count": null,
      "outputs": []
    },
    {
      "cell_type": "code",
      "metadata": {
        "colab": {
          "base_uri": "https://localhost:8080/"
        },
        "id": "lZBgM8sWtt6h",
        "outputId": "8aad6737-a0bb-427e-c3f9-75c7131ef254"
      },
      "source": [
        "x_train.shape, y_test.shape"
      ],
      "execution_count": null,
      "outputs": [
        {
          "output_type": "execute_result",
          "data": {
            "text/plain": [
              "((1418, 40, 300), (354, 2))"
            ]
          },
          "metadata": {
            "tags": []
          },
          "execution_count": 48
        }
      ]
    },
    {
      "cell_type": "code",
      "metadata": {
        "colab": {
          "base_uri": "https://localhost:8080/"
        },
        "id": "O1pE2WhSuLiS",
        "outputId": "6907f029-7826-4455-880e-9fb723ca04d4"
      },
      "source": [
        "from keras.models import Sequential\n",
        "from keras.layers import Conv1D, Dropout, Dense, Flatten, LSTM, MaxPooling1D, Bidirectional\n",
        "from keras.optimizers import Adam\n",
        "\n",
        "model = Sequential()\n",
        "\n",
        "model.add(Conv1D(32, kernel_size=3, activation='elu', padding='same',\n",
        "                 input_shape=(max_no_tokens, 300)))\n",
        "model.add(MaxPooling1D(pool_size=2))\n",
        "model.add(Conv1D(16, kernel_size=3, activation='relu', padding='same'))\n",
        "model.add(MaxPooling1D(pool_size=2))\n",
        "model.add(Bidirectional(LSTM(512, dropout=0.1, recurrent_dropout=0.3)))\n",
        "\n",
        "model.add(Dropout(0.25))\n",
        "\n",
        "model.add(Dense(2, activation='sigmoid'))\n",
        "\n",
        "model.compile(loss='BinaryCrossentropy', optimizer=Adam(lr=0.0005), metrics=['accuracy'])\n",
        "\n",
        "model.summary()"
      ],
      "execution_count": null,
      "outputs": [
        {
          "output_type": "stream",
          "text": [
            "Model: \"sequential_9\"\n",
            "_________________________________________________________________\n",
            "Layer (type)                 Output Shape              Param #   \n",
            "=================================================================\n",
            "conv1d_12 (Conv1D)           (None, 40, 32)            28832     \n",
            "_________________________________________________________________\n",
            "max_pooling1d_11 (MaxPooling (None, 20, 32)            0         \n",
            "_________________________________________________________________\n",
            "conv1d_13 (Conv1D)           (None, 20, 16)            1552      \n",
            "_________________________________________________________________\n",
            "max_pooling1d_12 (MaxPooling (None, 10, 16)            0         \n",
            "_________________________________________________________________\n",
            "bidirectional_8 (Bidirection (None, 1024)              2166784   \n",
            "_________________________________________________________________\n",
            "dropout_8 (Dropout)          (None, 1024)              0         \n",
            "_________________________________________________________________\n",
            "dense_8 (Dense)              (None, 2)                 2050      \n",
            "=================================================================\n",
            "Total params: 2,199,218\n",
            "Trainable params: 2,199,218\n",
            "Non-trainable params: 0\n",
            "_________________________________________________________________\n"
          ],
          "name": "stdout"
        },
        {
          "output_type": "stream",
          "text": [
            "/usr/local/lib/python3.7/dist-packages/tensorflow/python/keras/optimizer_v2/optimizer_v2.py:375: UserWarning: The `lr` argument is deprecated, use `learning_rate` instead.\n",
            "  \"The `lr` argument is deprecated, use `learning_rate` instead.\")\n"
          ],
          "name": "stderr"
        }
      ]
    },
    {
      "cell_type": "code",
      "metadata": {
        "id": "hdb-dSGhuc3b"
      },
      "source": [
        "no_epochs = 10"
      ],
      "execution_count": null,
      "outputs": []
    },
    {
      "cell_type": "code",
      "metadata": {
        "colab": {
          "base_uri": "https://localhost:8080/"
        },
        "id": "JFJmugRGuVb0",
        "outputId": "9c878d47-af5e-4a45-d84b-20da56466a13"
      },
      "source": [
        "model.fit(x_train, y_train, shuffle=True, epochs=no_epochs,\n",
        "         validation_data=(x_test, y_test))"
      ],
      "execution_count": null,
      "outputs": [
        {
          "output_type": "stream",
          "text": [
            "Epoch 1/10\n",
            "45/45 [==============================] - 32s 546ms/step - loss: 0.6948 - accuracy: 0.4722 - val_loss: 0.6888 - val_accuracy: 0.5706\n",
            "Epoch 2/10\n",
            "45/45 [==============================] - 23s 505ms/step - loss: 0.6842 - accuracy: 0.5830 - val_loss: 0.6855 - val_accuracy: 0.5339\n",
            "Epoch 3/10\n",
            "45/45 [==============================] - 23s 520ms/step - loss: 0.6681 - accuracy: 0.5972 - val_loss: 0.6852 - val_accuracy: 0.5537\n",
            "Epoch 4/10\n",
            "45/45 [==============================] - 23s 508ms/step - loss: 0.6318 - accuracy: 0.6341 - val_loss: 0.6723 - val_accuracy: 0.6130\n",
            "Epoch 5/10\n",
            "45/45 [==============================] - 24s 523ms/step - loss: 0.5672 - accuracy: 0.7222 - val_loss: 0.7770 - val_accuracy: 0.6186\n",
            "Epoch 6/10\n",
            "45/45 [==============================] - 23s 518ms/step - loss: 0.5242 - accuracy: 0.7466 - val_loss: 0.6415 - val_accuracy: 0.6215\n",
            "Epoch 7/10\n",
            "45/45 [==============================] - 23s 501ms/step - loss: 0.4835 - accuracy: 0.7737 - val_loss: 0.7174 - val_accuracy: 0.5763\n",
            "Epoch 8/10\n",
            "45/45 [==============================] - 23s 508ms/step - loss: 0.5180 - accuracy: 0.7380 - val_loss: 0.8454 - val_accuracy: 0.6356\n",
            "Epoch 9/10\n",
            "45/45 [==============================] - 23s 511ms/step - loss: 0.4319 - accuracy: 0.8134 - val_loss: 0.7683 - val_accuracy: 0.6299\n",
            "Epoch 10/10\n",
            "45/45 [==============================] - 21s 472ms/step - loss: 0.3924 - accuracy: 0.8184 - val_loss: 0.7174 - val_accuracy: 0.6356\n"
          ],
          "name": "stdout"
        },
        {
          "output_type": "execute_result",
          "data": {
            "text/plain": [
              "<keras.callbacks.History at 0x7f64b6b24d10>"
            ]
          },
          "metadata": {
            "tags": []
          },
          "execution_count": 53
        }
      ]
    },
    {
      "cell_type": "code",
      "metadata": {
        "id": "Kf4GPDr-FUe6"
      },
      "source": [
        "newdataTweet = pd.read_csv('Layani_Dataset.csv')"
      ],
      "execution_count": null,
      "outputs": []
    },
    {
      "cell_type": "code",
      "metadata": {
        "id": "1C44VDo6Fe_R"
      },
      "source": [
        "newdataTweet['TextProcessed'] = newdataTweet['Text'].apply(processTweet)"
      ],
      "execution_count": null,
      "outputs": []
    },
    {
      "cell_type": "code",
      "metadata": {
        "id": "kZVFhuxzFmSh",
        "colab": {
          "base_uri": "https://localhost:8080/",
          "height": 66,
          "referenced_widgets": [
            "1de0fd25de1e4d2591f96f4c0dc6a681",
            "5bba9d89cfab4c40b71200117bdd5717",
            "dfe33aa679ab4f69b992d6b337f2afd5",
            "e47aacc569124afca41faca5616cdabc",
            "ed6627481fbc42628440d3c831488a1b",
            "758a0e902e714fa889e2a1bb4cf958b7",
            "8439e99e4b4c4ba2afd1cb307345edbc",
            "26b5ecfcc3004bbd959b3ea10cdf31c7"
          ]
        },
        "outputId": "06b38c35-fbbd-4563-a7c0-c7e049d2c079"
      },
      "source": [
        "newdataTweet['TextProcessed'] = newdataTweet['TextProcessed'].swifter.apply(remove_stopwords)"
      ],
      "execution_count": null,
      "outputs": [
        {
          "output_type": "display_data",
          "data": {
            "application/vnd.jupyter.widget-view+json": {
              "model_id": "1de0fd25de1e4d2591f96f4c0dc6a681",
              "version_minor": 0,
              "version_major": 2
            },
            "text/plain": [
              "HBox(children=(FloatProgress(value=0.0, description='Pandas Apply', max=1441.0, style=ProgressStyle(descriptio…"
            ]
          },
          "metadata": {
            "tags": []
          }
        },
        {
          "output_type": "stream",
          "text": [
            "\n"
          ],
          "name": "stdout"
        }
      ]
    },
    {
      "cell_type": "code",
      "metadata": {
        "id": "PHDwLsr5FzfV",
        "colab": {
          "base_uri": "https://localhost:8080/",
          "height": 66,
          "referenced_widgets": [
            "98d37149bc834230b48724088dbb2794",
            "6338abe7009e497580671087d08f6fa3",
            "382036c6593b49788f6b4ce7d45e71d4",
            "4a653f79caf84ffe821473a12325be97",
            "48f202b9060c4245b1a1420d294cf533",
            "53cbb92366ef4584b9d3ba74f4611ac8",
            "75d10feee63e489a8d22eb59b5115a98",
            "5d034c0b97a048cc9ab79f38370d3ede"
          ]
        },
        "outputId": "240b85e6-8719-49f3-9815-a2f18b139cd9"
      },
      "source": [
        "newdataTweet['TextProcessed'] = newdataTweet['TextProcessed'].swifter.apply(normalized_term)"
      ],
      "execution_count": null,
      "outputs": [
        {
          "output_type": "display_data",
          "data": {
            "application/vnd.jupyter.widget-view+json": {
              "model_id": "98d37149bc834230b48724088dbb2794",
              "version_minor": 0,
              "version_major": 2
            },
            "text/plain": [
              "HBox(children=(FloatProgress(value=0.0, description='Pandas Apply', max=1441.0, style=ProgressStyle(descriptio…"
            ]
          },
          "metadata": {
            "tags": []
          }
        },
        {
          "output_type": "stream",
          "text": [
            "\n"
          ],
          "name": "stdout"
        }
      ]
    },
    {
      "cell_type": "code",
      "metadata": {
        "id": "FLqeMjkUGD2G"
      },
      "source": [
        "for tweet in newdataTweet['TextProcessed']:\n",
        "    for word in tweet:\n",
        "        if word not in word_dict:\n",
        "            word_dict[word] = ' '            \n",
        "\n",
        "for word in word_dict:\n",
        "    word_dict[word] = stemmed_wrapper(word)"
      ],
      "execution_count": null,
      "outputs": []
    },
    {
      "cell_type": "code",
      "metadata": {
        "id": "Jtd_a_ygF1zg"
      },
      "source": [
        "newdataTweet['TextProcessed'] = newdataTweet['TextProcessed'].swifter.apply(get_stemmed_term)"
      ],
      "execution_count": null,
      "outputs": []
    },
    {
      "cell_type": "code",
      "metadata": {
        "id": "NGKR5xBkHdi3"
      },
      "source": [
        "predict_size = int((len(newdataTweet['TextProcessed'])))\n",
        "\n",
        "max_no_tokens = 40\n",
        "\n",
        "indexes = set(np.random.choice(len(newdataTweet['Text']), predict_size, replace=False))\n",
        "\n",
        "x_predict = np.zeros((predict_size, max_no_tokens, 300), dtype=K.floatx())"
      ],
      "execution_count": null,
      "outputs": []
    },
    {
      "cell_type": "code",
      "metadata": {
        "id": "U6gZLBSKG1H4"
      },
      "source": [
        "for i, index in enumerate(indexes):\n",
        "    for t, token in enumerate(newdataTweet['TextProcessed'][index]):\n",
        "        if t >= max_no_tokens:\n",
        "            break\n",
        "      \n",
        "        if token not in ft_model.wv:\n",
        "            continue\n",
        "\n",
        "        x_predict[i, t, :] = ft_model.wv[token]"
      ],
      "execution_count": null,
      "outputs": []
    },
    {
      "cell_type": "code",
      "metadata": {
        "id": "LbmU-YxVHDZt"
      },
      "source": [
        "x_predict.shape"
      ],
      "execution_count": null,
      "outputs": []
    },
    {
      "cell_type": "code",
      "metadata": {
        "id": "ZzRX-QwXKPsd"
      },
      "source": [
        "prediction = model.predict(x_predict)\n",
        "predlabel = []\n",
        "complaint = []\n",
        "false = 0\n",
        "for i in range(len(x_predict)):\n",
        "  if prediction[i][0] < prediction[i][1]:\n",
        "    complaint.append(newdataTweet['Text'][i])\n",
        "    predlabel.append(1)\n",
        "  else:\n",
        "    predlabel.append(0)\n",
        "    \n",
        "  if predlabel[i] != newdataTweet[\"Label\"][i]:\n",
        "    false +=1\n",
        "acc = 1 - false/len(x_predict)\n",
        "print(\"Model Acc = \", acc, \"\\n\")\n",
        "print(complaint)"
      ],
      "execution_count": null,
      "outputs": []
    },
    {
      "cell_type": "code",
      "metadata": {
        "id": "UvS184qdRo0k"
      },
      "source": [
        "import tensorflow as tf\n",
        "from tensorflow import keras\n",
        "from tensorflow.keras.preprocessing.text import Tokenizer\n",
        "from tensorflow.keras.preprocessing.sequence import pad_sequences\n",
        "from tensorflow.keras import layers\n",
        "from keras.models import load_model"
      ],
      "execution_count": null,
      "outputs": []
    },
    {
      "cell_type": "code",
      "metadata": {
        "id": "Pa_N5eGbRAra"
      },
      "source": [
        "def split_data(dataset):\n",
        "  dataset = dataset.sample(frac=1, random_state=42)\n",
        "  train_data, val_data = dataset[80:], dataset[:80]\n",
        "  train_tweets = train_data.Text.to_numpy()\n",
        "  train_labels = train_data.Label.to_numpy()\n",
        "  train_vec = train_data.Vec.to_numpy()\n",
        "  val_tweets = val_data.Text.to_numpy()\n",
        "  val_labels = val_data.Label.to_numpy()\n",
        "  val_vec = val_data.Vec.to_numpy()\n",
        "  return train_data, train_tweets, train_labels, train_vec, val_data, val_tweets, val_labels, val_vec\n",
        "\n",
        "train_data, train_tweets, train_labels, train_vec, val_data, val_tweets, val_labels, val_vec = split_data(dataTweet)\n",
        "#test_tweets = new_dataTweet.Text.to_numpy()"
      ],
      "execution_count": null,
      "outputs": []
    },
    {
      "cell_type": "code",
      "metadata": {
        "id": "SWVS4NQtZEN-"
      },
      "source": [
        "val_vec = val_vec.reshape(-1,1)\n",
        "train_vec = train_vec.reshape(-1,1)\n",
        "val_vec = np.concatenate(np.concatenate(val_vec, axis = 0), axis = 0)\n",
        "train_vec = np.concatenate(np.concatenate(train_vec, axis = 0), axis = 0)\n",
        "\n",
        "print(val_vec.shape)\n",
        "print(train_vec.shape)"
      ],
      "execution_count": null,
      "outputs": []
    },
    {
      "cell_type": "code",
      "metadata": {
        "id": "EUAasx5NZsqR"
      },
      "source": [
        "def embedding(text):\n",
        "  tokenizer = Tokenizer(num_words = total_unique)\n",
        "  tokenizer.fit_on_texts(text)\n",
        "  word_index = tokenizer.word_index\n",
        "  text_sequences = tokenizer.texts_to_sequences(text)\n",
        "  return text_sequences\n",
        "\n",
        "def padding(text_seq):\n",
        "  text_padded = pad_sequences(text_seq, maxlen=40, padding=\"post\", truncating=\"post\")\n",
        "  return text_padded"
      ],
      "execution_count": null,
      "outputs": []
    },
    {
      "cell_type": "code",
      "metadata": {
        "id": "l7uRooVpZtfn"
      },
      "source": [
        "train_sequences = embedding(train_tweets)\n",
        "train_padded = padding(train_sequences)\n",
        "val_sequences = embedding(val_tweets)\n",
        "val_padded = padding(val_sequences)\n",
        "#test_sequences = embedding(test_tweets)\n",
        "#test_padded = padding(test_sequences)"
      ],
      "execution_count": null,
      "outputs": []
    },
    {
      "cell_type": "code",
      "metadata": {
        "id": "RurYKSFc9WpS"
      },
      "source": [
        "model = keras.models.Sequential()\n",
        "model.add(layers.Embedding(total_unique, 32, input_length=40))\n",
        "model.add(layers.LSTM(64, dropout=0.1))\n",
        "model.add(layers.Dense(1, activation='sigmoid'))\n",
        "\n",
        "loss = keras.losses.BinaryCrossentropy(from_logits=False)\n",
        "optim = keras.optimizers.Adam(learning_rate=0.0005)\n",
        "metrics = [\"accuracy\"]\n",
        "\n",
        "model.compile(loss=loss, optimizer=optim, metrics=metrics)\n",
        "\n",
        "model.fit(train_vec, train_labels, epochs=10, validation_data=(val_vec, val_labels), verbose=2)"
      ],
      "execution_count": null,
      "outputs": []
    }
  ]
}